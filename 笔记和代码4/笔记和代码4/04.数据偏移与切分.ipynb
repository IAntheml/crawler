{
 "cells": [
  {
   "cell_type": "code",
   "execution_count": 18,
   "id": "d385b5c4",
   "metadata": {},
   "outputs": [],
   "source": [
    "import numpy as np\n",
    "import pandas as pd"
   ]
  },
  {
   "cell_type": "code",
   "execution_count": 19,
   "id": "2e852cd0",
   "metadata": {
    "lines_to_next_cell": 2
   },
   "outputs": [
    {
     "data": {
      "text/html": [
       "<div>\n",
       "<style scoped>\n",
       "    .dataframe tbody tr th:only-of-type {\n",
       "        vertical-align: middle;\n",
       "    }\n",
       "\n",
       "    .dataframe tbody tr th {\n",
       "        vertical-align: top;\n",
       "    }\n",
       "\n",
       "    .dataframe thead th {\n",
       "        text-align: right;\n",
       "    }\n",
       "</style>\n",
       "<table border=\"1\" class=\"dataframe\">\n",
       "  <thead>\n",
       "    <tr style=\"text-align: right;\">\n",
       "      <th></th>\n",
       "      <th>日期</th>\n",
       "      <th>销量</th>\n",
       "    </tr>\n",
       "  </thead>\n",
       "  <tbody>\n",
       "    <tr>\n",
       "      <th>0</th>\n",
       "      <td>2021-01-01</td>\n",
       "      <td>6961</td>\n",
       "    </tr>\n",
       "    <tr>\n",
       "      <th>1</th>\n",
       "      <td>2021-01-02</td>\n",
       "      <td>2047</td>\n",
       "    </tr>\n",
       "    <tr>\n",
       "      <th>2</th>\n",
       "      <td>2021-01-03</td>\n",
       "      <td>4205</td>\n",
       "    </tr>\n",
       "    <tr>\n",
       "      <th>3</th>\n",
       "      <td>2021-01-05</td>\n",
       "      <td>8988</td>\n",
       "    </tr>\n",
       "    <tr>\n",
       "      <th>4</th>\n",
       "      <td>2021-01-06</td>\n",
       "      <td>6658</td>\n",
       "    </tr>\n",
       "  </tbody>\n",
       "</table>\n",
       "</div>"
      ],
      "text/plain": [
       "          日期    销量\n",
       "0 2021-01-01  6961\n",
       "1 2021-01-02  2047\n",
       "2 2021-01-03  4205\n",
       "3 2021-01-05  8988\n",
       "4 2021-01-06  6658"
      ]
     },
     "execution_count": 19,
     "metadata": {},
     "output_type": "execute_result"
    }
   ],
   "source": [
    "df = pd.read_excel('./data/demo_04.xlsx', sheet_name='Sheet1')\n",
    "df.head()"
   ]
  },
  {
   "cell_type": "markdown",
   "id": "ec1e638d",
   "metadata": {},
   "source": [
    "# 数据偏移"
   ]
  },
  {
   "cell_type": "markdown",
   "id": "d485606b",
   "metadata": {},
   "source": [
    "## shift函数\n",
    "- 销量增长率 = (本期销量 - 上期销量) / 上期销量"
   ]
  },
  {
   "cell_type": "code",
   "execution_count": 20,
   "id": "7dcdb773",
   "metadata": {},
   "outputs": [],
   "source": [
    "tb = df.set_index('日期')\n",
    "tb['上期销量'] = tb['销量'].shift(periods=1, freq='D')\n",
    "# tb['销量增长率'] = (tb['销量'] - tb['上期销量']) / tb['上期销量']\n",
    "tb.eval('销量增长率=(销量-上期销量)/上期销量', inplace=True)"
   ]
  },
  {
   "cell_type": "code",
   "execution_count": 21,
   "id": "8022ea25",
   "metadata": {},
   "outputs": [
    {
     "data": {
      "text/html": [
       "<div>\n",
       "<style scoped>\n",
       "    .dataframe tbody tr th:only-of-type {\n",
       "        vertical-align: middle;\n",
       "    }\n",
       "\n",
       "    .dataframe tbody tr th {\n",
       "        vertical-align: top;\n",
       "    }\n",
       "\n",
       "    .dataframe thead th {\n",
       "        text-align: right;\n",
       "    }\n",
       "</style>\n",
       "<table border=\"1\" class=\"dataframe\">\n",
       "  <thead>\n",
       "    <tr style=\"text-align: right;\">\n",
       "      <th></th>\n",
       "      <th>销量</th>\n",
       "      <th>上期销量</th>\n",
       "      <th>销量增长率</th>\n",
       "    </tr>\n",
       "    <tr>\n",
       "      <th>日期</th>\n",
       "      <th></th>\n",
       "      <th></th>\n",
       "      <th></th>\n",
       "    </tr>\n",
       "  </thead>\n",
       "  <tbody>\n",
       "    <tr>\n",
       "      <th>2021-01-01</th>\n",
       "      <td>6961</td>\n",
       "      <td>NaN</td>\n",
       "      <td>NaN</td>\n",
       "    </tr>\n",
       "    <tr>\n",
       "      <th>2021-01-02</th>\n",
       "      <td>2047</td>\n",
       "      <td>6961.0</td>\n",
       "      <td>-70.59%</td>\n",
       "    </tr>\n",
       "    <tr>\n",
       "      <th>2021-01-03</th>\n",
       "      <td>4205</td>\n",
       "      <td>2047.0</td>\n",
       "      <td>105.42%</td>\n",
       "    </tr>\n",
       "    <tr>\n",
       "      <th>2021-01-05</th>\n",
       "      <td>8988</td>\n",
       "      <td>NaN</td>\n",
       "      <td>NaN</td>\n",
       "    </tr>\n",
       "    <tr>\n",
       "      <th>2021-01-06</th>\n",
       "      <td>6658</td>\n",
       "      <td>8988.0</td>\n",
       "      <td>-25.92%</td>\n",
       "    </tr>\n",
       "    <tr>\n",
       "      <th>...</th>\n",
       "      <td>...</td>\n",
       "      <td>...</td>\n",
       "      <td>...</td>\n",
       "    </tr>\n",
       "    <tr>\n",
       "      <th>2021-06-26</th>\n",
       "      <td>5822</td>\n",
       "      <td>6863.0</td>\n",
       "      <td>-15.17%</td>\n",
       "    </tr>\n",
       "    <tr>\n",
       "      <th>2021-06-27</th>\n",
       "      <td>4317</td>\n",
       "      <td>5822.0</td>\n",
       "      <td>-25.85%</td>\n",
       "    </tr>\n",
       "    <tr>\n",
       "      <th>2021-06-28</th>\n",
       "      <td>4971</td>\n",
       "      <td>4317.0</td>\n",
       "      <td>15.15%</td>\n",
       "    </tr>\n",
       "    <tr>\n",
       "      <th>2021-06-29</th>\n",
       "      <td>3742</td>\n",
       "      <td>4971.0</td>\n",
       "      <td>-24.72%</td>\n",
       "    </tr>\n",
       "    <tr>\n",
       "      <th>2021-06-30</th>\n",
       "      <td>1309</td>\n",
       "      <td>3742.0</td>\n",
       "      <td>-65.02%</td>\n",
       "    </tr>\n",
       "  </tbody>\n",
       "</table>\n",
       "<p>180 rows × 3 columns</p>\n",
       "</div>"
      ],
      "text/plain": [
       "              销量    上期销量    销量增长率\n",
       "日期                               \n",
       "2021-01-01  6961     NaN      NaN\n",
       "2021-01-02  2047  6961.0  -70.59%\n",
       "2021-01-03  4205  2047.0  105.42%\n",
       "2021-01-05  8988     NaN      NaN\n",
       "2021-01-06  6658  8988.0  -25.92%\n",
       "...          ...     ...      ...\n",
       "2021-06-26  5822  6863.0  -15.17%\n",
       "2021-06-27  4317  5822.0  -25.85%\n",
       "2021-06-28  4971  4317.0   15.15%\n",
       "2021-06-29  3742  4971.0  -24.72%\n",
       "2021-06-30  1309  3742.0  -65.02%\n",
       "\n",
       "[180 rows x 3 columns]"
      ]
     },
     "execution_count": 21,
     "metadata": {},
     "output_type": "execute_result"
    }
   ],
   "source": [
    "tb['销量增长率'] = tb['销量增长率'].apply(\n",
    "    lambda x: np.nan if pd.isnull(x) else '{:.2%}'.format(x))\n",
    "tb"
   ]
  },
  {
   "cell_type": "markdown",
   "id": "885cc5ce",
   "metadata": {},
   "source": [
    "## diff函数\n",
    "- 偏移后计算差异"
   ]
  },
  {
   "cell_type": "code",
   "execution_count": 24,
   "id": "056e646b",
   "metadata": {},
   "outputs": [
    {
     "data": {
      "text/html": [
       "<div>\n",
       "<style scoped>\n",
       "    .dataframe tbody tr th:only-of-type {\n",
       "        vertical-align: middle;\n",
       "    }\n",
       "\n",
       "    .dataframe tbody tr th {\n",
       "        vertical-align: top;\n",
       "    }\n",
       "\n",
       "    .dataframe thead th {\n",
       "        text-align: right;\n",
       "    }\n",
       "</style>\n",
       "<table border=\"1\" class=\"dataframe\">\n",
       "  <thead>\n",
       "    <tr style=\"text-align: right;\">\n",
       "      <th></th>\n",
       "      <th>销量</th>\n",
       "      <th>上期销量</th>\n",
       "      <th>销量增长率</th>\n",
       "      <th>diff</th>\n",
       "    </tr>\n",
       "    <tr>\n",
       "      <th>日期</th>\n",
       "      <th></th>\n",
       "      <th></th>\n",
       "      <th></th>\n",
       "      <th></th>\n",
       "    </tr>\n",
       "  </thead>\n",
       "  <tbody>\n",
       "    <tr>\n",
       "      <th>2021-01-01</th>\n",
       "      <td>6961</td>\n",
       "      <td>NaN</td>\n",
       "      <td>NaN</td>\n",
       "      <td>NaN</td>\n",
       "    </tr>\n",
       "    <tr>\n",
       "      <th>2021-01-02</th>\n",
       "      <td>2047</td>\n",
       "      <td>6961.0</td>\n",
       "      <td>-70.59%</td>\n",
       "      <td>-4914.0</td>\n",
       "    </tr>\n",
       "    <tr>\n",
       "      <th>2021-01-03</th>\n",
       "      <td>4205</td>\n",
       "      <td>2047.0</td>\n",
       "      <td>105.42%</td>\n",
       "      <td>2158.0</td>\n",
       "    </tr>\n",
       "    <tr>\n",
       "      <th>2021-01-05</th>\n",
       "      <td>8988</td>\n",
       "      <td>NaN</td>\n",
       "      <td>NaN</td>\n",
       "      <td>4783.0</td>\n",
       "    </tr>\n",
       "    <tr>\n",
       "      <th>2021-01-06</th>\n",
       "      <td>6658</td>\n",
       "      <td>8988.0</td>\n",
       "      <td>-25.92%</td>\n",
       "      <td>-2330.0</td>\n",
       "    </tr>\n",
       "    <tr>\n",
       "      <th>...</th>\n",
       "      <td>...</td>\n",
       "      <td>...</td>\n",
       "      <td>...</td>\n",
       "      <td>...</td>\n",
       "    </tr>\n",
       "    <tr>\n",
       "      <th>2021-06-26</th>\n",
       "      <td>5822</td>\n",
       "      <td>6863.0</td>\n",
       "      <td>-15.17%</td>\n",
       "      <td>-1041.0</td>\n",
       "    </tr>\n",
       "    <tr>\n",
       "      <th>2021-06-27</th>\n",
       "      <td>4317</td>\n",
       "      <td>5822.0</td>\n",
       "      <td>-25.85%</td>\n",
       "      <td>-1505.0</td>\n",
       "    </tr>\n",
       "    <tr>\n",
       "      <th>2021-06-28</th>\n",
       "      <td>4971</td>\n",
       "      <td>4317.0</td>\n",
       "      <td>15.15%</td>\n",
       "      <td>654.0</td>\n",
       "    </tr>\n",
       "    <tr>\n",
       "      <th>2021-06-29</th>\n",
       "      <td>3742</td>\n",
       "      <td>4971.0</td>\n",
       "      <td>-24.72%</td>\n",
       "      <td>-1229.0</td>\n",
       "    </tr>\n",
       "    <tr>\n",
       "      <th>2021-06-30</th>\n",
       "      <td>1309</td>\n",
       "      <td>3742.0</td>\n",
       "      <td>-65.02%</td>\n",
       "      <td>-2433.0</td>\n",
       "    </tr>\n",
       "  </tbody>\n",
       "</table>\n",
       "<p>180 rows × 4 columns</p>\n",
       "</div>"
      ],
      "text/plain": [
       "              销量    上期销量    销量增长率    diff\n",
       "日期                                       \n",
       "2021-01-01  6961     NaN      NaN     NaN\n",
       "2021-01-02  2047  6961.0  -70.59% -4914.0\n",
       "2021-01-03  4205  2047.0  105.42%  2158.0\n",
       "2021-01-05  8988     NaN      NaN  4783.0\n",
       "2021-01-06  6658  8988.0  -25.92% -2330.0\n",
       "...          ...     ...      ...     ...\n",
       "2021-06-26  5822  6863.0  -15.17% -1041.0\n",
       "2021-06-27  4317  5822.0  -25.85% -1505.0\n",
       "2021-06-28  4971  4317.0   15.15%   654.0\n",
       "2021-06-29  3742  4971.0  -24.72% -1229.0\n",
       "2021-06-30  1309  3742.0  -65.02% -2433.0\n",
       "\n",
       "[180 rows x 4 columns]"
      ]
     },
     "execution_count": 24,
     "metadata": {},
     "output_type": "execute_result"
    }
   ],
   "source": [
    "tb['diff'] = tb['销量'].diff(periods=1)\n",
    "tb"
   ]
  },
  {
   "cell_type": "markdown",
   "id": "5e6fe18c",
   "metadata": {},
   "source": [
    "## pct_change函数\n",
    "- 偏移后计算差异百分比"
   ]
  },
  {
   "cell_type": "code",
   "execution_count": 25,
   "id": "3de0c8c7",
   "metadata": {
    "lines_to_next_cell": 2
   },
   "outputs": [
    {
     "data": {
      "text/html": [
       "<div>\n",
       "<style scoped>\n",
       "    .dataframe tbody tr th:only-of-type {\n",
       "        vertical-align: middle;\n",
       "    }\n",
       "\n",
       "    .dataframe tbody tr th {\n",
       "        vertical-align: top;\n",
       "    }\n",
       "\n",
       "    .dataframe thead th {\n",
       "        text-align: right;\n",
       "    }\n",
       "</style>\n",
       "<table border=\"1\" class=\"dataframe\">\n",
       "  <thead>\n",
       "    <tr style=\"text-align: right;\">\n",
       "      <th></th>\n",
       "      <th>销量</th>\n",
       "      <th>上期销量</th>\n",
       "      <th>销量增长率</th>\n",
       "      <th>diff</th>\n",
       "      <th>pct_change</th>\n",
       "    </tr>\n",
       "    <tr>\n",
       "      <th>日期</th>\n",
       "      <th></th>\n",
       "      <th></th>\n",
       "      <th></th>\n",
       "      <th></th>\n",
       "      <th></th>\n",
       "    </tr>\n",
       "  </thead>\n",
       "  <tbody>\n",
       "    <tr>\n",
       "      <th>2021-01-01</th>\n",
       "      <td>6961</td>\n",
       "      <td>NaN</td>\n",
       "      <td>NaN</td>\n",
       "      <td>NaN</td>\n",
       "      <td>NaN</td>\n",
       "    </tr>\n",
       "    <tr>\n",
       "      <th>2021-01-02</th>\n",
       "      <td>2047</td>\n",
       "      <td>6961.0</td>\n",
       "      <td>-70.59%</td>\n",
       "      <td>-4914.0</td>\n",
       "      <td>-0.705933</td>\n",
       "    </tr>\n",
       "    <tr>\n",
       "      <th>2021-01-03</th>\n",
       "      <td>4205</td>\n",
       "      <td>2047.0</td>\n",
       "      <td>105.42%</td>\n",
       "      <td>2158.0</td>\n",
       "      <td>1.054226</td>\n",
       "    </tr>\n",
       "    <tr>\n",
       "      <th>2021-01-05</th>\n",
       "      <td>8988</td>\n",
       "      <td>NaN</td>\n",
       "      <td>NaN</td>\n",
       "      <td>4783.0</td>\n",
       "      <td>NaN</td>\n",
       "    </tr>\n",
       "    <tr>\n",
       "      <th>2021-01-06</th>\n",
       "      <td>6658</td>\n",
       "      <td>8988.0</td>\n",
       "      <td>-25.92%</td>\n",
       "      <td>-2330.0</td>\n",
       "      <td>-0.259235</td>\n",
       "    </tr>\n",
       "    <tr>\n",
       "      <th>...</th>\n",
       "      <td>...</td>\n",
       "      <td>...</td>\n",
       "      <td>...</td>\n",
       "      <td>...</td>\n",
       "      <td>...</td>\n",
       "    </tr>\n",
       "    <tr>\n",
       "      <th>2021-06-26</th>\n",
       "      <td>5822</td>\n",
       "      <td>6863.0</td>\n",
       "      <td>-15.17%</td>\n",
       "      <td>-1041.0</td>\n",
       "      <td>-0.151683</td>\n",
       "    </tr>\n",
       "    <tr>\n",
       "      <th>2021-06-27</th>\n",
       "      <td>4317</td>\n",
       "      <td>5822.0</td>\n",
       "      <td>-25.85%</td>\n",
       "      <td>-1505.0</td>\n",
       "      <td>-0.258502</td>\n",
       "    </tr>\n",
       "    <tr>\n",
       "      <th>2021-06-28</th>\n",
       "      <td>4971</td>\n",
       "      <td>4317.0</td>\n",
       "      <td>15.15%</td>\n",
       "      <td>654.0</td>\n",
       "      <td>0.151494</td>\n",
       "    </tr>\n",
       "    <tr>\n",
       "      <th>2021-06-29</th>\n",
       "      <td>3742</td>\n",
       "      <td>4971.0</td>\n",
       "      <td>-24.72%</td>\n",
       "      <td>-1229.0</td>\n",
       "      <td>-0.247234</td>\n",
       "    </tr>\n",
       "    <tr>\n",
       "      <th>2021-06-30</th>\n",
       "      <td>1309</td>\n",
       "      <td>3742.0</td>\n",
       "      <td>-65.02%</td>\n",
       "      <td>-2433.0</td>\n",
       "      <td>-0.650187</td>\n",
       "    </tr>\n",
       "  </tbody>\n",
       "</table>\n",
       "<p>180 rows × 5 columns</p>\n",
       "</div>"
      ],
      "text/plain": [
       "              销量    上期销量    销量增长率    diff  pct_change\n",
       "日期                                                   \n",
       "2021-01-01  6961     NaN      NaN     NaN         NaN\n",
       "2021-01-02  2047  6961.0  -70.59% -4914.0   -0.705933\n",
       "2021-01-03  4205  2047.0  105.42%  2158.0    1.054226\n",
       "2021-01-05  8988     NaN      NaN  4783.0         NaN\n",
       "2021-01-06  6658  8988.0  -25.92% -2330.0   -0.259235\n",
       "...          ...     ...      ...     ...         ...\n",
       "2021-06-26  5822  6863.0  -15.17% -1041.0   -0.151683\n",
       "2021-06-27  4317  5822.0  -25.85% -1505.0   -0.258502\n",
       "2021-06-28  4971  4317.0   15.15%   654.0    0.151494\n",
       "2021-06-29  3742  4971.0  -24.72% -1229.0   -0.247234\n",
       "2021-06-30  1309  3742.0  -65.02% -2433.0   -0.650187\n",
       "\n",
       "[180 rows x 5 columns]"
      ]
     },
     "execution_count": 25,
     "metadata": {},
     "output_type": "execute_result"
    }
   ],
   "source": [
    "tb['pct_change'] = tb['销量'].pct_change(periods=1, freq='D')\n",
    "tb"
   ]
  },
  {
   "cell_type": "markdown",
   "id": "108081c0",
   "metadata": {},
   "source": [
    "## rolling函数\n",
    "- 滚动计算，计算近3天平均销量"
   ]
  },
  {
   "cell_type": "code",
   "execution_count": 28,
   "id": "0d88f4a1",
   "metadata": {
    "lines_to_next_cell": 0,
    "scrolled": true
   },
   "outputs": [
    {
     "data": {
      "text/html": [
       "<div>\n",
       "<style scoped>\n",
       "    .dataframe tbody tr th:only-of-type {\n",
       "        vertical-align: middle;\n",
       "    }\n",
       "\n",
       "    .dataframe tbody tr th {\n",
       "        vertical-align: top;\n",
       "    }\n",
       "\n",
       "    .dataframe thead th {\n",
       "        text-align: right;\n",
       "    }\n",
       "</style>\n",
       "<table border=\"1\" class=\"dataframe\">\n",
       "  <thead>\n",
       "    <tr style=\"text-align: right;\">\n",
       "      <th></th>\n",
       "      <th>销量</th>\n",
       "      <th>上期销量</th>\n",
       "      <th>销量增长率</th>\n",
       "      <th>diff</th>\n",
       "      <th>pct_change</th>\n",
       "      <th>近3天平均销量</th>\n",
       "    </tr>\n",
       "    <tr>\n",
       "      <th>日期</th>\n",
       "      <th></th>\n",
       "      <th></th>\n",
       "      <th></th>\n",
       "      <th></th>\n",
       "      <th></th>\n",
       "      <th></th>\n",
       "    </tr>\n",
       "  </thead>\n",
       "  <tbody>\n",
       "    <tr>\n",
       "      <th>2021-01-01</th>\n",
       "      <td>6961</td>\n",
       "      <td>NaN</td>\n",
       "      <td>NaN</td>\n",
       "      <td>NaN</td>\n",
       "      <td>NaN</td>\n",
       "      <td>6961.000000</td>\n",
       "    </tr>\n",
       "    <tr>\n",
       "      <th>2021-01-02</th>\n",
       "      <td>2047</td>\n",
       "      <td>6961.0</td>\n",
       "      <td>-70.59%</td>\n",
       "      <td>-4914.0</td>\n",
       "      <td>-0.705933</td>\n",
       "      <td>4504.000000</td>\n",
       "    </tr>\n",
       "    <tr>\n",
       "      <th>2021-01-03</th>\n",
       "      <td>4205</td>\n",
       "      <td>2047.0</td>\n",
       "      <td>105.42%</td>\n",
       "      <td>2158.0</td>\n",
       "      <td>1.054226</td>\n",
       "      <td>4404.333333</td>\n",
       "    </tr>\n",
       "    <tr>\n",
       "      <th>2021-01-05</th>\n",
       "      <td>8988</td>\n",
       "      <td>NaN</td>\n",
       "      <td>NaN</td>\n",
       "      <td>4783.0</td>\n",
       "      <td>NaN</td>\n",
       "      <td>5080.000000</td>\n",
       "    </tr>\n",
       "    <tr>\n",
       "      <th>2021-01-06</th>\n",
       "      <td>6658</td>\n",
       "      <td>8988.0</td>\n",
       "      <td>-25.92%</td>\n",
       "      <td>-2330.0</td>\n",
       "      <td>-0.259235</td>\n",
       "      <td>6617.000000</td>\n",
       "    </tr>\n",
       "    <tr>\n",
       "      <th>...</th>\n",
       "      <td>...</td>\n",
       "      <td>...</td>\n",
       "      <td>...</td>\n",
       "      <td>...</td>\n",
       "      <td>...</td>\n",
       "      <td>...</td>\n",
       "    </tr>\n",
       "    <tr>\n",
       "      <th>2021-06-26</th>\n",
       "      <td>5822</td>\n",
       "      <td>6863.0</td>\n",
       "      <td>-15.17%</td>\n",
       "      <td>-1041.0</td>\n",
       "      <td>-0.151683</td>\n",
       "      <td>4787.333333</td>\n",
       "    </tr>\n",
       "    <tr>\n",
       "      <th>2021-06-27</th>\n",
       "      <td>4317</td>\n",
       "      <td>5822.0</td>\n",
       "      <td>-25.85%</td>\n",
       "      <td>-1505.0</td>\n",
       "      <td>-0.258502</td>\n",
       "      <td>5667.333333</td>\n",
       "    </tr>\n",
       "    <tr>\n",
       "      <th>2021-06-28</th>\n",
       "      <td>4971</td>\n",
       "      <td>4317.0</td>\n",
       "      <td>15.15%</td>\n",
       "      <td>654.0</td>\n",
       "      <td>0.151494</td>\n",
       "      <td>5036.666667</td>\n",
       "    </tr>\n",
       "    <tr>\n",
       "      <th>2021-06-29</th>\n",
       "      <td>3742</td>\n",
       "      <td>4971.0</td>\n",
       "      <td>-24.72%</td>\n",
       "      <td>-1229.0</td>\n",
       "      <td>-0.247234</td>\n",
       "      <td>4343.333333</td>\n",
       "    </tr>\n",
       "    <tr>\n",
       "      <th>2021-06-30</th>\n",
       "      <td>1309</td>\n",
       "      <td>3742.0</td>\n",
       "      <td>-65.02%</td>\n",
       "      <td>-2433.0</td>\n",
       "      <td>-0.650187</td>\n",
       "      <td>3340.666667</td>\n",
       "    </tr>\n",
       "  </tbody>\n",
       "</table>\n",
       "<p>180 rows × 6 columns</p>\n",
       "</div>"
      ],
      "text/plain": [
       "              销量    上期销量    销量增长率    diff  pct_change      近3天平均销量\n",
       "日期                                                                \n",
       "2021-01-01  6961     NaN      NaN     NaN         NaN  6961.000000\n",
       "2021-01-02  2047  6961.0  -70.59% -4914.0   -0.705933  4504.000000\n",
       "2021-01-03  4205  2047.0  105.42%  2158.0    1.054226  4404.333333\n",
       "2021-01-05  8988     NaN      NaN  4783.0         NaN  5080.000000\n",
       "2021-01-06  6658  8988.0  -25.92% -2330.0   -0.259235  6617.000000\n",
       "...          ...     ...      ...     ...         ...          ...\n",
       "2021-06-26  5822  6863.0  -15.17% -1041.0   -0.151683  4787.333333\n",
       "2021-06-27  4317  5822.0  -25.85% -1505.0   -0.258502  5667.333333\n",
       "2021-06-28  4971  4317.0   15.15%   654.0    0.151494  5036.666667\n",
       "2021-06-29  3742  4971.0  -24.72% -1229.0   -0.247234  4343.333333\n",
       "2021-06-30  1309  3742.0  -65.02% -2433.0   -0.650187  3340.666667\n",
       "\n",
       "[180 rows x 6 columns]"
      ]
     },
     "execution_count": 28,
     "metadata": {},
     "output_type": "execute_result"
    }
   ],
   "source": [
    "tb['近3天平均销量'] = tb['销量'].rolling(window=3, min_periods=1).mean()\n",
    "tb"
   ]
  },
  {
   "cell_type": "markdown",
   "id": "c4fcfd25",
   "metadata": {},
   "source": [
    "# 数据切分"
   ]
  },
  {
   "cell_type": "code",
   "execution_count": 30,
   "id": "8349e1ae",
   "metadata": {},
   "outputs": [
    {
     "data": {
      "text/html": [
       "<div>\n",
       "<style scoped>\n",
       "    .dataframe tbody tr th:only-of-type {\n",
       "        vertical-align: middle;\n",
       "    }\n",
       "\n",
       "    .dataframe tbody tr th {\n",
       "        vertical-align: top;\n",
       "    }\n",
       "\n",
       "    .dataframe thead th {\n",
       "        text-align: right;\n",
       "    }\n",
       "</style>\n",
       "<table border=\"1\" class=\"dataframe\">\n",
       "  <thead>\n",
       "    <tr style=\"text-align: right;\">\n",
       "      <th></th>\n",
       "      <th>学号</th>\n",
       "      <th>成绩</th>\n",
       "    </tr>\n",
       "  </thead>\n",
       "  <tbody>\n",
       "    <tr>\n",
       "      <th>0</th>\n",
       "      <td>A001</td>\n",
       "      <td>93</td>\n",
       "    </tr>\n",
       "    <tr>\n",
       "      <th>1</th>\n",
       "      <td>A002</td>\n",
       "      <td>35</td>\n",
       "    </tr>\n",
       "    <tr>\n",
       "      <th>2</th>\n",
       "      <td>A003</td>\n",
       "      <td>54</td>\n",
       "    </tr>\n",
       "    <tr>\n",
       "      <th>3</th>\n",
       "      <td>A004</td>\n",
       "      <td>76</td>\n",
       "    </tr>\n",
       "    <tr>\n",
       "      <th>4</th>\n",
       "      <td>A005</td>\n",
       "      <td>53</td>\n",
       "    </tr>\n",
       "  </tbody>\n",
       "</table>\n",
       "</div>"
      ],
      "text/plain": [
       "     学号  成绩\n",
       "0  A001  93\n",
       "1  A002  35\n",
       "2  A003  54\n",
       "3  A004  76\n",
       "4  A005  53"
      ]
     },
     "execution_count": 30,
     "metadata": {},
     "output_type": "execute_result"
    }
   ],
   "source": [
    "tb = pd.read_excel('./data/demo_04.xlsx', sheet_name='Sheet2')\n",
    "tb.head()"
   ]
  },
  {
   "cell_type": "markdown",
   "id": "aa20693e",
   "metadata": {},
   "source": [
    "## cut函数"
   ]
  },
  {
   "cell_type": "markdown",
   "id": "ff30575f",
   "metadata": {},
   "source": [
    "### 指定箱数，等距分箱\n",
    "- 10组"
   ]
  },
  {
   "cell_type": "code",
   "execution_count": 33,
   "id": "716ef766",
   "metadata": {
    "scrolled": true
   },
   "outputs": [
    {
     "data": {
      "text/plain": [
       "[36.4, 48.2)        17\n",
       "[107.2, 119.118)    15\n",
       "[1.0, 12.8)         11\n",
       "[24.6, 36.4)        10\n",
       "[71.8, 83.6)        10\n",
       "[60.0, 71.8)         9\n",
       "[95.4, 107.2)        9\n",
       "[48.2, 60.0)         7\n",
       "[12.8, 24.6)         6\n",
       "[83.6, 95.4)         6\n",
       "Name: 等距分箱, dtype: int64"
      ]
     },
     "execution_count": 33,
     "metadata": {},
     "output_type": "execute_result"
    }
   ],
   "source": [
    "# x, 分组字段\n",
    "# bins, 分组数量\n",
    "# right=False, 左闭右开\n",
    "# right=True, 左开右闭\n",
    "# labels, 分箱标签\n",
    "tb['等距分箱'] = pd.cut(\n",
    "    x=tb['成绩'],\n",
    "    bins=10,\n",
    "    right=False)\n",
    "tb['等距分箱'].value_counts()"
   ]
  },
  {
   "cell_type": "markdown",
   "id": "1415ff70",
   "metadata": {},
   "source": [
    "### 指定区间分箱\n",
    "- [0, 60, 80, 100, 120]"
   ]
  },
  {
   "cell_type": "code",
   "execution_count": 37,
   "id": "3f588ac0",
   "metadata": {},
   "outputs": [
    {
     "data": {
      "text/plain": [
       "不及格    51\n",
       "优秀     22\n",
       "一般     17\n",
       "良好     10\n",
       "Name: 指定区间分箱, dtype: int64"
      ]
     },
     "execution_count": 37,
     "metadata": {},
     "output_type": "execute_result"
    }
   ],
   "source": [
    "tb['指定区间分箱'] = pd.cut(\n",
    "    x=tb['成绩'],\n",
    "    bins=[0, 60, 80, 100, 120],\n",
    "    right=False,\n",
    "    labels=['不及格', '一般', '良好', '优秀'])\n",
    "tb['指定区间分箱'].value_counts()"
   ]
  },
  {
   "cell_type": "markdown",
   "id": "ab455ce1",
   "metadata": {},
   "source": [
    "## qcut函数"
   ]
  },
  {
   "cell_type": "markdown",
   "id": "2d6d5a2a",
   "metadata": {},
   "source": [
    "### 指定分位数，等频分箱\n",
    "- 4组"
   ]
  },
  {
   "cell_type": "code",
   "execution_count": 39,
   "id": "f7742887",
   "metadata": {},
   "outputs": [
    {
     "data": {
      "text/plain": [
       "(0.999, 34.75]    25\n",
       "(34.75, 55.5]     25\n",
       "(55.5, 94.25]     25\n",
       "(94.25, 119.0]    25\n",
       "Name: 等频分箱, dtype: int64"
      ]
     },
     "execution_count": 39,
     "metadata": {},
     "output_type": "execute_result"
    }
   ],
   "source": [
    "# 默认左开右闭\n",
    "tb['等频分箱'] = pd.qcut(\n",
    "    x=tb['成绩'],\n",
    "    q=4)\n",
    "tb['等频分箱'].value_counts()\n",
    "# tb['成绩'].quantile(0.25)"
   ]
  },
  {
   "cell_type": "markdown",
   "id": "9248ddf9",
   "metadata": {},
   "source": [
    "### 指定分位数区间分箱\n",
    "- [0, 0.3, 0.5, 0.75, 1]"
   ]
  },
  {
   "cell_type": "code",
   "execution_count": 46,
   "id": "fb1ebdc8",
   "metadata": {},
   "outputs": [
    {
     "data": {
      "text/plain": [
       "(0.999, 38.7]     30\n",
       "(55.5, 94.25]     25\n",
       "(94.25, 119.0]    25\n",
       "(38.7, 55.5]      20\n",
       "Name: 指定分位数区间分箱, dtype: int64"
      ]
     },
     "execution_count": 46,
     "metadata": {},
     "output_type": "execute_result"
    }
   ],
   "source": [
    "tb['指定分位数区间分箱'] = pd.qcut(\n",
    "    x=tb['成绩'],\n",
    "    q=[0, 0.3, 0.5, 0.75, 1])\n",
    "tb['指定分位数区间分箱'].value_counts()\n",
    "# tb['成绩'].quantile(0.75)"
   ]
  },
  {
   "cell_type": "code",
   "execution_count": null,
   "id": "0145d142",
   "metadata": {},
   "outputs": [],
   "source": []
  }
 ],
 "metadata": {
  "hide_input": false,
  "jupytext": {
   "cell_metadata_filter": "-all",
   "encoding": "# -*- coding: utf-8 -*-",
   "notebook_metadata_filter": "-all"
  },
  "kernelspec": {
   "display_name": "Python 3",
   "language": "python",
   "name": "python3"
  },
  "language_info": {
   "codemirror_mode": {
    "name": "ipython",
    "version": 3
   },
   "file_extension": ".py",
   "mimetype": "text/x-python",
   "name": "python",
   "nbconvert_exporter": "python",
   "pygments_lexer": "ipython3",
   "version": "3.8.8"
  },
  "toc": {
   "base_numbering": 1,
   "nav_menu": {},
   "number_sections": true,
   "sideBar": true,
   "skip_h1_title": false,
   "title_cell": "Table of Contents",
   "title_sidebar": "Contents",
   "toc_cell": false,
   "toc_position": {
    "height": "calc(100% - 180px)",
    "left": "10px",
    "top": "150px",
    "width": "231px"
   },
   "toc_section_display": true,
   "toc_window_display": true
  },
  "varInspector": {
   "cols": {
    "lenName": 16,
    "lenType": 16,
    "lenVar": 40
   },
   "kernels_config": {
    "python": {
     "delete_cmd_postfix": "",
     "delete_cmd_prefix": "del ",
     "library": "var_list.py",
     "varRefreshCmd": "print(var_dic_list())"
    },
    "r": {
     "delete_cmd_postfix": ") ",
     "delete_cmd_prefix": "rm(",
     "library": "var_list.r",
     "varRefreshCmd": "cat(var_dic_list()) "
    }
   },
   "types_to_exclude": [
    "module",
    "function",
    "builtin_function_or_method",
    "instance",
    "_Feature"
   ],
   "window_display": false
  }
 },
 "nbformat": 4,
 "nbformat_minor": 5
}
