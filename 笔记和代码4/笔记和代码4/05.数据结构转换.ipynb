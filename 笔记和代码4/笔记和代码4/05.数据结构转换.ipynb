{
 "cells": [
  {
   "cell_type": "code",
   "execution_count": 1,
   "id": "1b62e619",
   "metadata": {},
   "outputs": [],
   "source": [
    "import pandas as pd"
   ]
  },
  {
   "cell_type": "markdown",
   "id": "f61dc73a",
   "metadata": {},
   "source": [
    "# 一列转为多列\n",
    "- split方法，已确定拆分结果的列数\n",
    "- 只将省份和城市拆分为新字段"
   ]
  },
  {
   "cell_type": "code",
   "execution_count": 3,
   "id": "bc318099",
   "metadata": {},
   "outputs": [
    {
     "data": {
      "text/html": [
       "<div>\n",
       "<style scoped>\n",
       "    .dataframe tbody tr th:only-of-type {\n",
       "        vertical-align: middle;\n",
       "    }\n",
       "\n",
       "    .dataframe tbody tr th {\n",
       "        vertical-align: top;\n",
       "    }\n",
       "\n",
       "    .dataframe thead th {\n",
       "        text-align: right;\n",
       "    }\n",
       "</style>\n",
       "<table border=\"1\" class=\"dataframe\">\n",
       "  <thead>\n",
       "    <tr style=\"text-align: right;\">\n",
       "      <th></th>\n",
       "      <th>用户ID</th>\n",
       "      <th>收货地址</th>\n",
       "    </tr>\n",
       "  </thead>\n",
       "  <tbody>\n",
       "    <tr>\n",
       "      <th>0</th>\n",
       "      <td>uid00160</td>\n",
       "      <td>广东省 深圳市 光明区 公明街道</td>\n",
       "    </tr>\n",
       "    <tr>\n",
       "      <th>1</th>\n",
       "      <td>uid00161</td>\n",
       "      <td>广东省 深圳市 光明区 公明街道</td>\n",
       "    </tr>\n",
       "    <tr>\n",
       "      <th>2</th>\n",
       "      <td>uid00162</td>\n",
       "      <td>广东省 深圳市 光明区 公明街道</td>\n",
       "    </tr>\n",
       "    <tr>\n",
       "      <th>3</th>\n",
       "      <td>uid00182</td>\n",
       "      <td>广东省 深圳市 宝安区 沙井街道</td>\n",
       "    </tr>\n",
       "    <tr>\n",
       "      <th>4</th>\n",
       "      <td>uid00188</td>\n",
       "      <td>广东省 深圳市 宝安区 石岩街道</td>\n",
       "    </tr>\n",
       "  </tbody>\n",
       "</table>\n",
       "</div>"
      ],
      "text/plain": [
       "       用户ID              收货地址\n",
       "0  uid00160  广东省 深圳市 光明区 公明街道\n",
       "1  uid00161  广东省 深圳市 光明区 公明街道\n",
       "2  uid00162  广东省 深圳市 光明区 公明街道\n",
       "3  uid00182  广东省 深圳市 宝安区 沙井街道\n",
       "4  uid00188  广东省 深圳市 宝安区 石岩街道"
      ]
     },
     "execution_count": 3,
     "metadata": {},
     "output_type": "execute_result"
    }
   ],
   "source": [
    "df = pd.read_excel('./data/demo_05.xlsx', sheet_name='Sheet1')\n",
    "df.head()"
   ]
  },
  {
   "cell_type": "code",
   "execution_count": 9,
   "id": "7418d87c",
   "metadata": {
    "lines_to_next_cell": 2,
    "scrolled": true
   },
   "outputs": [
    {
     "data": {
      "text/html": [
       "<div>\n",
       "<style scoped>\n",
       "    .dataframe tbody tr th:only-of-type {\n",
       "        vertical-align: middle;\n",
       "    }\n",
       "\n",
       "    .dataframe tbody tr th {\n",
       "        vertical-align: top;\n",
       "    }\n",
       "\n",
       "    .dataframe thead th {\n",
       "        text-align: right;\n",
       "    }\n",
       "</style>\n",
       "<table border=\"1\" class=\"dataframe\">\n",
       "  <thead>\n",
       "    <tr style=\"text-align: right;\">\n",
       "      <th></th>\n",
       "      <th>用户ID</th>\n",
       "      <th>收货地址</th>\n",
       "      <th>省份</th>\n",
       "      <th>城市</th>\n",
       "      <th>区域</th>\n",
       "    </tr>\n",
       "  </thead>\n",
       "  <tbody>\n",
       "    <tr>\n",
       "      <th>0</th>\n",
       "      <td>uid00160</td>\n",
       "      <td>广东省 深圳市 光明区 公明街道</td>\n",
       "      <td>广东省</td>\n",
       "      <td>深圳市</td>\n",
       "      <td>光明区</td>\n",
       "    </tr>\n",
       "    <tr>\n",
       "      <th>1</th>\n",
       "      <td>uid00161</td>\n",
       "      <td>广东省 深圳市 光明区 公明街道</td>\n",
       "      <td>广东省</td>\n",
       "      <td>深圳市</td>\n",
       "      <td>光明区</td>\n",
       "    </tr>\n",
       "    <tr>\n",
       "      <th>2</th>\n",
       "      <td>uid00162</td>\n",
       "      <td>广东省 深圳市 光明区 公明街道</td>\n",
       "      <td>广东省</td>\n",
       "      <td>深圳市</td>\n",
       "      <td>光明区</td>\n",
       "    </tr>\n",
       "    <tr>\n",
       "      <th>3</th>\n",
       "      <td>uid00182</td>\n",
       "      <td>广东省 深圳市 宝安区 沙井街道</td>\n",
       "      <td>广东省</td>\n",
       "      <td>深圳市</td>\n",
       "      <td>宝安区</td>\n",
       "    </tr>\n",
       "    <tr>\n",
       "      <th>4</th>\n",
       "      <td>uid00188</td>\n",
       "      <td>广东省 深圳市 宝安区 石岩街道</td>\n",
       "      <td>广东省</td>\n",
       "      <td>深圳市</td>\n",
       "      <td>宝安区</td>\n",
       "    </tr>\n",
       "  </tbody>\n",
       "</table>\n",
       "</div>"
      ],
      "text/plain": [
       "       用户ID              收货地址   省份   城市   区域\n",
       "0  uid00160  广东省 深圳市 光明区 公明街道  广东省  深圳市  光明区\n",
       "1  uid00161  广东省 深圳市 光明区 公明街道  广东省  深圳市  光明区\n",
       "2  uid00162  广东省 深圳市 光明区 公明街道  广东省  深圳市  光明区\n",
       "3  uid00182  广东省 深圳市 宝安区 沙井街道  广东省  深圳市  宝安区\n",
       "4  uid00188  广东省 深圳市 宝安区 石岩街道  广东省  深圳市  宝安区"
      ]
     },
     "execution_count": 9,
     "metadata": {},
     "output_type": "execute_result"
    }
   ],
   "source": [
    "tb = df['收货地址'].str.split(' ', expand=True)\n",
    "df['省份'] = tb[0]\n",
    "df['城市'] = tb[1]\n",
    "# df['区域'] = tb[2]\n",
    "df.head()"
   ]
  },
  {
   "cell_type": "markdown",
   "id": "c3adc792",
   "metadata": {},
   "source": [
    "- 将拆分结果全部转为新字段"
   ]
  },
  {
   "cell_type": "code",
   "execution_count": 10,
   "id": "23a29a0e",
   "metadata": {},
   "outputs": [
    {
     "data": {
      "text/html": [
       "<div>\n",
       "<style scoped>\n",
       "    .dataframe tbody tr th:only-of-type {\n",
       "        vertical-align: middle;\n",
       "    }\n",
       "\n",
       "    .dataframe tbody tr th {\n",
       "        vertical-align: top;\n",
       "    }\n",
       "\n",
       "    .dataframe thead th {\n",
       "        text-align: right;\n",
       "    }\n",
       "</style>\n",
       "<table border=\"1\" class=\"dataframe\">\n",
       "  <thead>\n",
       "    <tr style=\"text-align: right;\">\n",
       "      <th></th>\n",
       "      <th>用户ID</th>\n",
       "      <th>收货地址</th>\n",
       "      <th>省份</th>\n",
       "      <th>城市</th>\n",
       "      <th>区域</th>\n",
       "      <th>省</th>\n",
       "      <th>市</th>\n",
       "      <th>区</th>\n",
       "      <th>街道</th>\n",
       "    </tr>\n",
       "  </thead>\n",
       "  <tbody>\n",
       "    <tr>\n",
       "      <th>0</th>\n",
       "      <td>uid00160</td>\n",
       "      <td>广东省 深圳市 光明区 公明街道</td>\n",
       "      <td>广东省</td>\n",
       "      <td>深圳市</td>\n",
       "      <td>光明区</td>\n",
       "      <td>广东省</td>\n",
       "      <td>深圳市</td>\n",
       "      <td>光明区</td>\n",
       "      <td>公明街道</td>\n",
       "    </tr>\n",
       "    <tr>\n",
       "      <th>1</th>\n",
       "      <td>uid00161</td>\n",
       "      <td>广东省 深圳市 光明区 公明街道</td>\n",
       "      <td>广东省</td>\n",
       "      <td>深圳市</td>\n",
       "      <td>光明区</td>\n",
       "      <td>广东省</td>\n",
       "      <td>深圳市</td>\n",
       "      <td>光明区</td>\n",
       "      <td>公明街道</td>\n",
       "    </tr>\n",
       "    <tr>\n",
       "      <th>2</th>\n",
       "      <td>uid00162</td>\n",
       "      <td>广东省 深圳市 光明区 公明街道</td>\n",
       "      <td>广东省</td>\n",
       "      <td>深圳市</td>\n",
       "      <td>光明区</td>\n",
       "      <td>广东省</td>\n",
       "      <td>深圳市</td>\n",
       "      <td>光明区</td>\n",
       "      <td>公明街道</td>\n",
       "    </tr>\n",
       "    <tr>\n",
       "      <th>3</th>\n",
       "      <td>uid00182</td>\n",
       "      <td>广东省 深圳市 宝安区 沙井街道</td>\n",
       "      <td>广东省</td>\n",
       "      <td>深圳市</td>\n",
       "      <td>宝安区</td>\n",
       "      <td>广东省</td>\n",
       "      <td>深圳市</td>\n",
       "      <td>宝安区</td>\n",
       "      <td>沙井街道</td>\n",
       "    </tr>\n",
       "    <tr>\n",
       "      <th>4</th>\n",
       "      <td>uid00188</td>\n",
       "      <td>广东省 深圳市 宝安区 石岩街道</td>\n",
       "      <td>广东省</td>\n",
       "      <td>深圳市</td>\n",
       "      <td>宝安区</td>\n",
       "      <td>广东省</td>\n",
       "      <td>深圳市</td>\n",
       "      <td>宝安区</td>\n",
       "      <td>石岩街道</td>\n",
       "    </tr>\n",
       "  </tbody>\n",
       "</table>\n",
       "</div>"
      ],
      "text/plain": [
       "       用户ID              收货地址   省份   城市   区域    省    市    区    街道\n",
       "0  uid00160  广东省 深圳市 光明区 公明街道  广东省  深圳市  光明区  广东省  深圳市  光明区  公明街道\n",
       "1  uid00161  广东省 深圳市 光明区 公明街道  广东省  深圳市  光明区  广东省  深圳市  光明区  公明街道\n",
       "2  uid00162  广东省 深圳市 光明区 公明街道  广东省  深圳市  光明区  广东省  深圳市  光明区  公明街道\n",
       "3  uid00182  广东省 深圳市 宝安区 沙井街道  广东省  深圳市  宝安区  广东省  深圳市  宝安区  沙井街道\n",
       "4  uid00188  广东省 深圳市 宝安区 石岩街道  广东省  深圳市  宝安区  广东省  深圳市  宝安区  石岩街道"
      ]
     },
     "execution_count": 10,
     "metadata": {},
     "output_type": "execute_result"
    }
   ],
   "source": [
    "df[['省','市','区','街道']] = df['收货地址'].str.split(' ', expand=True)\n",
    "df.head()"
   ]
  },
  {
   "cell_type": "markdown",
   "id": "c831cadc",
   "metadata": {},
   "source": [
    "# 一列转为多列\n",
    "- split和join方法，不确定拆分结果的列数"
   ]
  },
  {
   "cell_type": "code",
   "execution_count": 11,
   "id": "ce3042bc",
   "metadata": {},
   "outputs": [
    {
     "data": {
      "text/html": [
       "<div>\n",
       "<style scoped>\n",
       "    .dataframe tbody tr th:only-of-type {\n",
       "        vertical-align: middle;\n",
       "    }\n",
       "\n",
       "    .dataframe tbody tr th {\n",
       "        vertical-align: top;\n",
       "    }\n",
       "\n",
       "    .dataframe thead th {\n",
       "        text-align: right;\n",
       "    }\n",
       "</style>\n",
       "<table border=\"1\" class=\"dataframe\">\n",
       "  <thead>\n",
       "    <tr style=\"text-align: right;\">\n",
       "      <th></th>\n",
       "      <th>用户ID</th>\n",
       "      <th>商品信息</th>\n",
       "    </tr>\n",
       "  </thead>\n",
       "  <tbody>\n",
       "    <tr>\n",
       "      <th>0</th>\n",
       "      <td>uid00160</td>\n",
       "      <td>香蕉，苹果，橘子</td>\n",
       "    </tr>\n",
       "    <tr>\n",
       "      <th>1</th>\n",
       "      <td>uid00161</td>\n",
       "      <td>芒果，西瓜</td>\n",
       "    </tr>\n",
       "    <tr>\n",
       "      <th>2</th>\n",
       "      <td>uid00162</td>\n",
       "      <td>橘子</td>\n",
       "    </tr>\n",
       "    <tr>\n",
       "      <th>3</th>\n",
       "      <td>uid00182</td>\n",
       "      <td>榴莲，火龙果，樱桃，苹果</td>\n",
       "    </tr>\n",
       "    <tr>\n",
       "      <th>4</th>\n",
       "      <td>uid00188</td>\n",
       "      <td>葡萄，草莓</td>\n",
       "    </tr>\n",
       "  </tbody>\n",
       "</table>\n",
       "</div>"
      ],
      "text/plain": [
       "       用户ID          商品信息\n",
       "0  uid00160      香蕉，苹果，橘子\n",
       "1  uid00161         芒果，西瓜\n",
       "2  uid00162            橘子\n",
       "3  uid00182  榴莲，火龙果，樱桃，苹果\n",
       "4  uid00188         葡萄，草莓"
      ]
     },
     "execution_count": 11,
     "metadata": {},
     "output_type": "execute_result"
    }
   ],
   "source": [
    "df = pd.read_excel('./data/demo_05.xlsx', sheet_name='Sheet2')\n",
    "df.head()"
   ]
  },
  {
   "cell_type": "code",
   "execution_count": 16,
   "id": "78882c0d",
   "metadata": {
    "lines_to_next_cell": 2
   },
   "outputs": [
    {
     "data": {
      "text/html": [
       "<div>\n",
       "<style scoped>\n",
       "    .dataframe tbody tr th:only-of-type {\n",
       "        vertical-align: middle;\n",
       "    }\n",
       "\n",
       "    .dataframe tbody tr th {\n",
       "        vertical-align: top;\n",
       "    }\n",
       "\n",
       "    .dataframe thead th {\n",
       "        text-align: right;\n",
       "    }\n",
       "</style>\n",
       "<table border=\"1\" class=\"dataframe\">\n",
       "  <thead>\n",
       "    <tr style=\"text-align: right;\">\n",
       "      <th></th>\n",
       "      <th>用户ID</th>\n",
       "      <th>商品信息</th>\n",
       "      <th>0</th>\n",
       "      <th>1</th>\n",
       "      <th>2</th>\n",
       "      <th>3</th>\n",
       "    </tr>\n",
       "  </thead>\n",
       "  <tbody>\n",
       "    <tr>\n",
       "      <th>0</th>\n",
       "      <td>uid00160</td>\n",
       "      <td>香蕉，苹果，橘子</td>\n",
       "      <td>香蕉</td>\n",
       "      <td>苹果</td>\n",
       "      <td>橘子</td>\n",
       "      <td>None</td>\n",
       "    </tr>\n",
       "    <tr>\n",
       "      <th>1</th>\n",
       "      <td>uid00161</td>\n",
       "      <td>芒果，西瓜</td>\n",
       "      <td>芒果</td>\n",
       "      <td>西瓜</td>\n",
       "      <td>None</td>\n",
       "      <td>None</td>\n",
       "    </tr>\n",
       "    <tr>\n",
       "      <th>2</th>\n",
       "      <td>uid00162</td>\n",
       "      <td>橘子</td>\n",
       "      <td>橘子</td>\n",
       "      <td>None</td>\n",
       "      <td>None</td>\n",
       "      <td>None</td>\n",
       "    </tr>\n",
       "    <tr>\n",
       "      <th>3</th>\n",
       "      <td>uid00182</td>\n",
       "      <td>榴莲，火龙果，樱桃，苹果</td>\n",
       "      <td>榴莲</td>\n",
       "      <td>火龙果</td>\n",
       "      <td>樱桃</td>\n",
       "      <td>苹果</td>\n",
       "    </tr>\n",
       "    <tr>\n",
       "      <th>4</th>\n",
       "      <td>uid00188</td>\n",
       "      <td>葡萄，草莓</td>\n",
       "      <td>葡萄</td>\n",
       "      <td>草莓</td>\n",
       "      <td>None</td>\n",
       "      <td>None</td>\n",
       "    </tr>\n",
       "  </tbody>\n",
       "</table>\n",
       "</div>"
      ],
      "text/plain": [
       "       用户ID          商品信息   0     1     2     3\n",
       "0  uid00160      香蕉，苹果，橘子  香蕉    苹果    橘子  None\n",
       "1  uid00161         芒果，西瓜  芒果    西瓜  None  None\n",
       "2  uid00162            橘子  橘子  None  None  None\n",
       "3  uid00182  榴莲，火龙果，樱桃，苹果  榴莲   火龙果    樱桃    苹果\n",
       "4  uid00188         葡萄，草莓  葡萄    草莓  None  None"
      ]
     },
     "execution_count": 16,
     "metadata": {},
     "output_type": "execute_result"
    }
   ],
   "source": [
    "# 先拆分商品信息, 再关联至原表\n",
    "df_split = df['商品信息'].str.split('，', expand=True)\n",
    "df_join = df.join(df_split)\n",
    "df_join.head()"
   ]
  },
  {
   "cell_type": "markdown",
   "id": "bb966524",
   "metadata": {},
   "source": [
    "# 对元组/列表形式的字段进行拆分"
   ]
  },
  {
   "cell_type": "code",
   "execution_count": 17,
   "id": "85743f00",
   "metadata": {},
   "outputs": [],
   "source": [
    "df = pd.DataFrame({\n",
    "    '订单编号': [1, 2, 3, 4],\n",
    "    '数量和单价': [(1, 2),\n",
    "              (3, 4),\n",
    "              (5, 6),\n",
    "              (7, 8)]})"
   ]
  },
  {
   "cell_type": "code",
   "execution_count": 20,
   "id": "55f75d05",
   "metadata": {
    "scrolled": false
   },
   "outputs": [
    {
     "data": {
      "text/plain": [
       "订单编号      int64\n",
       "数量和单价    object\n",
       "数量        int64\n",
       "单价        int64\n",
       "dtype: object"
      ]
     },
     "execution_count": 20,
     "metadata": {},
     "output_type": "execute_result"
    }
   ],
   "source": [
    "df.dtypes\n",
    "# split\n",
    "# replace\n",
    "# astype"
   ]
  },
  {
   "cell_type": "code",
   "execution_count": 19,
   "id": "5f8e31bc",
   "metadata": {
    "lines_to_next_cell": 2,
    "scrolled": true
   },
   "outputs": [
    {
     "data": {
      "text/html": [
       "<div>\n",
       "<style scoped>\n",
       "    .dataframe tbody tr th:only-of-type {\n",
       "        vertical-align: middle;\n",
       "    }\n",
       "\n",
       "    .dataframe tbody tr th {\n",
       "        vertical-align: top;\n",
       "    }\n",
       "\n",
       "    .dataframe thead th {\n",
       "        text-align: right;\n",
       "    }\n",
       "</style>\n",
       "<table border=\"1\" class=\"dataframe\">\n",
       "  <thead>\n",
       "    <tr style=\"text-align: right;\">\n",
       "      <th></th>\n",
       "      <th>订单编号</th>\n",
       "      <th>数量和单价</th>\n",
       "      <th>数量</th>\n",
       "      <th>单价</th>\n",
       "    </tr>\n",
       "  </thead>\n",
       "  <tbody>\n",
       "    <tr>\n",
       "      <th>0</th>\n",
       "      <td>1</td>\n",
       "      <td>(1, 2)</td>\n",
       "      <td>1</td>\n",
       "      <td>2</td>\n",
       "    </tr>\n",
       "    <tr>\n",
       "      <th>1</th>\n",
       "      <td>2</td>\n",
       "      <td>(3, 4)</td>\n",
       "      <td>3</td>\n",
       "      <td>4</td>\n",
       "    </tr>\n",
       "    <tr>\n",
       "      <th>2</th>\n",
       "      <td>3</td>\n",
       "      <td>(5, 6)</td>\n",
       "      <td>5</td>\n",
       "      <td>6</td>\n",
       "    </tr>\n",
       "    <tr>\n",
       "      <th>3</th>\n",
       "      <td>4</td>\n",
       "      <td>(7, 8)</td>\n",
       "      <td>7</td>\n",
       "      <td>8</td>\n",
       "    </tr>\n",
       "  </tbody>\n",
       "</table>\n",
       "</div>"
      ],
      "text/plain": [
       "   订单编号   数量和单价  数量  单价\n",
       "0     1  (1, 2)   1   2\n",
       "1     2  (3, 4)   3   4\n",
       "2     3  (5, 6)   5   6\n",
       "3     4  (7, 8)   7   8"
      ]
     },
     "execution_count": 19,
     "metadata": {},
     "output_type": "execute_result"
    }
   ],
   "source": [
    "df[['数量', '单价']] = df['数量和单价'].apply(pd.Series)\n",
    "df.head()"
   ]
  },
  {
   "cell_type": "markdown",
   "id": "49418faa",
   "metadata": {},
   "source": [
    "# 列转为行"
   ]
  },
  {
   "cell_type": "markdown",
   "id": "a61cd2d7",
   "metadata": {},
   "source": [
    "## stack方法\n",
    "- 将除索引列外的字段转为最内层的行索引"
   ]
  },
  {
   "cell_type": "code",
   "execution_count": 29,
   "id": "08ef6230",
   "metadata": {
    "scrolled": false
   },
   "outputs": [
    {
     "data": {
      "text/html": [
       "<div>\n",
       "<style scoped>\n",
       "    .dataframe tbody tr th:only-of-type {\n",
       "        vertical-align: middle;\n",
       "    }\n",
       "\n",
       "    .dataframe tbody tr th {\n",
       "        vertical-align: top;\n",
       "    }\n",
       "\n",
       "    .dataframe thead th {\n",
       "        text-align: right;\n",
       "    }\n",
       "</style>\n",
       "<table border=\"1\" class=\"dataframe\">\n",
       "  <thead>\n",
       "    <tr style=\"text-align: right;\">\n",
       "      <th></th>\n",
       "      <th>门店</th>\n",
       "      <th>手机</th>\n",
       "      <th>电脑</th>\n",
       "    </tr>\n",
       "  </thead>\n",
       "  <tbody>\n",
       "    <tr>\n",
       "      <th>0</th>\n",
       "      <td>南山分店</td>\n",
       "      <td>235</td>\n",
       "      <td>450</td>\n",
       "    </tr>\n",
       "    <tr>\n",
       "      <th>1</th>\n",
       "      <td>宝安分店</td>\n",
       "      <td>313</td>\n",
       "      <td>181</td>\n",
       "    </tr>\n",
       "    <tr>\n",
       "      <th>2</th>\n",
       "      <td>福田分店</td>\n",
       "      <td>157</td>\n",
       "      <td>337</td>\n",
       "    </tr>\n",
       "  </tbody>\n",
       "</table>\n",
       "</div>"
      ],
      "text/plain": [
       "     门店   手机   电脑\n",
       "0  南山分店  235  450\n",
       "1  宝安分店  313  181\n",
       "2  福田分店  157  337"
      ]
     },
     "execution_count": 29,
     "metadata": {},
     "output_type": "execute_result"
    }
   ],
   "source": [
    "df = pd.read_excel('./data/demo_05.xlsx', sheet_name='Sheet3')\n",
    "df.head()"
   ]
  },
  {
   "cell_type": "code",
   "execution_count": 31,
   "id": "cc0a1401",
   "metadata": {},
   "outputs": [
    {
     "data": {
      "text/html": [
       "<div>\n",
       "<style scoped>\n",
       "    .dataframe tbody tr th:only-of-type {\n",
       "        vertical-align: middle;\n",
       "    }\n",
       "\n",
       "    .dataframe tbody tr th {\n",
       "        vertical-align: top;\n",
       "    }\n",
       "\n",
       "    .dataframe thead th {\n",
       "        text-align: right;\n",
       "    }\n",
       "</style>\n",
       "<table border=\"1\" class=\"dataframe\">\n",
       "  <thead>\n",
       "    <tr style=\"text-align: right;\">\n",
       "      <th></th>\n",
       "      <th>门店</th>\n",
       "      <th>品类</th>\n",
       "      <th>销量</th>\n",
       "    </tr>\n",
       "  </thead>\n",
       "  <tbody>\n",
       "    <tr>\n",
       "      <th>0</th>\n",
       "      <td>南山分店</td>\n",
       "      <td>手机</td>\n",
       "      <td>235</td>\n",
       "    </tr>\n",
       "    <tr>\n",
       "      <th>1</th>\n",
       "      <td>南山分店</td>\n",
       "      <td>电脑</td>\n",
       "      <td>450</td>\n",
       "    </tr>\n",
       "    <tr>\n",
       "      <th>2</th>\n",
       "      <td>宝安分店</td>\n",
       "      <td>手机</td>\n",
       "      <td>313</td>\n",
       "    </tr>\n",
       "    <tr>\n",
       "      <th>3</th>\n",
       "      <td>宝安分店</td>\n",
       "      <td>电脑</td>\n",
       "      <td>181</td>\n",
       "    </tr>\n",
       "    <tr>\n",
       "      <th>4</th>\n",
       "      <td>福田分店</td>\n",
       "      <td>手机</td>\n",
       "      <td>157</td>\n",
       "    </tr>\n",
       "    <tr>\n",
       "      <th>5</th>\n",
       "      <td>福田分店</td>\n",
       "      <td>电脑</td>\n",
       "      <td>337</td>\n",
       "    </tr>\n",
       "  </tbody>\n",
       "</table>\n",
       "</div>"
      ],
      "text/plain": [
       "     门店  品类   销量\n",
       "0  南山分店  手机  235\n",
       "1  南山分店  电脑  450\n",
       "2  宝安分店  手机  313\n",
       "3  宝安分店  电脑  181\n",
       "4  福田分店  手机  157\n",
       "5  福田分店  电脑  337"
      ]
     },
     "execution_count": 31,
     "metadata": {},
     "output_type": "execute_result"
    }
   ],
   "source": [
    "# pbi的逆透视\n",
    "tb = df.set_index('门店')\n",
    "tb = tb.stack().reset_index()\n",
    "tb.columns = ['门店', '品类', '销量']\n",
    "tb"
   ]
  },
  {
   "cell_type": "markdown",
   "id": "4dfef442",
   "metadata": {},
   "source": [
    "## melt方法\n",
    "- 宽表转为长表"
   ]
  },
  {
   "cell_type": "code",
   "execution_count": 33,
   "id": "7439937b",
   "metadata": {},
   "outputs": [
    {
     "data": {
      "text/html": [
       "<div>\n",
       "<style scoped>\n",
       "    .dataframe tbody tr th:only-of-type {\n",
       "        vertical-align: middle;\n",
       "    }\n",
       "\n",
       "    .dataframe tbody tr th {\n",
       "        vertical-align: top;\n",
       "    }\n",
       "\n",
       "    .dataframe thead th {\n",
       "        text-align: right;\n",
       "    }\n",
       "</style>\n",
       "<table border=\"1\" class=\"dataframe\">\n",
       "  <thead>\n",
       "    <tr style=\"text-align: right;\">\n",
       "      <th></th>\n",
       "      <th>门店</th>\n",
       "      <th>手机</th>\n",
       "      <th>电脑</th>\n",
       "    </tr>\n",
       "  </thead>\n",
       "  <tbody>\n",
       "    <tr>\n",
       "      <th>0</th>\n",
       "      <td>南山分店</td>\n",
       "      <td>235</td>\n",
       "      <td>450</td>\n",
       "    </tr>\n",
       "    <tr>\n",
       "      <th>1</th>\n",
       "      <td>宝安分店</td>\n",
       "      <td>313</td>\n",
       "      <td>181</td>\n",
       "    </tr>\n",
       "    <tr>\n",
       "      <th>2</th>\n",
       "      <td>福田分店</td>\n",
       "      <td>157</td>\n",
       "      <td>337</td>\n",
       "    </tr>\n",
       "  </tbody>\n",
       "</table>\n",
       "</div>"
      ],
      "text/plain": [
       "     门店   手机   电脑\n",
       "0  南山分店  235  450\n",
       "1  宝安分店  313  181\n",
       "2  福田分店  157  337"
      ]
     },
     "execution_count": 33,
     "metadata": {},
     "output_type": "execute_result"
    }
   ],
   "source": [
    "df = pd.read_excel('./data/demo_05.xlsx', sheet_name='Sheet3')\n",
    "df.head()"
   ]
  },
  {
   "cell_type": "code",
   "execution_count": 35,
   "id": "26042aa4",
   "metadata": {
    "scrolled": true
   },
   "outputs": [
    {
     "data": {
      "text/html": [
       "<div>\n",
       "<style scoped>\n",
       "    .dataframe tbody tr th:only-of-type {\n",
       "        vertical-align: middle;\n",
       "    }\n",
       "\n",
       "    .dataframe tbody tr th {\n",
       "        vertical-align: top;\n",
       "    }\n",
       "\n",
       "    .dataframe thead th {\n",
       "        text-align: right;\n",
       "    }\n",
       "</style>\n",
       "<table border=\"1\" class=\"dataframe\">\n",
       "  <thead>\n",
       "    <tr style=\"text-align: right;\">\n",
       "      <th></th>\n",
       "      <th>门店</th>\n",
       "      <th>品类</th>\n",
       "      <th>销量</th>\n",
       "    </tr>\n",
       "  </thead>\n",
       "  <tbody>\n",
       "    <tr>\n",
       "      <th>0</th>\n",
       "      <td>南山分店</td>\n",
       "      <td>手机</td>\n",
       "      <td>235</td>\n",
       "    </tr>\n",
       "    <tr>\n",
       "      <th>1</th>\n",
       "      <td>宝安分店</td>\n",
       "      <td>手机</td>\n",
       "      <td>313</td>\n",
       "    </tr>\n",
       "    <tr>\n",
       "      <th>2</th>\n",
       "      <td>福田分店</td>\n",
       "      <td>手机</td>\n",
       "      <td>157</td>\n",
       "    </tr>\n",
       "    <tr>\n",
       "      <th>3</th>\n",
       "      <td>南山分店</td>\n",
       "      <td>电脑</td>\n",
       "      <td>450</td>\n",
       "    </tr>\n",
       "    <tr>\n",
       "      <th>4</th>\n",
       "      <td>宝安分店</td>\n",
       "      <td>电脑</td>\n",
       "      <td>181</td>\n",
       "    </tr>\n",
       "    <tr>\n",
       "      <th>5</th>\n",
       "      <td>福田分店</td>\n",
       "      <td>电脑</td>\n",
       "      <td>337</td>\n",
       "    </tr>\n",
       "  </tbody>\n",
       "</table>\n",
       "</div>"
      ],
      "text/plain": [
       "     门店  品类   销量\n",
       "0  南山分店  手机  235\n",
       "1  宝安分店  手机  313\n",
       "2  福田分店  手机  157\n",
       "3  南山分店  电脑  450\n",
       "4  宝安分店  电脑  181\n",
       "5  福田分店  电脑  337"
      ]
     },
     "execution_count": 35,
     "metadata": {},
     "output_type": "execute_result"
    }
   ],
   "source": [
    "pd.melt(\n",
    "    frame=df,\n",
    "    # 位置保持不变的字段\n",
    "    id_vars='门店',\n",
    "    # 转为行的字段\n",
    "    value_vars=['手机', '电脑'],\n",
    "    # 转为行后, 新字段的别名\n",
    "    var_name='品类',\n",
    "    # 值(指标)列的别名\n",
    "    value_name='销量')"
   ]
  },
  {
   "cell_type": "markdown",
   "id": "53b053d8",
   "metadata": {},
   "source": [
    "# 行转为列"
   ]
  },
  {
   "cell_type": "markdown",
   "id": "9e3432d9",
   "metadata": {},
   "source": [
    "## unstack方法\n",
    "- 将最内层的行索引转为字段"
   ]
  },
  {
   "cell_type": "code",
   "execution_count": 36,
   "id": "fa4210b0",
   "metadata": {},
   "outputs": [
    {
     "data": {
      "text/html": [
       "<div>\n",
       "<style scoped>\n",
       "    .dataframe tbody tr th:only-of-type {\n",
       "        vertical-align: middle;\n",
       "    }\n",
       "\n",
       "    .dataframe tbody tr th {\n",
       "        vertical-align: top;\n",
       "    }\n",
       "\n",
       "    .dataframe thead th {\n",
       "        text-align: right;\n",
       "    }\n",
       "</style>\n",
       "<table border=\"1\" class=\"dataframe\">\n",
       "  <thead>\n",
       "    <tr style=\"text-align: right;\">\n",
       "      <th></th>\n",
       "      <th>门店</th>\n",
       "      <th>品类</th>\n",
       "      <th>销量</th>\n",
       "    </tr>\n",
       "  </thead>\n",
       "  <tbody>\n",
       "    <tr>\n",
       "      <th>0</th>\n",
       "      <td>南山分店</td>\n",
       "      <td>手机</td>\n",
       "      <td>235</td>\n",
       "    </tr>\n",
       "    <tr>\n",
       "      <th>1</th>\n",
       "      <td>南山分店</td>\n",
       "      <td>电脑</td>\n",
       "      <td>450</td>\n",
       "    </tr>\n",
       "    <tr>\n",
       "      <th>2</th>\n",
       "      <td>宝安分店</td>\n",
       "      <td>手机</td>\n",
       "      <td>313</td>\n",
       "    </tr>\n",
       "    <tr>\n",
       "      <th>3</th>\n",
       "      <td>宝安分店</td>\n",
       "      <td>电脑</td>\n",
       "      <td>181</td>\n",
       "    </tr>\n",
       "    <tr>\n",
       "      <th>4</th>\n",
       "      <td>福田分店</td>\n",
       "      <td>手机</td>\n",
       "      <td>157</td>\n",
       "    </tr>\n",
       "    <tr>\n",
       "      <th>5</th>\n",
       "      <td>福田分店</td>\n",
       "      <td>电脑</td>\n",
       "      <td>337</td>\n",
       "    </tr>\n",
       "  </tbody>\n",
       "</table>\n",
       "</div>"
      ],
      "text/plain": [
       "     门店  品类   销量\n",
       "0  南山分店  手机  235\n",
       "1  南山分店  电脑  450\n",
       "2  宝安分店  手机  313\n",
       "3  宝安分店  电脑  181\n",
       "4  福田分店  手机  157\n",
       "5  福田分店  电脑  337"
      ]
     },
     "execution_count": 36,
     "metadata": {},
     "output_type": "execute_result"
    }
   ],
   "source": [
    "df = pd.read_excel('./data/demo_05.xlsx', sheet_name='Sheet4')\n",
    "df"
   ]
  },
  {
   "cell_type": "code",
   "execution_count": 47,
   "id": "ed3940b7",
   "metadata": {
    "lines_to_next_cell": 2,
    "scrolled": true
   },
   "outputs": [
    {
     "data": {
      "text/html": [
       "<div>\n",
       "<style scoped>\n",
       "    .dataframe tbody tr th:only-of-type {\n",
       "        vertical-align: middle;\n",
       "    }\n",
       "\n",
       "    .dataframe tbody tr th {\n",
       "        vertical-align: top;\n",
       "    }\n",
       "\n",
       "    .dataframe thead th {\n",
       "        text-align: right;\n",
       "    }\n",
       "</style>\n",
       "<table border=\"1\" class=\"dataframe\">\n",
       "  <thead>\n",
       "    <tr style=\"text-align: right;\">\n",
       "      <th></th>\n",
       "      <th>门店</th>\n",
       "      <th>手机</th>\n",
       "      <th>电脑</th>\n",
       "    </tr>\n",
       "  </thead>\n",
       "  <tbody>\n",
       "    <tr>\n",
       "      <th>0</th>\n",
       "      <td>南山分店</td>\n",
       "      <td>235</td>\n",
       "      <td>450</td>\n",
       "    </tr>\n",
       "    <tr>\n",
       "      <th>1</th>\n",
       "      <td>宝安分店</td>\n",
       "      <td>313</td>\n",
       "      <td>181</td>\n",
       "    </tr>\n",
       "    <tr>\n",
       "      <th>2</th>\n",
       "      <td>福田分店</td>\n",
       "      <td>157</td>\n",
       "      <td>337</td>\n",
       "    </tr>\n",
       "  </tbody>\n",
       "</table>\n",
       "</div>"
      ],
      "text/plain": [
       "     门店   手机   电脑\n",
       "0  南山分店  235  450\n",
       "1  宝安分店  313  181\n",
       "2  福田分店  157  337"
      ]
     },
     "execution_count": 47,
     "metadata": {},
     "output_type": "execute_result"
    }
   ],
   "source": [
    "tb = df.set_index(['门店', '品类'])\n",
    "tb = tb.unstack()\n",
    "tb.columns = tb.columns.droplevel(0)\n",
    "tb.columns.name = None\n",
    "tb.reset_index()"
   ]
  },
  {
   "cell_type": "markdown",
   "id": "9b3b7241",
   "metadata": {},
   "source": [
    "## pivot方法\n",
    "- 透视列，没有聚合功能"
   ]
  },
  {
   "cell_type": "code",
   "execution_count": 49,
   "id": "f3849a17",
   "metadata": {},
   "outputs": [
    {
     "data": {
      "text/html": [
       "<div>\n",
       "<style scoped>\n",
       "    .dataframe tbody tr th:only-of-type {\n",
       "        vertical-align: middle;\n",
       "    }\n",
       "\n",
       "    .dataframe tbody tr th {\n",
       "        vertical-align: top;\n",
       "    }\n",
       "\n",
       "    .dataframe thead th {\n",
       "        text-align: right;\n",
       "    }\n",
       "</style>\n",
       "<table border=\"1\" class=\"dataframe\">\n",
       "  <thead>\n",
       "    <tr style=\"text-align: right;\">\n",
       "      <th></th>\n",
       "      <th>门店</th>\n",
       "      <th>品类</th>\n",
       "      <th>销量</th>\n",
       "    </tr>\n",
       "  </thead>\n",
       "  <tbody>\n",
       "    <tr>\n",
       "      <th>0</th>\n",
       "      <td>南山分店</td>\n",
       "      <td>手机</td>\n",
       "      <td>235</td>\n",
       "    </tr>\n",
       "    <tr>\n",
       "      <th>1</th>\n",
       "      <td>南山分店</td>\n",
       "      <td>电脑</td>\n",
       "      <td>450</td>\n",
       "    </tr>\n",
       "    <tr>\n",
       "      <th>2</th>\n",
       "      <td>宝安分店</td>\n",
       "      <td>手机</td>\n",
       "      <td>313</td>\n",
       "    </tr>\n",
       "    <tr>\n",
       "      <th>3</th>\n",
       "      <td>宝安分店</td>\n",
       "      <td>电脑</td>\n",
       "      <td>181</td>\n",
       "    </tr>\n",
       "    <tr>\n",
       "      <th>4</th>\n",
       "      <td>福田分店</td>\n",
       "      <td>手机</td>\n",
       "      <td>157</td>\n",
       "    </tr>\n",
       "    <tr>\n",
       "      <th>5</th>\n",
       "      <td>福田分店</td>\n",
       "      <td>电脑</td>\n",
       "      <td>337</td>\n",
       "    </tr>\n",
       "  </tbody>\n",
       "</table>\n",
       "</div>"
      ],
      "text/plain": [
       "     门店  品类   销量\n",
       "0  南山分店  手机  235\n",
       "1  南山分店  电脑  450\n",
       "2  宝安分店  手机  313\n",
       "3  宝安分店  电脑  181\n",
       "4  福田分店  手机  157\n",
       "5  福田分店  电脑  337"
      ]
     },
     "execution_count": 49,
     "metadata": {},
     "output_type": "execute_result"
    }
   ],
   "source": [
    "df = pd.read_excel('./data/demo_05.xlsx', sheet_name='Sheet4')\n",
    "df"
   ]
  },
  {
   "cell_type": "code",
   "execution_count": 53,
   "id": "2c97236a",
   "metadata": {},
   "outputs": [
    {
     "data": {
      "text/html": [
       "<div>\n",
       "<style scoped>\n",
       "    .dataframe tbody tr th:only-of-type {\n",
       "        vertical-align: middle;\n",
       "    }\n",
       "\n",
       "    .dataframe tbody tr th {\n",
       "        vertical-align: top;\n",
       "    }\n",
       "\n",
       "    .dataframe thead th {\n",
       "        text-align: right;\n",
       "    }\n",
       "</style>\n",
       "<table border=\"1\" class=\"dataframe\">\n",
       "  <thead>\n",
       "    <tr style=\"text-align: right;\">\n",
       "      <th></th>\n",
       "      <th>门店</th>\n",
       "      <th>手机</th>\n",
       "      <th>电脑</th>\n",
       "    </tr>\n",
       "  </thead>\n",
       "  <tbody>\n",
       "    <tr>\n",
       "      <th>0</th>\n",
       "      <td>南山分店</td>\n",
       "      <td>235</td>\n",
       "      <td>450</td>\n",
       "    </tr>\n",
       "    <tr>\n",
       "      <th>1</th>\n",
       "      <td>宝安分店</td>\n",
       "      <td>313</td>\n",
       "      <td>181</td>\n",
       "    </tr>\n",
       "    <tr>\n",
       "      <th>2</th>\n",
       "      <td>福田分店</td>\n",
       "      <td>157</td>\n",
       "      <td>337</td>\n",
       "    </tr>\n",
       "  </tbody>\n",
       "</table>\n",
       "</div>"
      ],
      "text/plain": [
       "     门店   手机   电脑\n",
       "0  南山分店  235  450\n",
       "1  宝安分店  313  181\n",
       "2  福田分店  157  337"
      ]
     },
     "execution_count": 53,
     "metadata": {},
     "output_type": "execute_result"
    }
   ],
   "source": [
    "tb = df.pivot(index='门店', columns='品类', values='销量')\n",
    "tb.columns.name = None\n",
    "tb.reset_index()"
   ]
  },
  {
   "cell_type": "markdown",
   "id": "5eb25520",
   "metadata": {},
   "source": [
    "# DataFrame转为字典"
   ]
  },
  {
   "cell_type": "code",
   "execution_count": 58,
   "id": "3ab849d5",
   "metadata": {},
   "outputs": [
    {
     "data": {
      "text/plain": [
       "{'uid00160': '刘备',\n",
       " 'uid00161': '关羽',\n",
       " 'uid00162': '张飞',\n",
       " 'uid00182': '赵云',\n",
       " 'uid00188': '马超'}"
      ]
     },
     "execution_count": 58,
     "metadata": {},
     "output_type": "execute_result"
    }
   ],
   "source": [
    "df = pd.read_excel('./data/demo_05.xlsx', sheet_name='Sheet5')\n",
    "df = df.set_index('用户ID')\n",
    "df.to_dict()['用户姓名']"
   ]
  },
  {
   "cell_type": "markdown",
   "id": "8d0eb9d5",
   "metadata": {},
   "source": [
    "# DataFrame转为列表"
   ]
  },
  {
   "cell_type": "code",
   "execution_count": 74,
   "id": "4a9ea3a8",
   "metadata": {},
   "outputs": [
    {
     "data": {
      "text/plain": [
       "[['uid00160', '刘备'],\n",
       " ['uid00161', '关羽'],\n",
       " ['uid00162', '张飞'],\n",
       " ['uid00182', '赵云'],\n",
       " ['uid00188', '马超']]"
      ]
     },
     "execution_count": 74,
     "metadata": {},
     "output_type": "execute_result"
    }
   ],
   "source": [
    "df = pd.read_excel('./data/demo_05.xlsx', sheet_name='Sheet5')\n",
    "df.values.tolist()"
   ]
  },
  {
   "cell_type": "markdown",
   "id": "c2e86852",
   "metadata": {},
   "source": [
    "# DataFrame转为元组"
   ]
  },
  {
   "cell_type": "code",
   "execution_count": 70,
   "id": "dd0f5fc0",
   "metadata": {
    "scrolled": true
   },
   "outputs": [
    {
     "data": {
      "text/plain": [
       "(('uid00160', '刘备'),\n",
       " ('uid00161', '关羽'),\n",
       " ('uid00162', '张飞'),\n",
       " ('uid00182', '赵云'),\n",
       " ('uid00188', '马超'))"
      ]
     },
     "execution_count": 70,
     "metadata": {},
     "output_type": "execute_result"
    }
   ],
   "source": [
    "df = pd.read_excel('./data/demo_05.xlsx', sheet_name='Sheet5')\n",
    "# [tuple(x) for x in df.values]\n",
    "# [('uid00160', '刘备'),\n",
    "#  ('uid00161', '关羽'),\n",
    "#  ('uid00162', '张飞'),\n",
    "#  ('uid00182', '赵云'),\n",
    "#  ('uid00188', '马超')]\n",
    "\n",
    "tuple(tuple(x) for x in df.values)\n",
    "# (('uid00160', '刘备'),\n",
    "#  ('uid00161', '关羽'),\n",
    "#  ('uid00162', '张飞'),\n",
    "#  ('uid00182', '赵云'),\n",
    "#  ('uid00188', '马超'))"
   ]
  },
  {
   "cell_type": "code",
   "execution_count": 71,
   "id": "64c8a7d4",
   "metadata": {},
   "outputs": [
    {
     "data": {
      "text/plain": [
       "<generator object <genexpr> at 0x0000029DB36F2120>"
      ]
     },
     "execution_count": 71,
     "metadata": {},
     "output_type": "execute_result"
    }
   ],
   "source": [
    "# 生成器\n",
    "((x) for x in df.values)\n",
    "# <generator object <genexpr> at 0x0000029DB36F2120>"
   ]
  },
  {
   "cell_type": "markdown",
   "id": "36554e8c",
   "metadata": {},
   "source": [
    "# DataFrame转为HTML"
   ]
  },
  {
   "cell_type": "code",
   "execution_count": 72,
   "id": "6335372a",
   "metadata": {},
   "outputs": [],
   "source": [
    "df = pd.read_excel('./data/demo_05.xlsx', sheet_name='Sheet5')"
   ]
  },
  {
   "cell_type": "code",
   "execution_count": 73,
   "id": "68c22dd9",
   "metadata": {},
   "outputs": [],
   "source": [
    "df.to_html('表单.html', index=False)"
   ]
  },
  {
   "cell_type": "code",
   "execution_count": null,
   "id": "0be37427",
   "metadata": {},
   "outputs": [],
   "source": []
  }
 ],
 "metadata": {
  "hide_input": false,
  "jupytext": {
   "cell_metadata_filter": "-all",
   "encoding": "# -*- coding: utf-8 -*-",
   "notebook_metadata_filter": "-all"
  },
  "kernelspec": {
   "display_name": "Python 3",
   "language": "python",
   "name": "python3"
  },
  "language_info": {
   "codemirror_mode": {
    "name": "ipython",
    "version": 3
   },
   "file_extension": ".py",
   "mimetype": "text/x-python",
   "name": "python",
   "nbconvert_exporter": "python",
   "pygments_lexer": "ipython3",
   "version": "3.8.8"
  },
  "toc": {
   "base_numbering": 1,
   "nav_menu": {},
   "number_sections": true,
   "sideBar": true,
   "skip_h1_title": false,
   "title_cell": "Table of Contents",
   "title_sidebar": "Contents",
   "toc_cell": false,
   "toc_position": {
    "height": "calc(100% - 180px)",
    "left": "10px",
    "top": "150px",
    "width": "223.8px"
   },
   "toc_section_display": true,
   "toc_window_display": true
  },
  "varInspector": {
   "cols": {
    "lenName": 16,
    "lenType": 16,
    "lenVar": 40
   },
   "kernels_config": {
    "python": {
     "delete_cmd_postfix": "",
     "delete_cmd_prefix": "del ",
     "library": "var_list.py",
     "varRefreshCmd": "print(var_dic_list())"
    },
    "r": {
     "delete_cmd_postfix": ") ",
     "delete_cmd_prefix": "rm(",
     "library": "var_list.r",
     "varRefreshCmd": "cat(var_dic_list()) "
    }
   },
   "types_to_exclude": [
    "module",
    "function",
    "builtin_function_or_method",
    "instance",
    "_Feature"
   ],
   "window_display": false
  }
 },
 "nbformat": 4,
 "nbformat_minor": 5
}
