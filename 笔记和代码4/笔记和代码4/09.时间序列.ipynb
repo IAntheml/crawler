{
 "cells": [
  {
   "cell_type": "code",
   "execution_count": 1,
   "id": "4be0431d",
   "metadata": {
    "lines_to_next_cell": 2
   },
   "outputs": [],
   "source": [
    "import pandas as pd\n",
    "import arrow\n",
    "# !pip install arrow"
   ]
  },
  {
   "cell_type": "markdown",
   "id": "a6d66723",
   "metadata": {},
   "source": [
    "# arrow时间模块"
   ]
  },
  {
   "cell_type": "markdown",
   "id": "43caadaa",
   "metadata": {},
   "source": [
    "- 获取当前时间"
   ]
  },
  {
   "cell_type": "code",
   "execution_count": 2,
   "id": "56d80c41",
   "metadata": {},
   "outputs": [
    {
     "data": {
      "text/plain": [
       "<Arrow [2022-04-01T15:18:06.870203+08:00]>"
      ]
     },
     "execution_count": 2,
     "metadata": {},
     "output_type": "execute_result"
    }
   ],
   "source": [
    "arrow.now()"
   ]
  },
  {
   "cell_type": "markdown",
   "id": "5702ac17",
   "metadata": {},
   "source": [
    "- 从字符串解析日期"
   ]
  },
  {
   "cell_type": "code",
   "execution_count": 3,
   "id": "952c9e95",
   "metadata": {},
   "outputs": [
    {
     "data": {
      "text/plain": [
       "<Arrow [2022-04-01T14:24:30+00:00]>"
      ]
     },
     "execution_count": 3,
     "metadata": {},
     "output_type": "execute_result"
    }
   ],
   "source": [
    "string = '2022/04/01 14:24:30'\n",
    "arrow.get(string, 'YYYY/MM/DD hh:mm:ss')"
   ]
  },
  {
   "cell_type": "code",
   "execution_count": 4,
   "id": "3d18dd33",
   "metadata": {},
   "outputs": [
    {
     "data": {
      "text/plain": [
       "<Arrow [2000-07-29T00:00:00+00:00]>"
      ]
     },
     "execution_count": 4,
     "metadata": {},
     "output_type": "execute_result"
    }
   ],
   "source": [
    "arrow.get('Joe was born in 29 July 2000', 'DD MMMM YYYY')\n",
    "# https://arrow.readthedocs.io/en/latest/"
   ]
  },
  {
   "cell_type": "markdown",
   "id": "8bdb92be",
   "metadata": {},
   "source": [
    "|                      | Token | Output                                    |\n",
    "| -------------------- | ----- | ----------------------------------------- |\n",
    "| Year                 | YYYY  | 2000, 2001, 2002 …   2012, 2013           |\n",
    "|                      | YY    | 00, 01, 02 … 12, 13                       |\n",
    "| Month                | MMMM  | January, February, March … 1              |\n",
    "|                      | MMM   | Jan, Feb, Mar … 1                         |\n",
    "|                      | MM    | 01, 02, 03 … 11, 12                       |\n",
    "|                      | M     | 1, 2, 3 … 11, 12                          |\n",
    "| Day of Year          | DDDD  | 001, 002, 003 … 364,   365                |\n",
    "|                      | DDD   | 1, 2, 3 … 364, 365                        |\n",
    "| Day of Month         | DD    | 01, 02, 03 … 30, 31                       |\n",
    "|                      | D     | 1, 2, 3 … 30, 31                          |\n",
    "|                      | Do    | 1st, 2nd, 3rd … 30th,   31st              |\n",
    "| Day of Week          | dddd  | Monday, Tuesday, Wednesday … 2            |\n",
    "|                      | ddd   | Mon, Tue, Wed … 2                         |\n",
    "|                      | d     | 1, 2, 3 … 6, 7                            |\n",
    "| ISO week date        | W     | 2011-W05-4, 2019-W17                      |\n",
    "| Hour                 | HH    | 00, 01, 02 … 23, 24                       |\n",
    "|                      | H     | 0, 1, 2 … 23, 24                          |\n",
    "|                      | hh    | 01, 02, 03 … 11, 12                       |\n",
    "|                      | h     | 1, 2, 3 … 11, 12                          |\n",
    "| AM / PM              | A     | AM, PM, am, pm 1                          |\n",
    "|                      | a     | am, pm 1                                  |\n",
    "| Minute               | mm    | 00, 01, 02 … 58, 59                       |\n",
    "|                      | m     | 0, 1, 2 … 58, 59                          |\n",
    "| Second               | ss    | 00, 01, 02 … 58, 59                       |\n",
    "|                      | s     | 0, 1, 2 … 58, 59                          |\n",
    "| Sub-second           | S…    | 0, 02, 003, 000006, 123123123123… 3       |\n",
    "| Timezone             | ZZZ   | Asia/Baku, Europe/Warsaw, GMT … 4         |\n",
    "|                      | ZZ    | -07:00, -06:00 … +06:00, +07:00, +08,   Z |\n",
    "|                      | Z     | -0700, -0600 … +0600,   +0700, +08, Z     |\n",
    "| Seconds   Timestamp  | X     | 1381685817, 1381685817.915482 … 5         |\n",
    "| ms or µs   Timestamp | x     | 1569980330813, 1569980330813221           |"
   ]
  },
  {
   "cell_type": "markdown",
   "id": "40e6d270",
   "metadata": {},
   "source": [
    "- 实例化日期"
   ]
  },
  {
   "cell_type": "code",
   "execution_count": 5,
   "id": "76aa13ec",
   "metadata": {},
   "outputs": [
    {
     "data": {
      "text/plain": [
       "<Arrow [2022-04-01T00:00:00+00:00]>"
      ]
     },
     "execution_count": 5,
     "metadata": {},
     "output_type": "execute_result"
    }
   ],
   "source": [
    "arrow.get(2022, 4, 1)"
   ]
  },
  {
   "cell_type": "markdown",
   "id": "6e9a648a",
   "metadata": {},
   "source": [
    "- 获取当前时间\n",
    "- 获取年份部分\n",
    "- 获取日期部分\n",
    "- 获取时间部分\n",
    "- 向后偏移3周\n",
    "- 明年的上月的今天\n",
    "- 向前偏移1小时\n",
    "- 向后偏移2小时"
   ]
  },
  {
   "cell_type": "code",
   "execution_count": 6,
   "id": "2293b570",
   "metadata": {},
   "outputs": [
    {
     "data": {
      "text/plain": [
       "<Arrow [2022-04-01T17:18:08.303133+08:00]>"
      ]
     },
     "execution_count": 6,
     "metadata": {},
     "output_type": "execute_result"
    }
   ],
   "source": [
    "# 获取当前时间\n",
    "now = arrow.now()\n",
    "# 获取年份部分\n",
    "now.year\n",
    "# 获取日期部分\n",
    "now.date()\n",
    "# 获取时间部分\n",
    "now.time()\n",
    "# 向后偏移3周\n",
    "now.shift(weeks=3)\n",
    "# 明年的上月的今天\n",
    "now.shift(years=1, months=-1, weeks=2)\n",
    "# 向前偏移1小时\n",
    "now.shift(hours=-1)\n",
    "# 向后偏移2小时\n",
    "now.shift(hours=2)\n",
    "# 向过去偏移为负数,向未来偏移为正数,参数为复数(s)"
   ]
  },
  {
   "cell_type": "markdown",
   "id": "db8367bd",
   "metadata": {},
   "source": [
    "# 生成时间序列"
   ]
  },
  {
   "cell_type": "markdown",
   "id": "8b60be78",
   "metadata": {},
   "source": [
    "- 开始：2021-01-01，结束：2021-01-31，间隔5天"
   ]
  },
  {
   "cell_type": "code",
   "execution_count": 8,
   "id": "95a82159",
   "metadata": {},
   "outputs": [
    {
     "data": {
      "text/plain": [
       "DatetimeIndex(['2021-01-01', '2021-01-06', '2021-01-11', '2021-01-16',\n",
       "               '2021-01-21', '2021-01-26', '2021-01-31'],\n",
       "              dtype='datetime64[ns]', freq='5D')"
      ]
     },
     "execution_count": 8,
     "metadata": {},
     "output_type": "execute_result"
    }
   ],
   "source": [
    "# start, 开始值\n",
    "# end, 结束值\n",
    "# periods, 数目\n",
    "# freq, 时间频率\n",
    "pd.date_range('2021-01-01', '2021-01-31', freq='5D')"
   ]
  },
  {
   "cell_type": "markdown",
   "id": "9c0d016e",
   "metadata": {},
   "source": [
    "- 开始：2021-01-01，间隔2天，数目5个"
   ]
  },
  {
   "cell_type": "code",
   "execution_count": 10,
   "id": "0a651b4b",
   "metadata": {},
   "outputs": [
    {
     "data": {
      "text/plain": [
       "DatetimeIndex(['2021-01-01', '2021-01-03', '2021-01-05', '2021-01-07',\n",
       "               '2021-01-09'],\n",
       "              dtype='datetime64[ns]', freq='2D')"
      ]
     },
     "execution_count": 10,
     "metadata": {},
     "output_type": "execute_result"
    }
   ],
   "source": [
    "pd.date_range('2021-01-01', freq='2D', periods=5)"
   ]
  },
  {
   "cell_type": "markdown",
   "id": "3d1f4f6e",
   "metadata": {},
   "source": [
    "- 开始：2021-01-01，结束：2021-01-31，间隔1周"
   ]
  },
  {
   "cell_type": "code",
   "execution_count": 11,
   "id": "862ce816",
   "metadata": {},
   "outputs": [
    {
     "data": {
      "text/plain": [
       "DatetimeIndex(['2021-01-03', '2021-01-10', '2021-01-17', '2021-01-24',\n",
       "               '2021-01-31'],\n",
       "              dtype='datetime64[ns]', freq='W-SUN')"
      ]
     },
     "execution_count": 11,
     "metadata": {},
     "output_type": "execute_result"
    }
   ],
   "source": [
    "pd.date_range('2021-01-01', '2021-01-31', freq='W')"
   ]
  },
  {
   "cell_type": "markdown",
   "id": "07b3cf3b",
   "metadata": {},
   "source": [
    "- 开始：2021-01-01，间隔3小时，数目8个"
   ]
  },
  {
   "cell_type": "code",
   "execution_count": 12,
   "id": "181db829",
   "metadata": {},
   "outputs": [
    {
     "data": {
      "text/plain": [
       "DatetimeIndex(['2021-01-01 00:00:00', '2021-01-01 03:00:00',\n",
       "               '2021-01-01 06:00:00', '2021-01-01 09:00:00',\n",
       "               '2021-01-01 12:00:00', '2021-01-01 15:00:00',\n",
       "               '2021-01-01 18:00:00', '2021-01-01 21:00:00'],\n",
       "              dtype='datetime64[ns]', freq='3H')"
      ]
     },
     "execution_count": 12,
     "metadata": {},
     "output_type": "execute_result"
    }
   ],
   "source": [
    "pd.date_range('2021-01-01', freq='3H', periods=8)"
   ]
  },
  {
   "cell_type": "markdown",
   "id": "c1e01303",
   "metadata": {},
   "source": [
    "- 开始：2021-01-01 09:00，间隔1分钟，9点开始，数目12个"
   ]
  },
  {
   "cell_type": "code",
   "execution_count": 17,
   "id": "185c12e4",
   "metadata": {},
   "outputs": [
    {
     "data": {
      "text/plain": [
       "DatetimeIndex(['2021-01-01 09:00:00', '2021-01-01 09:01:00',\n",
       "               '2021-01-01 09:02:00', '2021-01-01 09:03:00',\n",
       "               '2021-01-01 09:04:00', '2021-01-01 09:05:00',\n",
       "               '2021-01-01 09:06:00', '2021-01-01 09:07:00',\n",
       "               '2021-01-01 09:08:00', '2021-01-01 09:09:00',\n",
       "               '2021-01-01 09:10:00', '2021-01-01 09:11:00'],\n",
       "              dtype='datetime64[ns]', freq='T')"
      ]
     },
     "execution_count": 17,
     "metadata": {},
     "output_type": "execute_result"
    }
   ],
   "source": [
    "# 分钟时间频率为min/T\n",
    "pd.date_range('2021-01-01 09:00', freq='min', periods=12)"
   ]
  },
  {
   "cell_type": "markdown",
   "id": "d525efe9",
   "metadata": {},
   "source": [
    "- 开始：2021-01-01，结束：2021-12-31，间隔1月，月末最后1天"
   ]
  },
  {
   "cell_type": "code",
   "execution_count": 20,
   "id": "d7ef45a6",
   "metadata": {},
   "outputs": [
    {
     "data": {
      "text/plain": [
       "DatetimeIndex(['2021-01-31', '2021-02-28', '2021-03-31', '2021-04-30',\n",
       "               '2021-05-31', '2021-06-30', '2021-07-31', '2021-08-31',\n",
       "               '2021-09-30', '2021-10-31', '2021-11-30', '2021-12-31'],\n",
       "              dtype='datetime64[ns]', freq='M')"
      ]
     },
     "execution_count": 20,
     "metadata": {},
     "output_type": "execute_result"
    }
   ],
   "source": [
    "pd.date_range('2021-01-01', '2021-12-31', freq='M')\n",
    "# pd.date_range('2021-01-01', '2021-12-31', freq='MS')"
   ]
  },
  {
   "cell_type": "markdown",
   "id": "255be846",
   "metadata": {},
   "source": [
    "- 开始：2021-01-01，间隔1年，年末最后1天，数目6个"
   ]
  },
  {
   "cell_type": "code",
   "execution_count": 21,
   "id": "a81d9aae",
   "metadata": {},
   "outputs": [
    {
     "data": {
      "text/plain": [
       "DatetimeIndex(['2021-12-31', '2022-12-31', '2023-12-31', '2024-12-31',\n",
       "               '2025-12-31', '2026-12-31'],\n",
       "              dtype='datetime64[ns]', freq='A-DEC')"
      ]
     },
     "execution_count": 21,
     "metadata": {},
     "output_type": "execute_result"
    }
   ],
   "source": [
    "pd.date_range('2021-01-01', freq='Y', periods=6)"
   ]
  },
  {
   "cell_type": "markdown",
   "id": "d691fbdd",
   "metadata": {},
   "source": [
    "- 开始：2021-01-01，间隔1年，年初第一天，数目6个"
   ]
  },
  {
   "cell_type": "code",
   "execution_count": 22,
   "id": "e6646ec5",
   "metadata": {},
   "outputs": [
    {
     "data": {
      "text/plain": [
       "DatetimeIndex(['2021-01-01', '2022-01-01', '2023-01-01', '2024-01-01',\n",
       "               '2025-01-01', '2026-01-01'],\n",
       "              dtype='datetime64[ns]', freq='AS-JAN')"
      ]
     },
     "execution_count": 22,
     "metadata": {},
     "output_type": "execute_result"
    }
   ],
   "source": [
    "pd.date_range('2021-01-01', freq='YS', periods=6)"
   ]
  },
  {
   "cell_type": "markdown",
   "id": "d0305498",
   "metadata": {},
   "source": [
    "# 时间序列加减"
   ]
  },
  {
   "cell_type": "code",
   "execution_count": 23,
   "id": "aee5410a",
   "metadata": {},
   "outputs": [
    {
     "data": {
      "text/html": [
       "<div>\n",
       "<style scoped>\n",
       "    .dataframe tbody tr th:only-of-type {\n",
       "        vertical-align: middle;\n",
       "    }\n",
       "\n",
       "    .dataframe tbody tr th {\n",
       "        vertical-align: top;\n",
       "    }\n",
       "\n",
       "    .dataframe thead th {\n",
       "        text-align: right;\n",
       "    }\n",
       "</style>\n",
       "<table border=\"1\" class=\"dataframe\">\n",
       "  <thead>\n",
       "    <tr style=\"text-align: right;\">\n",
       "      <th></th>\n",
       "      <th>日期</th>\n",
       "    </tr>\n",
       "  </thead>\n",
       "  <tbody>\n",
       "    <tr>\n",
       "      <th>0</th>\n",
       "      <td>2021-01-01</td>\n",
       "    </tr>\n",
       "    <tr>\n",
       "      <th>1</th>\n",
       "      <td>2021-01-04</td>\n",
       "    </tr>\n",
       "    <tr>\n",
       "      <th>2</th>\n",
       "      <td>2021-01-07</td>\n",
       "    </tr>\n",
       "    <tr>\n",
       "      <th>3</th>\n",
       "      <td>2021-01-10</td>\n",
       "    </tr>\n",
       "    <tr>\n",
       "      <th>4</th>\n",
       "      <td>2021-01-13</td>\n",
       "    </tr>\n",
       "    <tr>\n",
       "      <th>5</th>\n",
       "      <td>2021-01-16</td>\n",
       "    </tr>\n",
       "    <tr>\n",
       "      <th>6</th>\n",
       "      <td>2021-01-19</td>\n",
       "    </tr>\n",
       "    <tr>\n",
       "      <th>7</th>\n",
       "      <td>2021-01-22</td>\n",
       "    </tr>\n",
       "    <tr>\n",
       "      <th>8</th>\n",
       "      <td>2021-01-25</td>\n",
       "    </tr>\n",
       "    <tr>\n",
       "      <th>9</th>\n",
       "      <td>2021-01-28</td>\n",
       "    </tr>\n",
       "    <tr>\n",
       "      <th>10</th>\n",
       "      <td>2021-01-31</td>\n",
       "    </tr>\n",
       "    <tr>\n",
       "      <th>11</th>\n",
       "      <td>2021-02-03</td>\n",
       "    </tr>\n",
       "    <tr>\n",
       "      <th>12</th>\n",
       "      <td>2021-02-06</td>\n",
       "    </tr>\n",
       "    <tr>\n",
       "      <th>13</th>\n",
       "      <td>2021-02-09</td>\n",
       "    </tr>\n",
       "    <tr>\n",
       "      <th>14</th>\n",
       "      <td>2021-02-12</td>\n",
       "    </tr>\n",
       "  </tbody>\n",
       "</table>\n",
       "</div>"
      ],
      "text/plain": [
       "           日期\n",
       "0  2021-01-01\n",
       "1  2021-01-04\n",
       "2  2021-01-07\n",
       "3  2021-01-10\n",
       "4  2021-01-13\n",
       "5  2021-01-16\n",
       "6  2021-01-19\n",
       "7  2021-01-22\n",
       "8  2021-01-25\n",
       "9  2021-01-28\n",
       "10 2021-01-31\n",
       "11 2021-02-03\n",
       "12 2021-02-06\n",
       "13 2021-02-09\n",
       "14 2021-02-12"
      ]
     },
     "execution_count": 23,
     "metadata": {},
     "output_type": "execute_result"
    }
   ],
   "source": [
    "df = pd.DataFrame(\n",
    "    data=pd.date_range('2021-01-01', freq='3D', periods=15),\n",
    "    columns=['日期'])\n",
    "df"
   ]
  },
  {
   "cell_type": "markdown",
   "id": "5770078f",
   "metadata": {},
   "source": [
    "## 时间序列加减，天为单位"
   ]
  },
  {
   "cell_type": "code",
   "execution_count": 31,
   "id": "62e40929",
   "metadata": {},
   "outputs": [],
   "source": [
    "df['日期加10天'] = df['日期'] + pd.DateOffset(days=10)\n",
    "df['日期减10天'] = df['日期'] - pd.DateOffset(days=10)\n",
    "# df['日期减10天'] = df['日期'] + pd.DateOffset(days=-10)"
   ]
  },
  {
   "cell_type": "markdown",
   "id": "8cef012c",
   "metadata": {},
   "source": [
    "## 时间序列加减，月为单位"
   ]
  },
  {
   "cell_type": "code",
   "execution_count": 35,
   "id": "428253b0",
   "metadata": {},
   "outputs": [],
   "source": [
    "df['日期加1月'] = df['日期'] + pd.DateOffset(months=1)\n",
    "df['日期减1月'] = df['日期'] - pd.DateOffset(months=1)"
   ]
  },
  {
   "cell_type": "markdown",
   "id": "4eff589e",
   "metadata": {},
   "source": [
    "## 时间序列加减，周为单位"
   ]
  },
  {
   "cell_type": "code",
   "execution_count": 36,
   "id": "264f8e52",
   "metadata": {},
   "outputs": [],
   "source": [
    "df['日期加2周'] = df['日期'] + pd.DateOffset(weeks=2)\n",
    "df['日期减2周'] = df['日期'] - pd.DateOffset(weeks=2)"
   ]
  },
  {
   "cell_type": "markdown",
   "id": "59afc60e",
   "metadata": {},
   "source": [
    "## 向前(未来)偏移\n",
    "- 得到最近的月末时间点"
   ]
  },
  {
   "cell_type": "code",
   "execution_count": 38,
   "id": "51635c4d",
   "metadata": {},
   "outputs": [],
   "source": [
    "df['下期月末'] = df['日期'] + pd.offsets.MonthEnd(n=1)"
   ]
  },
  {
   "cell_type": "markdown",
   "id": "b967af36",
   "metadata": {},
   "source": [
    "## 向后(过去)偏移\n",
    "- 得到最近的季末时间点"
   ]
  },
  {
   "cell_type": "code",
   "execution_count": 40,
   "id": "c45c5253",
   "metadata": {},
   "outputs": [],
   "source": [
    "df['下期月末'] = df['日期'] - pd.offsets.QuarterEnd(n=1)"
   ]
  },
  {
   "cell_type": "markdown",
   "id": "8a9faed3",
   "metadata": {},
   "source": [
    "## 实例化日期"
   ]
  },
  {
   "cell_type": "code",
   "execution_count": 42,
   "id": "7e34edaa",
   "metadata": {},
   "outputs": [
    {
     "data": {
      "text/plain": [
       "Timestamp('2022-04-01 15:44:47.317650')"
      ]
     },
     "execution_count": 42,
     "metadata": {},
     "output_type": "execute_result"
    }
   ],
   "source": [
    "pd.Timestamp('now')"
   ]
  },
  {
   "cell_type": "code",
   "execution_count": 43,
   "id": "5e8eada4",
   "metadata": {
    "lines_to_next_cell": 2
   },
   "outputs": [
    {
     "data": {
      "text/plain": [
       "Timestamp('2022-04-01 15:45:30')"
      ]
     },
     "execution_count": 43,
     "metadata": {},
     "output_type": "execute_result"
    }
   ],
   "source": [
    "pd.Timestamp(2022, 4, 1, 15, 45, 30)"
   ]
  },
  {
   "cell_type": "code",
   "execution_count": null,
   "id": "d33256f1",
   "metadata": {},
   "outputs": [],
   "source": []
  }
 ],
 "metadata": {
  "hide_input": false,
  "jupytext": {
   "cell_metadata_filter": "-all",
   "encoding": "# -*- coding: utf-8 -*-",
   "notebook_metadata_filter": "-all"
  },
  "kernelspec": {
   "display_name": "Python 3",
   "language": "python",
   "name": "python3"
  },
  "language_info": {
   "codemirror_mode": {
    "name": "ipython",
    "version": 3
   },
   "file_extension": ".py",
   "mimetype": "text/x-python",
   "name": "python",
   "nbconvert_exporter": "python",
   "pygments_lexer": "ipython3",
   "version": "3.8.8"
  },
  "toc": {
   "base_numbering": 1,
   "nav_menu": {},
   "number_sections": true,
   "sideBar": true,
   "skip_h1_title": false,
   "title_cell": "Table of Contents",
   "title_sidebar": "Contents",
   "toc_cell": false,
   "toc_position": {},
   "toc_section_display": true,
   "toc_window_display": false
  },
  "varInspector": {
   "cols": {
    "lenName": 16,
    "lenType": 16,
    "lenVar": 40
   },
   "kernels_config": {
    "python": {
     "delete_cmd_postfix": "",
     "delete_cmd_prefix": "del ",
     "library": "var_list.py",
     "varRefreshCmd": "print(var_dic_list())"
    },
    "r": {
     "delete_cmd_postfix": ") ",
     "delete_cmd_prefix": "rm(",
     "library": "var_list.r",
     "varRefreshCmd": "cat(var_dic_list()) "
    }
   },
   "types_to_exclude": [
    "module",
    "function",
    "builtin_function_or_method",
    "instance",
    "_Feature"
   ],
   "window_display": false
  }
 },
 "nbformat": 4,
 "nbformat_minor": 5
}
