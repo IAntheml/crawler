{
 "cells": [
  {
   "cell_type": "code",
   "execution_count": 21,
   "id": "a9aee71f",
   "metadata": {},
   "outputs": [],
   "source": [
    "import pandas as pd"
   ]
  },
  {
   "cell_type": "markdown",
   "id": "8a3076bf",
   "metadata": {},
   "source": [
    "# Series重置索引"
   ]
  },
  {
   "cell_type": "markdown",
   "id": "010e6e77",
   "metadata": {},
   "source": [
    "## 创建Series对象"
   ]
  },
  {
   "cell_type": "code",
   "execution_count": 22,
   "id": "5cb5d6f1",
   "metadata": {},
   "outputs": [
    {
     "data": {
      "text/plain": [
       "1    88\n",
       "2    60\n",
       "3    75\n",
       "dtype: int64"
      ]
     },
     "execution_count": 22,
     "metadata": {},
     "output_type": "execute_result"
    }
   ],
   "source": [
    "s1 = pd.Series(\n",
    "    data=[88, 60, 75],\n",
    "    index=[1, 2, 3])\n",
    "s1"
   ]
  },
  {
   "cell_type": "markdown",
   "id": "80a7e66a",
   "metadata": {},
   "source": [
    "## 重置索引操作\n",
    "- 新索引：[1, 2, 3, 4, 5]\n",
    "- 新索引的长度大于原索引，则以NaN填充"
   ]
  },
  {
   "cell_type": "code",
   "execution_count": 23,
   "id": "6438ee60",
   "metadata": {},
   "outputs": [
    {
     "data": {
      "text/plain": [
       "1    88.0\n",
       "2    60.0\n",
       "3    75.0\n",
       "4     NaN\n",
       "5     NaN\n",
       "dtype: float64"
      ]
     },
     "execution_count": 23,
     "metadata": {},
     "output_type": "execute_result"
    }
   ],
   "source": [
    "s2 = s1.reindex([1, 2, 3, 4, 5])\n",
    "s2"
   ]
  },
  {
   "cell_type": "code",
   "execution_count": 24,
   "id": "e69e8b68",
   "metadata": {},
   "outputs": [
    {
     "data": {
      "text/plain": [
       "1    88\n",
       "2    60\n",
       "3    75\n",
       "4     0\n",
       "5     0\n",
       "dtype: int64"
      ]
     },
     "execution_count": 24,
     "metadata": {},
     "output_type": "execute_result"
    }
   ],
   "source": [
    "s2 = s1.reindex([1, 2, 3, 4, 5], fill_value=0)\n",
    "s2"
   ]
  },
  {
   "cell_type": "code",
   "execution_count": 25,
   "id": "779d5fb7",
   "metadata": {},
   "outputs": [
    {
     "data": {
      "text/plain": [
       "1    88\n",
       "2    60\n",
       "3    75\n",
       "4    75\n",
       "5    75\n",
       "dtype: int64"
      ]
     },
     "execution_count": 25,
     "metadata": {},
     "output_type": "execute_result"
    }
   ],
   "source": [
    "s2 = s1.reindex([1, 2, 3, 4, 5], method='ffill')\n",
    "s2"
   ]
  },
  {
   "cell_type": "code",
   "execution_count": 26,
   "id": "a3037ef3",
   "metadata": {},
   "outputs": [
    {
     "data": {
      "text/plain": [
       "1    88.0\n",
       "2    60.0\n",
       "3    75.0\n",
       "4     NaN\n",
       "5     NaN\n",
       "dtype: float64"
      ]
     },
     "execution_count": 26,
     "metadata": {},
     "output_type": "execute_result"
    }
   ],
   "source": [
    "s2 = s1.reindex([1, 2, 3, 4, 5], method='bfill')\n",
    "s2"
   ]
  },
  {
   "cell_type": "code",
   "execution_count": 27,
   "id": "db0cfdef",
   "metadata": {},
   "outputs": [
    {
     "data": {
      "text/plain": [
       "1    88\n",
       "2    60\n",
       "3    75\n",
       "4    75\n",
       "5    75\n",
       "dtype: int64"
      ]
     },
     "execution_count": 27,
     "metadata": {},
     "output_type": "execute_result"
    }
   ],
   "source": [
    "s2 = s1.reindex([1, 2, 3, 4, 5], method='nearest')\n",
    "s2"
   ]
  },
  {
   "cell_type": "markdown",
   "id": "9be77f48",
   "metadata": {},
   "source": [
    "# DataFrame重置索引"
   ]
  },
  {
   "cell_type": "markdown",
   "id": "6aaaeae7",
   "metadata": {},
   "source": [
    "## 创建DataFrame对象"
   ]
  },
  {
   "cell_type": "code",
   "execution_count": 18,
   "id": "111e25fa",
   "metadata": {
    "lines_to_next_cell": 2
   },
   "outputs": [
    {
     "data": {
      "text/html": [
       "<div>\n",
       "<style scoped>\n",
       "    .dataframe tbody tr th:only-of-type {\n",
       "        vertical-align: middle;\n",
       "    }\n",
       "\n",
       "    .dataframe tbody tr th {\n",
       "        vertical-align: top;\n",
       "    }\n",
       "\n",
       "    .dataframe thead th {\n",
       "        text-align: right;\n",
       "    }\n",
       "</style>\n",
       "<table border=\"1\" class=\"dataframe\">\n",
       "  <thead>\n",
       "    <tr style=\"text-align: right;\">\n",
       "      <th></th>\n",
       "      <th>语文</th>\n",
       "      <th>数学</th>\n",
       "      <th>英语</th>\n",
       "    </tr>\n",
       "  </thead>\n",
       "  <tbody>\n",
       "    <tr>\n",
       "      <th>A001</th>\n",
       "      <td>110</td>\n",
       "      <td>105</td>\n",
       "      <td>99</td>\n",
       "    </tr>\n",
       "    <tr>\n",
       "      <th>A003</th>\n",
       "      <td>105</td>\n",
       "      <td>88</td>\n",
       "      <td>115</td>\n",
       "    </tr>\n",
       "    <tr>\n",
       "      <th>A005</th>\n",
       "      <td>109</td>\n",
       "      <td>120</td>\n",
       "      <td>130</td>\n",
       "    </tr>\n",
       "  </tbody>\n",
       "</table>\n",
       "</div>"
      ],
      "text/plain": [
       "       语文   数学   英语\n",
       "A001  110  105   99\n",
       "A003  105   88  115\n",
       "A005  109  120  130"
      ]
     },
     "execution_count": 18,
     "metadata": {},
     "output_type": "execute_result"
    }
   ],
   "source": [
    "data = [[110, 105, 99],\n",
    "        [105, 88, 115],\n",
    "        [109, 120, 130]]\n",
    "index = ['A001', 'A003', 'A005']\n",
    "columns = ['语文', '数学', '英语']\n",
    "df = pd.DataFrame(\n",
    "    data=data,\n",
    "    index=index,\n",
    "    columns=columns)\n",
    "df"
   ]
  },
  {
   "cell_type": "markdown",
   "id": "196a1965",
   "metadata": {},
   "source": [
    "## 重置行列索引"
   ]
  },
  {
   "cell_type": "code",
   "execution_count": 20,
   "id": "2deaf457",
   "metadata": {
    "scrolled": true
   },
   "outputs": [
    {
     "data": {
      "text/html": [
       "<div>\n",
       "<style scoped>\n",
       "    .dataframe tbody tr th:only-of-type {\n",
       "        vertical-align: middle;\n",
       "    }\n",
       "\n",
       "    .dataframe tbody tr th {\n",
       "        vertical-align: top;\n",
       "    }\n",
       "\n",
       "    .dataframe thead th {\n",
       "        text-align: right;\n",
       "    }\n",
       "</style>\n",
       "<table border=\"1\" class=\"dataframe\">\n",
       "  <thead>\n",
       "    <tr style=\"text-align: right;\">\n",
       "      <th></th>\n",
       "      <th>语文</th>\n",
       "      <th>数学</th>\n",
       "      <th>英语</th>\n",
       "      <th>化学</th>\n",
       "    </tr>\n",
       "  </thead>\n",
       "  <tbody>\n",
       "    <tr>\n",
       "      <th>A001</th>\n",
       "      <td>110</td>\n",
       "      <td>105</td>\n",
       "      <td>99</td>\n",
       "      <td>0</td>\n",
       "    </tr>\n",
       "    <tr>\n",
       "      <th>A002</th>\n",
       "      <td>0</td>\n",
       "      <td>0</td>\n",
       "      <td>0</td>\n",
       "      <td>0</td>\n",
       "    </tr>\n",
       "    <tr>\n",
       "      <th>A003</th>\n",
       "      <td>105</td>\n",
       "      <td>88</td>\n",
       "      <td>115</td>\n",
       "      <td>0</td>\n",
       "    </tr>\n",
       "    <tr>\n",
       "      <th>A004</th>\n",
       "      <td>0</td>\n",
       "      <td>0</td>\n",
       "      <td>0</td>\n",
       "      <td>0</td>\n",
       "    </tr>\n",
       "    <tr>\n",
       "      <th>A005</th>\n",
       "      <td>109</td>\n",
       "      <td>120</td>\n",
       "      <td>130</td>\n",
       "      <td>0</td>\n",
       "    </tr>\n",
       "  </tbody>\n",
       "</table>\n",
       "</div>"
      ],
      "text/plain": [
       "       语文   数学   英语  化学\n",
       "A001  110  105   99   0\n",
       "A002    0    0    0   0\n",
       "A003  105   88  115   0\n",
       "A004    0    0    0   0\n",
       "A005  109  120  130   0"
      ]
     },
     "execution_count": 20,
     "metadata": {},
     "output_type": "execute_result"
    }
   ],
   "source": [
    "index = ['A001', 'A002', 'A003', 'A004', 'A005']\n",
    "columns = ['语文', '数学', '英语', '化学']\n",
    "tb = df.reindex(index=index, columns=columns, fill_value=0)\n",
    "tb"
   ]
  },
  {
   "cell_type": "code",
   "execution_count": 31,
   "id": "43bc50e4",
   "metadata": {},
   "outputs": [
    {
     "data": {
      "text/html": [
       "<div>\n",
       "<style scoped>\n",
       "    .dataframe tbody tr th:only-of-type {\n",
       "        vertical-align: middle;\n",
       "    }\n",
       "\n",
       "    .dataframe tbody tr th {\n",
       "        vertical-align: top;\n",
       "    }\n",
       "\n",
       "    .dataframe thead th {\n",
       "        text-align: right;\n",
       "    }\n",
       "</style>\n",
       "<table border=\"1\" class=\"dataframe\">\n",
       "  <thead>\n",
       "    <tr style=\"text-align: right;\">\n",
       "      <th></th>\n",
       "      <th>付款金额</th>\n",
       "      <th>产品数量</th>\n",
       "      <th>产品名称</th>\n",
       "      <th>类别</th>\n",
       "      <th>订单付款时间</th>\n",
       "    </tr>\n",
       "    <tr>\n",
       "      <th>用户ID</th>\n",
       "      <th></th>\n",
       "      <th></th>\n",
       "      <th></th>\n",
       "      <th></th>\n",
       "      <th></th>\n",
       "    </tr>\n",
       "  </thead>\n",
       "  <tbody>\n",
       "    <tr>\n",
       "      <th>A001</th>\n",
       "      <td>24179.750</td>\n",
       "      <td>2.0</td>\n",
       "      <td>产品A</td>\n",
       "      <td>优选</td>\n",
       "      <td>2021-10-09 22:54:26</td>\n",
       "    </tr>\n",
       "    <tr>\n",
       "      <th>A002</th>\n",
       "      <td>13277.800</td>\n",
       "      <td>1.0</td>\n",
       "      <td>产品B</td>\n",
       "      <td>NaN</td>\n",
       "      <td>2021-10-09 22:52:42</td>\n",
       "    </tr>\n",
       "    <tr>\n",
       "      <th>A003</th>\n",
       "      <td>8232.910</td>\n",
       "      <td>1.0</td>\n",
       "      <td>产品C</td>\n",
       "      <td>优选</td>\n",
       "      <td>2021-01-19 12:53:01</td>\n",
       "    </tr>\n",
       "    <tr>\n",
       "      <th>A004</th>\n",
       "      <td>13774.875</td>\n",
       "      <td>NaN</td>\n",
       "      <td>产品D</td>\n",
       "      <td>优选</td>\n",
       "      <td>2021-06-30 11:46:14</td>\n",
       "    </tr>\n",
       "    <tr>\n",
       "      <th>A005</th>\n",
       "      <td>50381.500</td>\n",
       "      <td>1.0</td>\n",
       "      <td>产品E</td>\n",
       "      <td>NaN</td>\n",
       "      <td>2021-03-23 18:25:45</td>\n",
       "    </tr>\n",
       "    <tr>\n",
       "      <th>A006</th>\n",
       "      <td>7053.410</td>\n",
       "      <td>1.0</td>\n",
       "      <td>产品F</td>\n",
       "      <td>普通</td>\n",
       "      <td>2021-03-24 19:25:45</td>\n",
       "    </tr>\n",
       "    <tr>\n",
       "      <th>A007</th>\n",
       "      <td>9412.410</td>\n",
       "      <td>1.0</td>\n",
       "      <td>产品G</td>\n",
       "      <td>普通</td>\n",
       "      <td>2021-03-25 11:00:45</td>\n",
       "    </tr>\n",
       "    <tr>\n",
       "      <th>A008</th>\n",
       "      <td>7053.410</td>\n",
       "      <td>NaN</td>\n",
       "      <td>产品H</td>\n",
       "      <td>优选</td>\n",
       "      <td>2021-03-26 23:11:11</td>\n",
       "    </tr>\n",
       "    <tr>\n",
       "      <th>A009</th>\n",
       "      <td>7053.410</td>\n",
       "      <td>1.0</td>\n",
       "      <td>产品K</td>\n",
       "      <td>优选</td>\n",
       "      <td>2021-03-27 07:25:30</td>\n",
       "    </tr>\n",
       "    <tr>\n",
       "      <th>A010</th>\n",
       "      <td>5873.910</td>\n",
       "      <td>1.0</td>\n",
       "      <td>产品Q</td>\n",
       "      <td>优选</td>\n",
       "      <td>2021-03-28 18:09:12</td>\n",
       "    </tr>\n",
       "    <tr>\n",
       "      <th>A001</th>\n",
       "      <td>24179.750</td>\n",
       "      <td>2.0</td>\n",
       "      <td>产品A</td>\n",
       "      <td>优选</td>\n",
       "      <td>2021-10-09 22:54:26</td>\n",
       "    </tr>\n",
       "    <tr>\n",
       "      <th>A002</th>\n",
       "      <td>13277.800</td>\n",
       "      <td>1.0</td>\n",
       "      <td>产品B</td>\n",
       "      <td>NaN</td>\n",
       "      <td>2021-10-10 22:52:42</td>\n",
       "    </tr>\n",
       "  </tbody>\n",
       "</table>\n",
       "</div>"
      ],
      "text/plain": [
       "           付款金额  产品数量 产品名称   类别              订单付款时间\n",
       "用户ID                                               \n",
       "A001  24179.750   2.0  产品A   优选 2021-10-09 22:54:26\n",
       "A002  13277.800   1.0  产品B  NaN 2021-10-09 22:52:42\n",
       "A003   8232.910   1.0  产品C   优选 2021-01-19 12:53:01\n",
       "A004  13774.875   NaN  产品D   优选 2021-06-30 11:46:14\n",
       "A005  50381.500   1.0  产品E  NaN 2021-03-23 18:25:45\n",
       "A006   7053.410   1.0  产品F   普通 2021-03-24 19:25:45\n",
       "A007   9412.410   1.0  产品G   普通 2021-03-25 11:00:45\n",
       "A008   7053.410   NaN  产品H   优选 2021-03-26 23:11:11\n",
       "A009   7053.410   1.0  产品K   优选 2021-03-27 07:25:30\n",
       "A010   5873.910   1.0  产品Q   优选 2021-03-28 18:09:12\n",
       "A001  24179.750   2.0  产品A   优选 2021-10-09 22:54:26\n",
       "A002  13277.800   1.0  产品B  NaN 2021-10-10 22:52:42"
      ]
     },
     "execution_count": 31,
     "metadata": {},
     "output_type": "execute_result"
    }
   ],
   "source": [
    "# set_index()\n",
    "df = pd.read_excel('./data/demo_08.xlsx')\n",
    "df = df.set_index('用户ID')\n",
    "df"
   ]
  },
  {
   "cell_type": "code",
   "execution_count": 35,
   "id": "778ddc77",
   "metadata": {
    "lines_to_next_cell": 2
   },
   "outputs": [
    {
     "data": {
      "text/html": [
       "<div>\n",
       "<style scoped>\n",
       "    .dataframe tbody tr th:only-of-type {\n",
       "        vertical-align: middle;\n",
       "    }\n",
       "\n",
       "    .dataframe tbody tr th {\n",
       "        vertical-align: top;\n",
       "    }\n",
       "\n",
       "    .dataframe thead th {\n",
       "        text-align: right;\n",
       "    }\n",
       "</style>\n",
       "<table border=\"1\" class=\"dataframe\">\n",
       "  <thead>\n",
       "    <tr style=\"text-align: right;\">\n",
       "      <th></th>\n",
       "      <th>用户ID</th>\n",
       "      <th>付款金额</th>\n",
       "      <th>产品数量</th>\n",
       "      <th>产品名称</th>\n",
       "      <th>类别</th>\n",
       "      <th>订单付款时间</th>\n",
       "    </tr>\n",
       "  </thead>\n",
       "  <tbody>\n",
       "    <tr>\n",
       "      <th>0</th>\n",
       "      <td>A001</td>\n",
       "      <td>24179.75</td>\n",
       "      <td>2.0</td>\n",
       "      <td>产品A</td>\n",
       "      <td>优选</td>\n",
       "      <td>2021-10-09 22:54:26</td>\n",
       "    </tr>\n",
       "    <tr>\n",
       "      <th>1</th>\n",
       "      <td>A003</td>\n",
       "      <td>8232.91</td>\n",
       "      <td>1.0</td>\n",
       "      <td>产品C</td>\n",
       "      <td>优选</td>\n",
       "      <td>2021-01-19 12:53:01</td>\n",
       "    </tr>\n",
       "    <tr>\n",
       "      <th>2</th>\n",
       "      <td>A006</td>\n",
       "      <td>7053.41</td>\n",
       "      <td>1.0</td>\n",
       "      <td>产品F</td>\n",
       "      <td>普通</td>\n",
       "      <td>2021-03-24 19:25:45</td>\n",
       "    </tr>\n",
       "    <tr>\n",
       "      <th>3</th>\n",
       "      <td>A007</td>\n",
       "      <td>9412.41</td>\n",
       "      <td>1.0</td>\n",
       "      <td>产品G</td>\n",
       "      <td>普通</td>\n",
       "      <td>2021-03-25 11:00:45</td>\n",
       "    </tr>\n",
       "    <tr>\n",
       "      <th>4</th>\n",
       "      <td>A009</td>\n",
       "      <td>7053.41</td>\n",
       "      <td>1.0</td>\n",
       "      <td>产品K</td>\n",
       "      <td>优选</td>\n",
       "      <td>2021-03-27 07:25:30</td>\n",
       "    </tr>\n",
       "    <tr>\n",
       "      <th>5</th>\n",
       "      <td>A010</td>\n",
       "      <td>5873.91</td>\n",
       "      <td>1.0</td>\n",
       "      <td>产品Q</td>\n",
       "      <td>优选</td>\n",
       "      <td>2021-03-28 18:09:12</td>\n",
       "    </tr>\n",
       "    <tr>\n",
       "      <th>6</th>\n",
       "      <td>A001</td>\n",
       "      <td>24179.75</td>\n",
       "      <td>2.0</td>\n",
       "      <td>产品A</td>\n",
       "      <td>优选</td>\n",
       "      <td>2021-10-09 22:54:26</td>\n",
       "    </tr>\n",
       "  </tbody>\n",
       "</table>\n",
       "</div>"
      ],
      "text/plain": [
       "   用户ID      付款金额  产品数量 产品名称  类别              订单付款时间\n",
       "0  A001  24179.75   2.0  产品A  优选 2021-10-09 22:54:26\n",
       "1  A003   8232.91   1.0  产品C  优选 2021-01-19 12:53:01\n",
       "2  A006   7053.41   1.0  产品F  普通 2021-03-24 19:25:45\n",
       "3  A007   9412.41   1.0  产品G  普通 2021-03-25 11:00:45\n",
       "4  A009   7053.41   1.0  产品K  优选 2021-03-27 07:25:30\n",
       "5  A010   5873.91   1.0  产品Q  优选 2021-03-28 18:09:12\n",
       "6  A001  24179.75   2.0  产品A  优选 2021-10-09 22:54:26"
      ]
     },
     "execution_count": 35,
     "metadata": {},
     "output_type": "execute_result"
    }
   ],
   "source": [
    "# reset_index()\n",
    "df = pd.read_excel('./data/demo_08.xlsx')\n",
    "df = df.dropna().reset_index(drop=True)\n",
    "df"
   ]
  },
  {
   "cell_type": "markdown",
   "id": "8dc28281",
   "metadata": {},
   "source": [
    "# 总结"
   ]
  },
  {
   "cell_type": "markdown",
   "id": "21a06b2a",
   "metadata": {},
   "source": [
    "- reindex: 对索引重新赋值\n",
    "- set_index: 设置某列为索引\n",
    "- reset_index: 重置索引从0开始"
   ]
  },
  {
   "cell_type": "code",
   "execution_count": null,
   "id": "62bcbf3a",
   "metadata": {},
   "outputs": [],
   "source": []
  }
 ],
 "metadata": {
  "hide_input": false,
  "jupytext": {
   "cell_metadata_filter": "-all",
   "encoding": "# -*- coding: utf-8 -*-",
   "notebook_metadata_filter": "-all"
  },
  "kernelspec": {
   "display_name": "Python 3",
   "language": "python",
   "name": "python3"
  },
  "language_info": {
   "codemirror_mode": {
    "name": "ipython",
    "version": 3
   },
   "file_extension": ".py",
   "mimetype": "text/x-python",
   "name": "python",
   "nbconvert_exporter": "python",
   "pygments_lexer": "ipython3",
   "version": "3.8.8"
  },
  "toc": {
   "base_numbering": 1,
   "nav_menu": {},
   "number_sections": true,
   "sideBar": true,
   "skip_h1_title": false,
   "title_cell": "Table of Contents",
   "title_sidebar": "Contents",
   "toc_cell": false,
   "toc_position": {},
   "toc_section_display": true,
   "toc_window_display": true
  },
  "varInspector": {
   "cols": {
    "lenName": 16,
    "lenType": 16,
    "lenVar": 40
   },
   "kernels_config": {
    "python": {
     "delete_cmd_postfix": "",
     "delete_cmd_prefix": "del ",
     "library": "var_list.py",
     "varRefreshCmd": "print(var_dic_list())"
    },
    "r": {
     "delete_cmd_postfix": ") ",
     "delete_cmd_prefix": "rm(",
     "library": "var_list.r",
     "varRefreshCmd": "cat(var_dic_list()) "
    }
   },
   "types_to_exclude": [
    "module",
    "function",
    "builtin_function_or_method",
    "instance",
    "_Feature"
   ],
   "window_display": false
  }
 },
 "nbformat": 4,
 "nbformat_minor": 5
}
