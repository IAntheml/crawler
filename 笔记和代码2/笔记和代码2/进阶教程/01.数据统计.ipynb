{
 "cells": [
  {
   "cell_type": "code",
   "execution_count": 1,
   "id": "be54726d",
   "metadata": {},
   "outputs": [],
   "source": [
    "import numpy as np\n",
    "import pandas as pd"
   ]
  },
  {
   "cell_type": "markdown",
   "id": "f9747076",
   "metadata": {},
   "source": [
    "# 创建DataFrame对象\n",
    "- 生成100行3列[60,100)的随机整数"
   ]
  },
  {
   "cell_type": "code",
   "execution_count": 10,
   "id": "2d1bb34b",
   "metadata": {},
   "outputs": [
    {
     "data": {
      "text/html": [
       "<div>\n",
       "<style scoped>\n",
       "    .dataframe tbody tr th:only-of-type {\n",
       "        vertical-align: middle;\n",
       "    }\n",
       "\n",
       "    .dataframe tbody tr th {\n",
       "        vertical-align: top;\n",
       "    }\n",
       "\n",
       "    .dataframe thead th {\n",
       "        text-align: right;\n",
       "    }\n",
       "</style>\n",
       "<table border=\"1\" class=\"dataframe\">\n",
       "  <thead>\n",
       "    <tr style=\"text-align: right;\">\n",
       "      <th></th>\n",
       "      <th>语文</th>\n",
       "      <th>数学</th>\n",
       "      <th>英语</th>\n",
       "    </tr>\n",
       "  </thead>\n",
       "  <tbody>\n",
       "    <tr>\n",
       "      <th>1</th>\n",
       "      <td>65</td>\n",
       "      <td>98</td>\n",
       "      <td>86</td>\n",
       "    </tr>\n",
       "    <tr>\n",
       "      <th>2</th>\n",
       "      <td>82</td>\n",
       "      <td>98</td>\n",
       "      <td>87</td>\n",
       "    </tr>\n",
       "    <tr>\n",
       "      <th>3</th>\n",
       "      <td>67</td>\n",
       "      <td>88</td>\n",
       "      <td>71</td>\n",
       "    </tr>\n",
       "    <tr>\n",
       "      <th>4</th>\n",
       "      <td>78</td>\n",
       "      <td>87</td>\n",
       "      <td>84</td>\n",
       "    </tr>\n",
       "    <tr>\n",
       "      <th>5</th>\n",
       "      <td>71</td>\n",
       "      <td>98</td>\n",
       "      <td>92</td>\n",
       "    </tr>\n",
       "    <tr>\n",
       "      <th>...</th>\n",
       "      <td>...</td>\n",
       "      <td>...</td>\n",
       "      <td>...</td>\n",
       "    </tr>\n",
       "    <tr>\n",
       "      <th>96</th>\n",
       "      <td>67</td>\n",
       "      <td>79</td>\n",
       "      <td>67</td>\n",
       "    </tr>\n",
       "    <tr>\n",
       "      <th>97</th>\n",
       "      <td>88</td>\n",
       "      <td>71</td>\n",
       "      <td>79</td>\n",
       "    </tr>\n",
       "    <tr>\n",
       "      <th>98</th>\n",
       "      <td>86</td>\n",
       "      <td>62</td>\n",
       "      <td>88</td>\n",
       "    </tr>\n",
       "    <tr>\n",
       "      <th>99</th>\n",
       "      <td>63</td>\n",
       "      <td>83</td>\n",
       "      <td>76</td>\n",
       "    </tr>\n",
       "    <tr>\n",
       "      <th>100</th>\n",
       "      <td>94</td>\n",
       "      <td>89</td>\n",
       "      <td>99</td>\n",
       "    </tr>\n",
       "  </tbody>\n",
       "</table>\n",
       "<p>100 rows × 3 columns</p>\n",
       "</div>"
      ],
      "text/plain": [
       "     语文  数学  英语\n",
       "1    65  98  86\n",
       "2    82  98  87\n",
       "3    67  88  71\n",
       "4    78  87  84\n",
       "5    71  98  92\n",
       "..   ..  ..  ..\n",
       "96   67  79  67\n",
       "97   88  71  79\n",
       "98   86  62  88\n",
       "99   63  83  76\n",
       "100  94  89  99\n",
       "\n",
       "[100 rows x 3 columns]"
      ]
     },
     "execution_count": 10,
     "metadata": {},
     "output_type": "execute_result"
    }
   ],
   "source": [
    "data = np.random.randint(60, 100, [100, 3])\n",
    "index = range(1, 101)\n",
    "columns = ['语文', '数学', '英语']\n",
    "df = pd.DataFrame(\n",
    "    data=data,\n",
    "    index=index,\n",
    "    columns=columns)\n",
    "df"
   ]
  },
  {
   "cell_type": "markdown",
   "id": "d7200a8a",
   "metadata": {},
   "source": [
    "# 计算总成绩\n",
    "- 增加一列数据"
   ]
  },
  {
   "cell_type": "code",
   "execution_count": 11,
   "id": "b9d6b49d",
   "metadata": {},
   "outputs": [
    {
     "data": {
      "text/html": [
       "<div>\n",
       "<style scoped>\n",
       "    .dataframe tbody tr th:only-of-type {\n",
       "        vertical-align: middle;\n",
       "    }\n",
       "\n",
       "    .dataframe tbody tr th {\n",
       "        vertical-align: top;\n",
       "    }\n",
       "\n",
       "    .dataframe thead th {\n",
       "        text-align: right;\n",
       "    }\n",
       "</style>\n",
       "<table border=\"1\" class=\"dataframe\">\n",
       "  <thead>\n",
       "    <tr style=\"text-align: right;\">\n",
       "      <th></th>\n",
       "      <th>语文</th>\n",
       "      <th>数学</th>\n",
       "      <th>英语</th>\n",
       "      <th>总成绩</th>\n",
       "    </tr>\n",
       "  </thead>\n",
       "  <tbody>\n",
       "    <tr>\n",
       "      <th>1</th>\n",
       "      <td>65</td>\n",
       "      <td>98</td>\n",
       "      <td>86</td>\n",
       "      <td>249</td>\n",
       "    </tr>\n",
       "    <tr>\n",
       "      <th>2</th>\n",
       "      <td>82</td>\n",
       "      <td>98</td>\n",
       "      <td>87</td>\n",
       "      <td>267</td>\n",
       "    </tr>\n",
       "    <tr>\n",
       "      <th>3</th>\n",
       "      <td>67</td>\n",
       "      <td>88</td>\n",
       "      <td>71</td>\n",
       "      <td>226</td>\n",
       "    </tr>\n",
       "    <tr>\n",
       "      <th>4</th>\n",
       "      <td>78</td>\n",
       "      <td>87</td>\n",
       "      <td>84</td>\n",
       "      <td>249</td>\n",
       "    </tr>\n",
       "    <tr>\n",
       "      <th>5</th>\n",
       "      <td>71</td>\n",
       "      <td>98</td>\n",
       "      <td>92</td>\n",
       "      <td>261</td>\n",
       "    </tr>\n",
       "  </tbody>\n",
       "</table>\n",
       "</div>"
      ],
      "text/plain": [
       "   语文  数学  英语  总成绩\n",
       "1  65  98  86  249\n",
       "2  82  98  87  267\n",
       "3  67  88  71  226\n",
       "4  78  87  84  249\n",
       "5  71  98  92  261"
      ]
     },
     "execution_count": 11,
     "metadata": {},
     "output_type": "execute_result"
    }
   ],
   "source": [
    "df['总成绩'] = df.sum(axis=1)\n",
    "df.head()"
   ]
  },
  {
   "cell_type": "markdown",
   "id": "74c6a9fe",
   "metadata": {},
   "source": [
    "# 计算各科均值\n",
    "- 增加一行数据"
   ]
  },
  {
   "cell_type": "code",
   "execution_count": 13,
   "id": "01e9cafa",
   "metadata": {},
   "outputs": [
    {
     "data": {
      "text/html": [
       "<div>\n",
       "<style scoped>\n",
       "    .dataframe tbody tr th:only-of-type {\n",
       "        vertical-align: middle;\n",
       "    }\n",
       "\n",
       "    .dataframe tbody tr th {\n",
       "        vertical-align: top;\n",
       "    }\n",
       "\n",
       "    .dataframe thead th {\n",
       "        text-align: right;\n",
       "    }\n",
       "</style>\n",
       "<table border=\"1\" class=\"dataframe\">\n",
       "  <thead>\n",
       "    <tr style=\"text-align: right;\">\n",
       "      <th></th>\n",
       "      <th>语文</th>\n",
       "      <th>数学</th>\n",
       "      <th>英语</th>\n",
       "      <th>总成绩</th>\n",
       "    </tr>\n",
       "  </thead>\n",
       "  <tbody>\n",
       "    <tr>\n",
       "      <th>97</th>\n",
       "      <td>88.00</td>\n",
       "      <td>71.0</td>\n",
       "      <td>79.00</td>\n",
       "      <td>238.00</td>\n",
       "    </tr>\n",
       "    <tr>\n",
       "      <th>98</th>\n",
       "      <td>86.00</td>\n",
       "      <td>62.0</td>\n",
       "      <td>88.00</td>\n",
       "      <td>236.00</td>\n",
       "    </tr>\n",
       "    <tr>\n",
       "      <th>99</th>\n",
       "      <td>63.00</td>\n",
       "      <td>83.0</td>\n",
       "      <td>76.00</td>\n",
       "      <td>222.00</td>\n",
       "    </tr>\n",
       "    <tr>\n",
       "      <th>100</th>\n",
       "      <td>94.00</td>\n",
       "      <td>89.0</td>\n",
       "      <td>99.00</td>\n",
       "      <td>282.00</td>\n",
       "    </tr>\n",
       "    <tr>\n",
       "      <th>均值</th>\n",
       "      <td>80.19</td>\n",
       "      <td>81.7</td>\n",
       "      <td>79.72</td>\n",
       "      <td>241.61</td>\n",
       "    </tr>\n",
       "  </tbody>\n",
       "</table>\n",
       "</div>"
      ],
      "text/plain": [
       "        语文    数学     英语     总成绩\n",
       "97   88.00  71.0  79.00  238.00\n",
       "98   86.00  62.0  88.00  236.00\n",
       "99   63.00  83.0  76.00  222.00\n",
       "100  94.00  89.0  99.00  282.00\n",
       "均值   80.19  81.7  79.72  241.61"
      ]
     },
     "execution_count": 13,
     "metadata": {},
     "output_type": "execute_result"
    }
   ],
   "source": [
    "df.loc['均值'] = df.mean(axis=0)\n",
    "df.tail(5)"
   ]
  },
  {
   "cell_type": "markdown",
   "id": "d4947e85",
   "metadata": {},
   "source": [
    "# 求每科的最大值"
   ]
  },
  {
   "cell_type": "code",
   "execution_count": 16,
   "id": "5d5b669c",
   "metadata": {},
   "outputs": [
    {
     "data": {
      "text/plain": [
       "语文      99.0\n",
       "数学      99.0\n",
       "英语      99.0\n",
       "总成绩    285.0\n",
       "dtype: float64"
      ]
     },
     "execution_count": 16,
     "metadata": {},
     "output_type": "execute_result"
    }
   ],
   "source": [
    "df.max()"
   ]
  },
  {
   "cell_type": "markdown",
   "id": "08bb45f2",
   "metadata": {},
   "source": [
    "# 求每科的最小值"
   ]
  },
  {
   "cell_type": "code",
   "execution_count": 17,
   "id": "f1ca899d",
   "metadata": {},
   "outputs": [
    {
     "data": {
      "text/plain": [
       "语文      60.0\n",
       "数学      60.0\n",
       "英语      61.0\n",
       "总成绩    197.0\n",
       "dtype: float64"
      ]
     },
     "execution_count": 17,
     "metadata": {},
     "output_type": "execute_result"
    }
   ],
   "source": [
    "df.min()"
   ]
  },
  {
   "cell_type": "markdown",
   "id": "376ff6c9",
   "metadata": {},
   "source": [
    "# 求每科的中位数"
   ]
  },
  {
   "cell_type": "code",
   "execution_count": 18,
   "id": "97b85e8f",
   "metadata": {},
   "outputs": [
    {
     "data": {
      "text/plain": [
       "语文      82.00\n",
       "数学      82.00\n",
       "英语      80.00\n",
       "总成绩    241.61\n",
       "dtype: float64"
      ]
     },
     "execution_count": 18,
     "metadata": {},
     "output_type": "execute_result"
    }
   ],
   "source": [
    "df.median()"
   ]
  },
  {
   "cell_type": "markdown",
   "id": "f52990f8",
   "metadata": {},
   "source": [
    "# 求每科的众数"
   ]
  },
  {
   "cell_type": "code",
   "execution_count": 19,
   "id": "722a90af",
   "metadata": {},
   "outputs": [
    {
     "data": {
      "text/html": [
       "<div>\n",
       "<style scoped>\n",
       "    .dataframe tbody tr th:only-of-type {\n",
       "        vertical-align: middle;\n",
       "    }\n",
       "\n",
       "    .dataframe tbody tr th {\n",
       "        vertical-align: top;\n",
       "    }\n",
       "\n",
       "    .dataframe thead th {\n",
       "        text-align: right;\n",
       "    }\n",
       "</style>\n",
       "<table border=\"1\" class=\"dataframe\">\n",
       "  <thead>\n",
       "    <tr style=\"text-align: right;\">\n",
       "      <th></th>\n",
       "      <th>语文</th>\n",
       "      <th>数学</th>\n",
       "      <th>英语</th>\n",
       "      <th>总成绩</th>\n",
       "    </tr>\n",
       "  </thead>\n",
       "  <tbody>\n",
       "    <tr>\n",
       "      <th>0</th>\n",
       "      <td>87.0</td>\n",
       "      <td>90.0</td>\n",
       "      <td>98.0</td>\n",
       "      <td>236.0</td>\n",
       "    </tr>\n",
       "    <tr>\n",
       "      <th>1</th>\n",
       "      <td>NaN</td>\n",
       "      <td>92.0</td>\n",
       "      <td>NaN</td>\n",
       "      <td>NaN</td>\n",
       "    </tr>\n",
       "  </tbody>\n",
       "</table>\n",
       "</div>"
      ],
      "text/plain": [
       "     语文    数学    英语    总成绩\n",
       "0  87.0  90.0  98.0  236.0\n",
       "1   NaN  92.0   NaN    NaN"
      ]
     },
     "execution_count": 19,
     "metadata": {},
     "output_type": "execute_result"
    }
   ],
   "source": [
    "df.mode()"
   ]
  },
  {
   "cell_type": "markdown",
   "id": "fbc38a06",
   "metadata": {},
   "source": [
    "# 求数学的众数\n",
    "- 如存在多个众数，则求它们的均值"
   ]
  },
  {
   "cell_type": "code",
   "execution_count": 24,
   "id": "25467187",
   "metadata": {
    "lines_to_next_cell": 2
   },
   "outputs": [
    {
     "data": {
      "text/plain": [
       "91.0"
      ]
     },
     "execution_count": 24,
     "metadata": {},
     "output_type": "execute_result"
    }
   ],
   "source": [
    "type(df['数学'])\n",
    "df['数学'].mode().mean()"
   ]
  },
  {
   "cell_type": "markdown",
   "id": "c42fc7a6",
   "metadata": {},
   "source": [
    "# 方差和标准差\n",
    "- 生成2行10列[60,100)的随机整数"
   ]
  },
  {
   "cell_type": "code",
   "execution_count": 35,
   "id": "6b6f24bf",
   "metadata": {
    "scrolled": true
   },
   "outputs": [
    {
     "data": {
      "text/html": [
       "<div>\n",
       "<style scoped>\n",
       "    .dataframe tbody tr th:only-of-type {\n",
       "        vertical-align: middle;\n",
       "    }\n",
       "\n",
       "    .dataframe tbody tr th {\n",
       "        vertical-align: top;\n",
       "    }\n",
       "\n",
       "    .dataframe thead th {\n",
       "        text-align: right;\n",
       "    }\n",
       "</style>\n",
       "<table border=\"1\" class=\"dataframe\">\n",
       "  <thead>\n",
       "    <tr style=\"text-align: right;\">\n",
       "      <th></th>\n",
       "      <th>第1次测试</th>\n",
       "      <th>第2次测试</th>\n",
       "      <th>第3次测试</th>\n",
       "      <th>第4次测试</th>\n",
       "      <th>第5次测试</th>\n",
       "      <th>第6次测试</th>\n",
       "      <th>第7次测试</th>\n",
       "      <th>第8次测试</th>\n",
       "      <th>第9次测试</th>\n",
       "      <th>第10次测试</th>\n",
       "    </tr>\n",
       "  </thead>\n",
       "  <tbody>\n",
       "    <tr>\n",
       "      <th>小明</th>\n",
       "      <td>70</td>\n",
       "      <td>69</td>\n",
       "      <td>95</td>\n",
       "      <td>80</td>\n",
       "      <td>75</td>\n",
       "      <td>76</td>\n",
       "      <td>85</td>\n",
       "      <td>61</td>\n",
       "      <td>71</td>\n",
       "      <td>73</td>\n",
       "    </tr>\n",
       "    <tr>\n",
       "      <th>小花</th>\n",
       "      <td>86</td>\n",
       "      <td>93</td>\n",
       "      <td>64</td>\n",
       "      <td>93</td>\n",
       "      <td>68</td>\n",
       "      <td>62</td>\n",
       "      <td>72</td>\n",
       "      <td>80</td>\n",
       "      <td>87</td>\n",
       "      <td>91</td>\n",
       "    </tr>\n",
       "  </tbody>\n",
       "</table>\n",
       "</div>"
      ],
      "text/plain": [
       "    第1次测试  第2次测试  第3次测试  第4次测试  第5次测试  第6次测试  第7次测试  第8次测试  第9次测试  第10次测试\n",
       "小明     70     69     95     80     75     76     85     61     71      73\n",
       "小花     86     93     64     93     68     62     72     80     87      91"
      ]
     },
     "execution_count": 35,
     "metadata": {},
     "output_type": "execute_result"
    }
   ],
   "source": [
    "# 量纲一致,可对比其标准差和方差的大小,观测其波动大小\n",
    "# np.random.seed(6)\n",
    "# data = np.random.randint(60, 100, [2, 10])\n",
    "# columns = [f'第{i}次测试' for i in range(1, 11)]\n",
    "# df = pd.DataFrame(data, index=['小明', '小花'], columns=columns)\n",
    "# df"
   ]
  },
  {
   "cell_type": "code",
   "execution_count": 63,
   "id": "9ff8e730",
   "metadata": {},
   "outputs": [
    {
     "data": {
      "text/html": [
       "<div>\n",
       "<style scoped>\n",
       "    .dataframe tbody tr th:only-of-type {\n",
       "        vertical-align: middle;\n",
       "    }\n",
       "\n",
       "    .dataframe tbody tr th {\n",
       "        vertical-align: top;\n",
       "    }\n",
       "\n",
       "    .dataframe thead th {\n",
       "        text-align: right;\n",
       "    }\n",
       "</style>\n",
       "<table border=\"1\" class=\"dataframe\">\n",
       "  <thead>\n",
       "    <tr style=\"text-align: right;\">\n",
       "      <th></th>\n",
       "      <th>第1次测试</th>\n",
       "      <th>第2次测试</th>\n",
       "      <th>第3次测试</th>\n",
       "      <th>第4次测试</th>\n",
       "      <th>第5次测试</th>\n",
       "      <th>第6次测试</th>\n",
       "      <th>第7次测试</th>\n",
       "      <th>第8次测试</th>\n",
       "      <th>第9次测试</th>\n",
       "      <th>第10次测试</th>\n",
       "    </tr>\n",
       "  </thead>\n",
       "  <tbody>\n",
       "    <tr>\n",
       "      <th>小明</th>\n",
       "      <td>88</td>\n",
       "      <td>82</td>\n",
       "      <td>61</td>\n",
       "      <td>82</td>\n",
       "      <td>87</td>\n",
       "      <td>93</td>\n",
       "      <td>89</td>\n",
       "      <td>88</td>\n",
       "      <td>60</td>\n",
       "      <td>84</td>\n",
       "    </tr>\n",
       "    <tr>\n",
       "      <th>小花</th>\n",
       "      <td>108</td>\n",
       "      <td>108</td>\n",
       "      <td>102</td>\n",
       "      <td>106</td>\n",
       "      <td>108</td>\n",
       "      <td>101</td>\n",
       "      <td>108</td>\n",
       "      <td>103</td>\n",
       "      <td>105</td>\n",
       "      <td>103</td>\n",
       "    </tr>\n",
       "  </tbody>\n",
       "</table>\n",
       "</div>"
      ],
      "text/plain": [
       "    第1次测试  第2次测试  第3次测试  第4次测试  第5次测试  第6次测试  第7次测试  第8次测试  第9次测试  第10次测试\n",
       "小明     88     82     61     82     87     93     89     88     60      84\n",
       "小花    108    108    102    106    108    101    108    103    105     103"
      ]
     },
     "execution_count": 63,
     "metadata": {},
     "output_type": "execute_result"
    }
   ],
   "source": [
    "# 量纲不一致,不可对比其标准差和方差的大小,观测其波动大小\n",
    "# 必须使用变异系数衡量波动大小\n",
    "np.random.seed(9)\n",
    "data1 = np.random.randint(60, 100, [1, 10])\n",
    "data2 = np.random.randint(100, 110, [1, 10])\n",
    "data = np.vstack((data1, data2))\n",
    "\n",
    "columns = [f'第{i}次测试' for i in range(1, 11)]\n",
    "df = pd.DataFrame(data, index=['小明', '小花'], columns=columns)\n",
    "df"
   ]
  },
  {
   "cell_type": "markdown",
   "id": "91818484",
   "metadata": {},
   "source": [
    "# 求方差、标准差和变异系数"
   ]
  },
  {
   "cell_type": "code",
   "execution_count": 64,
   "id": "0d672c55",
   "metadata": {},
   "outputs": [],
   "source": [
    "df['方差'] = df.iloc[:, 0:10].var(axis=1)\n",
    "df['标准差'] = df.iloc[:, 0:10].std(axis=1)\n",
    "df['均值'] = df.iloc[:, 0:10].mean(axis=1)\n",
    "df['变异系数'] = df['标准差'] / df['均值']"
   ]
  },
  {
   "cell_type": "markdown",
   "id": "d1cf9afa",
   "metadata": {},
   "source": [
    "# 分位数\n",
    "- 随机生成指定均值及标准差的数组\n",
    "- 均值为90，标准差为2000，100个元素"
   ]
  },
  {
   "cell_type": "code",
   "execution_count": 123,
   "id": "aac5733d",
   "metadata": {},
   "outputs": [
    {
     "data": {
      "text/html": [
       "<div>\n",
       "<style scoped>\n",
       "    .dataframe tbody tr th:only-of-type {\n",
       "        vertical-align: middle;\n",
       "    }\n",
       "\n",
       "    .dataframe tbody tr th {\n",
       "        vertical-align: top;\n",
       "    }\n",
       "\n",
       "    .dataframe thead th {\n",
       "        text-align: right;\n",
       "    }\n",
       "</style>\n",
       "<table border=\"1\" class=\"dataframe\">\n",
       "  <thead>\n",
       "    <tr style=\"text-align: right;\">\n",
       "      <th></th>\n",
       "      <th>利润</th>\n",
       "    </tr>\n",
       "  </thead>\n",
       "  <tbody>\n",
       "    <tr>\n",
       "      <th>0</th>\n",
       "      <td>4084.759512</td>\n",
       "    </tr>\n",
       "    <tr>\n",
       "      <th>1</th>\n",
       "      <td>2235.836923</td>\n",
       "    </tr>\n",
       "    <tr>\n",
       "      <th>2</th>\n",
       "      <td>-4546.200876</td>\n",
       "    </tr>\n",
       "    <tr>\n",
       "      <th>3</th>\n",
       "      <td>64.848450</td>\n",
       "    </tr>\n",
       "    <tr>\n",
       "      <th>4</th>\n",
       "      <td>1954.007922</td>\n",
       "    </tr>\n",
       "  </tbody>\n",
       "</table>\n",
       "</div>"
      ],
      "text/plain": [
       "            利润\n",
       "0  4084.759512\n",
       "1  2235.836923\n",
       "2 -4546.200876\n",
       "3    64.848450\n",
       "4  1954.007922"
      ]
     },
     "execution_count": 123,
     "metadata": {},
     "output_type": "execute_result"
    }
   ],
   "source": [
    "np.random.seed(10)\n",
    "data = np.random.normal(loc=90, scale=3000, size=100)\n",
    "columns = ['利润']\n",
    "df = pd.DataFrame(data=data, columns=columns)\n",
    "df.head()"
   ]
  },
  {
   "cell_type": "code",
   "execution_count": 124,
   "id": "9f27fd71",
   "metadata": {},
   "outputs": [],
   "source": [
    "df.to_excel('test.xlsx')"
   ]
  },
  {
   "cell_type": "markdown",
   "id": "f65088fe",
   "metadata": {},
   "source": [
    "- 计算25%的分位数，Q1，下四分位数"
   ]
  },
  {
   "cell_type": "code",
   "execution_count": 125,
   "id": "dba989eb",
   "metadata": {},
   "outputs": [
    {
     "data": {
      "text/plain": [
       "-1361.7124750433163"
      ]
     },
     "execution_count": 125,
     "metadata": {},
     "output_type": "execute_result"
    }
   ],
   "source": [
    "Q1 = df['利润'].quantile(0.25)\n",
    "Q1"
   ]
  },
  {
   "cell_type": "markdown",
   "id": "261b9e8d",
   "metadata": {},
   "source": [
    "- 计算75%的分位数，Q3，上四分位数"
   ]
  },
  {
   "cell_type": "code",
   "execution_count": 126,
   "id": "b9444a2d",
   "metadata": {},
   "outputs": [
    {
     "data": {
      "text/plain": [
       "2106.641005204157"
      ]
     },
     "execution_count": 126,
     "metadata": {},
     "output_type": "execute_result"
    }
   ],
   "source": [
    "Q3 = df['利润'].quantile(0.75)\n",
    "Q3"
   ]
  },
  {
   "cell_type": "markdown",
   "id": "cd701d74",
   "metadata": {},
   "source": [
    "- 计算四分位距，Q3-Q1"
   ]
  },
  {
   "cell_type": "code",
   "execution_count": 127,
   "id": "836d422f",
   "metadata": {},
   "outputs": [
    {
     "data": {
      "text/plain": [
       "3468.3534802474733"
      ]
     },
     "execution_count": 127,
     "metadata": {},
     "output_type": "execute_result"
    }
   ],
   "source": [
    "# 检测异常值\n",
    "IQR = Q3-Q1\n",
    "IQR"
   ]
  },
  {
   "cell_type": "markdown",
   "id": "46aed78b",
   "metadata": {},
   "source": [
    "- 异常值检测\n",
    "- 设定上限值和下限值"
   ]
  },
  {
   "cell_type": "code",
   "execution_count": 128,
   "id": "6f0b36af",
   "metadata": {},
   "outputs": [],
   "source": [
    "# 上限值=Q3+1.5*IQR\n",
    "# 下限值=Q1-1.5*IQR\n",
    "upper = min(Q3+1.5*IQR, df['利润'].max())\n",
    "lower = max(Q1-1.5*IQR, df['利润'].min())\n",
    "# upper\\lower有可能依然是离群值"
   ]
  },
  {
   "cell_type": "markdown",
   "id": "bea0c053",
   "metadata": {},
   "source": [
    "- 异常值筛选"
   ]
  },
  {
   "cell_type": "code",
   "execution_count": 129,
   "id": "dc8f24cb",
   "metadata": {
    "scrolled": true
   },
   "outputs": [
    {
     "data": {
      "text/html": [
       "<div>\n",
       "<style scoped>\n",
       "    .dataframe tbody tr th:only-of-type {\n",
       "        vertical-align: middle;\n",
       "    }\n",
       "\n",
       "    .dataframe tbody tr th {\n",
       "        vertical-align: top;\n",
       "    }\n",
       "\n",
       "    .dataframe thead th {\n",
       "        text-align: right;\n",
       "    }\n",
       "</style>\n",
       "<table border=\"1\" class=\"dataframe\">\n",
       "  <thead>\n",
       "    <tr style=\"text-align: right;\">\n",
       "      <th></th>\n",
       "      <th>利润</th>\n",
       "    </tr>\n",
       "  </thead>\n",
       "  <tbody>\n",
       "    <tr>\n",
       "      <th>75</th>\n",
       "      <td>7492.953169</td>\n",
       "    </tr>\n",
       "  </tbody>\n",
       "</table>\n",
       "</div>"
      ],
      "text/plain": [
       "             利润\n",
       "75  7492.953169"
      ]
     },
     "execution_count": 129,
     "metadata": {},
     "output_type": "execute_result"
    }
   ],
   "source": [
    "a = df['利润'] > upper\n",
    "b = df['利润'] < lower\n",
    "df[a | b]"
   ]
  },
  {
   "cell_type": "markdown",
   "id": "483f974d",
   "metadata": {},
   "source": [
    "- 异常值处理\n",
    "- 如高于上限值，则使用上限值替换\n",
    "- 如低于下限值，则使用下限值替换"
   ]
  },
  {
   "cell_type": "code",
   "execution_count": 131,
   "id": "635a3360",
   "metadata": {},
   "outputs": [],
   "source": [
    "df['利润'] = df['利润'].clip(lower=lower, upper=upper)"
   ]
  },
  {
   "cell_type": "code",
   "execution_count": 132,
   "id": "643dd260",
   "metadata": {},
   "outputs": [
    {
     "data": {
      "text/html": [
       "<div>\n",
       "<style scoped>\n",
       "    .dataframe tbody tr th:only-of-type {\n",
       "        vertical-align: middle;\n",
       "    }\n",
       "\n",
       "    .dataframe tbody tr th {\n",
       "        vertical-align: top;\n",
       "    }\n",
       "\n",
       "    .dataframe thead th {\n",
       "        text-align: right;\n",
       "    }\n",
       "</style>\n",
       "<table border=\"1\" class=\"dataframe\">\n",
       "  <thead>\n",
       "    <tr style=\"text-align: right;\">\n",
       "      <th></th>\n",
       "      <th>利润</th>\n",
       "    </tr>\n",
       "  </thead>\n",
       "  <tbody>\n",
       "  </tbody>\n",
       "</table>\n",
       "</div>"
      ],
      "text/plain": [
       "Empty DataFrame\n",
       "Columns: [利润]\n",
       "Index: []"
      ]
     },
     "execution_count": 132,
     "metadata": {},
     "output_type": "execute_result"
    }
   ],
   "source": [
    "a = df['利润'] > upper\n",
    "b = df['利润'] < lower\n",
    "df[a | b]"
   ]
  },
  {
   "cell_type": "code",
   "execution_count": 134,
   "id": "498baeac",
   "metadata": {},
   "outputs": [],
   "source": [
    "df.to_excel('test1.xlsx')"
   ]
  },
  {
   "cell_type": "code",
   "execution_count": null,
   "id": "443977d0",
   "metadata": {},
   "outputs": [],
   "source": []
  }
 ],
 "metadata": {
  "hide_input": false,
  "jupytext": {
   "cell_metadata_filter": "-all",
   "encoding": "# -*- coding: utf-8 -*-",
   "notebook_metadata_filter": "-all"
  },
  "kernelspec": {
   "display_name": "Python 3",
   "language": "python",
   "name": "python3"
  },
  "language_info": {
   "codemirror_mode": {
    "name": "ipython",
    "version": 3
   },
   "file_extension": ".py",
   "mimetype": "text/x-python",
   "name": "python",
   "nbconvert_exporter": "python",
   "pygments_lexer": "ipython3",
   "version": "3.8.8"
  },
  "toc": {
   "base_numbering": 1,
   "nav_menu": {},
   "number_sections": true,
   "sideBar": true,
   "skip_h1_title": false,
   "title_cell": "Table of Contents",
   "title_sidebar": "Contents",
   "toc_cell": false,
   "toc_position": {},
   "toc_section_display": true,
   "toc_window_display": true
  },
  "varInspector": {
   "cols": {
    "lenName": 16,
    "lenType": 16,
    "lenVar": 40
   },
   "kernels_config": {
    "python": {
     "delete_cmd_postfix": "",
     "delete_cmd_prefix": "del ",
     "library": "var_list.py",
     "varRefreshCmd": "print(var_dic_list())"
    },
    "r": {
     "delete_cmd_postfix": ") ",
     "delete_cmd_prefix": "rm(",
     "library": "var_list.r",
     "varRefreshCmd": "cat(var_dic_list()) "
    }
   },
   "types_to_exclude": [
    "module",
    "function",
    "builtin_function_or_method",
    "instance",
    "_Feature"
   ],
   "window_display": false
  }
 },
 "nbformat": 4,
 "nbformat_minor": 5
}
