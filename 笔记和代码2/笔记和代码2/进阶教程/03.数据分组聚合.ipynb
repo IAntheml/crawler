{
 "cells": [
  {
   "cell_type": "code",
   "execution_count": 1,
   "id": "23b6255e",
   "metadata": {},
   "outputs": [],
   "source": [
    "import pandas as pd"
   ]
  },
  {
   "cell_type": "code",
   "execution_count": 2,
   "id": "7c68009f",
   "metadata": {},
   "outputs": [],
   "source": [
    "df = pd.read_excel('./data/demo_03.xlsx', sheet_name='Sheet1')"
   ]
  },
  {
   "cell_type": "code",
   "execution_count": 3,
   "id": "22a37760",
   "metadata": {},
   "outputs": [
    {
     "name": "stdout",
     "output_type": "stream",
     "text": [
      "<class 'pandas.core.frame.DataFrame'>\n",
      "RangeIndex: 9959 entries, 0 to 9958\n",
      "Data columns (total 9 columns):\n",
      " #   Column  Non-Null Count  Dtype  \n",
      "---  ------  --------------  -----  \n",
      " 0   订单编号    9959 non-null   object \n",
      " 1   产品名称    9959 non-null   object \n",
      " 2   一级分类    9959 non-null   object \n",
      " 3   二级分类    9959 non-null   object \n",
      " 4   省份      9959 non-null   object \n",
      " 5   大区      9959 non-null   object \n",
      " 6   数量      9959 non-null   int64  \n",
      " 7   金额      9959 non-null   float64\n",
      " 8   利润      9959 non-null   float64\n",
      "dtypes: float64(2), int64(1), object(6)\n",
      "memory usage: 700.4+ KB\n"
     ]
    }
   ],
   "source": [
    "df.info()"
   ]
  },
  {
   "cell_type": "markdown",
   "id": "a8946130",
   "metadata": {},
   "source": [
    "# groupby分组函数\n",
    "- groupby函数 + 聚合函数"
   ]
  },
  {
   "cell_type": "markdown",
   "id": "d3c1887f",
   "metadata": {},
   "source": [
    "## 一列分组一列聚合"
   ]
  },
  {
   "cell_type": "code",
   "execution_count": 10,
   "id": "9e5c1de5",
   "metadata": {
    "lines_to_next_cell": 2
   },
   "outputs": [
    {
     "data": {
      "text/html": [
       "<div>\n",
       "<style scoped>\n",
       "    .dataframe tbody tr th:only-of-type {\n",
       "        vertical-align: middle;\n",
       "    }\n",
       "\n",
       "    .dataframe tbody tr th {\n",
       "        vertical-align: top;\n",
       "    }\n",
       "\n",
       "    .dataframe thead th {\n",
       "        text-align: right;\n",
       "    }\n",
       "</style>\n",
       "<table border=\"1\" class=\"dataframe\">\n",
       "  <thead>\n",
       "    <tr style=\"text-align: right;\">\n",
       "      <th></th>\n",
       "      <th>二级分类</th>\n",
       "      <th>数量</th>\n",
       "    </tr>\n",
       "  </thead>\n",
       "  <tbody>\n",
       "    <tr>\n",
       "      <th>0</th>\n",
       "      <td>书架</td>\n",
       "      <td>2401</td>\n",
       "    </tr>\n",
       "    <tr>\n",
       "      <th>1</th>\n",
       "      <td>信封</td>\n",
       "      <td>2281</td>\n",
       "    </tr>\n",
       "    <tr>\n",
       "      <th>2</th>\n",
       "      <td>器具</td>\n",
       "      <td>2134</td>\n",
       "    </tr>\n",
       "    <tr>\n",
       "      <th>3</th>\n",
       "      <td>复印机</td>\n",
       "      <td>2139</td>\n",
       "    </tr>\n",
       "    <tr>\n",
       "      <th>4</th>\n",
       "      <td>收纳具</td>\n",
       "      <td>2918</td>\n",
       "    </tr>\n",
       "    <tr>\n",
       "      <th>5</th>\n",
       "      <td>标签</td>\n",
       "      <td>2106</td>\n",
       "    </tr>\n",
       "    <tr>\n",
       "      <th>6</th>\n",
       "      <td>桌子</td>\n",
       "      <td>620</td>\n",
       "    </tr>\n",
       "    <tr>\n",
       "      <th>7</th>\n",
       "      <td>椅子</td>\n",
       "      <td>3172</td>\n",
       "    </tr>\n",
       "    <tr>\n",
       "      <th>8</th>\n",
       "      <td>用具</td>\n",
       "      <td>2298</td>\n",
       "    </tr>\n",
       "    <tr>\n",
       "      <th>9</th>\n",
       "      <td>用品</td>\n",
       "      <td>2266</td>\n",
       "    </tr>\n",
       "    <tr>\n",
       "      <th>10</th>\n",
       "      <td>电话</td>\n",
       "      <td>2177</td>\n",
       "    </tr>\n",
       "    <tr>\n",
       "      <th>11</th>\n",
       "      <td>系固件</td>\n",
       "      <td>2272</td>\n",
       "    </tr>\n",
       "    <tr>\n",
       "      <th>12</th>\n",
       "      <td>纸张</td>\n",
       "      <td>2063</td>\n",
       "    </tr>\n",
       "    <tr>\n",
       "      <th>13</th>\n",
       "      <td>美术</td>\n",
       "      <td>2009</td>\n",
       "    </tr>\n",
       "    <tr>\n",
       "      <th>14</th>\n",
       "      <td>装订机</td>\n",
       "      <td>3352</td>\n",
       "    </tr>\n",
       "    <tr>\n",
       "      <th>15</th>\n",
       "      <td>设备</td>\n",
       "      <td>1241</td>\n",
       "    </tr>\n",
       "    <tr>\n",
       "      <th>16</th>\n",
       "      <td>配件</td>\n",
       "      <td>2085</td>\n",
       "    </tr>\n",
       "  </tbody>\n",
       "</table>\n",
       "</div>"
      ],
      "text/plain": [
       "   二级分类    数量\n",
       "0    书架  2401\n",
       "1    信封  2281\n",
       "2    器具  2134\n",
       "3   复印机  2139\n",
       "4   收纳具  2918\n",
       "5    标签  2106\n",
       "6    桌子   620\n",
       "7    椅子  3172\n",
       "8    用具  2298\n",
       "9    用品  2266\n",
       "10   电话  2177\n",
       "11  系固件  2272\n",
       "12   纸张  2063\n",
       "13   美术  2009\n",
       "14  装订机  3352\n",
       "15   设备  1241\n",
       "16   配件  2085"
      ]
     },
     "execution_count": 10,
     "metadata": {},
     "output_type": "execute_result"
    }
   ],
   "source": [
    "df.groupby('二级分类')['数量'].sum().reset_index()\n",
    "# df.groupby('二级分类')['数量'].sum().to_frame()"
   ]
  },
  {
   "cell_type": "markdown",
   "id": "179b1f3f",
   "metadata": {},
   "source": [
    "## 一列分组多列聚合"
   ]
  },
  {
   "cell_type": "code",
   "execution_count": 13,
   "id": "fbd2b4c1",
   "metadata": {
    "lines_to_next_cell": 2
   },
   "outputs": [
    {
     "data": {
      "text/html": [
       "<div>\n",
       "<style scoped>\n",
       "    .dataframe tbody tr th:only-of-type {\n",
       "        vertical-align: middle;\n",
       "    }\n",
       "\n",
       "    .dataframe tbody tr th {\n",
       "        vertical-align: top;\n",
       "    }\n",
       "\n",
       "    .dataframe thead th {\n",
       "        text-align: right;\n",
       "    }\n",
       "</style>\n",
       "<table border=\"1\" class=\"dataframe\">\n",
       "  <thead>\n",
       "    <tr style=\"text-align: right;\">\n",
       "      <th></th>\n",
       "      <th>一级分类</th>\n",
       "      <th>数量</th>\n",
       "      <th>金额</th>\n",
       "    </tr>\n",
       "  </thead>\n",
       "  <tbody>\n",
       "    <tr>\n",
       "      <th>0</th>\n",
       "      <td>办公</td>\n",
       "      <td>21401</td>\n",
       "      <td>4865589.87</td>\n",
       "    </tr>\n",
       "    <tr>\n",
       "      <th>1</th>\n",
       "      <td>家具</td>\n",
       "      <td>8491</td>\n",
       "      <td>5734340.95</td>\n",
       "    </tr>\n",
       "    <tr>\n",
       "      <th>2</th>\n",
       "      <td>技术</td>\n",
       "      <td>7642</td>\n",
       "      <td>5469023.47</td>\n",
       "    </tr>\n",
       "  </tbody>\n",
       "</table>\n",
       "</div>"
      ],
      "text/plain": [
       "  一级分类     数量          金额\n",
       "0   办公  21401  4865589.87\n",
       "1   家具   8491  5734340.95\n",
       "2   技术   7642  5469023.47"
      ]
     },
     "execution_count": 13,
     "metadata": {},
     "output_type": "execute_result"
    }
   ],
   "source": [
    "df.groupby('一级分类')[['数量', '金额']].sum().reset_index()"
   ]
  },
  {
   "cell_type": "markdown",
   "id": "ba7eaceb",
   "metadata": {},
   "source": [
    "## 多列分组多列聚合"
   ]
  },
  {
   "cell_type": "code",
   "execution_count": 14,
   "id": "6649c47e",
   "metadata": {
    "lines_to_next_cell": 2,
    "scrolled": true
   },
   "outputs": [
    {
     "data": {
      "text/html": [
       "<div>\n",
       "<style scoped>\n",
       "    .dataframe tbody tr th:only-of-type {\n",
       "        vertical-align: middle;\n",
       "    }\n",
       "\n",
       "    .dataframe tbody tr th {\n",
       "        vertical-align: top;\n",
       "    }\n",
       "\n",
       "    .dataframe thead th {\n",
       "        text-align: right;\n",
       "    }\n",
       "</style>\n",
       "<table border=\"1\" class=\"dataframe\">\n",
       "  <thead>\n",
       "    <tr style=\"text-align: right;\">\n",
       "      <th></th>\n",
       "      <th>一级分类</th>\n",
       "      <th>二级分类</th>\n",
       "      <th>数量</th>\n",
       "      <th>金额</th>\n",
       "    </tr>\n",
       "  </thead>\n",
       "  <tbody>\n",
       "    <tr>\n",
       "      <th>0</th>\n",
       "      <td>办公</td>\n",
       "      <td>信封</td>\n",
       "      <td>2281</td>\n",
       "      <td>287486.08</td>\n",
       "    </tr>\n",
       "    <tr>\n",
       "      <th>1</th>\n",
       "      <td>办公</td>\n",
       "      <td>器具</td>\n",
       "      <td>2134</td>\n",
       "      <td>2160182.99</td>\n",
       "    </tr>\n",
       "    <tr>\n",
       "      <th>2</th>\n",
       "      <td>办公</td>\n",
       "      <td>收纳具</td>\n",
       "      <td>2918</td>\n",
       "      <td>1152527.74</td>\n",
       "    </tr>\n",
       "    <tr>\n",
       "      <th>3</th>\n",
       "      <td>办公</td>\n",
       "      <td>标签</td>\n",
       "      <td>2106</td>\n",
       "      <td>97077.96</td>\n",
       "    </tr>\n",
       "    <tr>\n",
       "      <th>4</th>\n",
       "      <td>办公</td>\n",
       "      <td>用品</td>\n",
       "      <td>2266</td>\n",
       "      <td>287970.51</td>\n",
       "    </tr>\n",
       "    <tr>\n",
       "      <th>5</th>\n",
       "      <td>办公</td>\n",
       "      <td>系固件</td>\n",
       "      <td>2272</td>\n",
       "      <td>129010.69</td>\n",
       "    </tr>\n",
       "    <tr>\n",
       "      <th>6</th>\n",
       "      <td>办公</td>\n",
       "      <td>纸张</td>\n",
       "      <td>2063</td>\n",
       "      <td>263334.12</td>\n",
       "    </tr>\n",
       "    <tr>\n",
       "      <th>7</th>\n",
       "      <td>办公</td>\n",
       "      <td>美术</td>\n",
       "      <td>2009</td>\n",
       "      <td>196222.82</td>\n",
       "    </tr>\n",
       "    <tr>\n",
       "      <th>8</th>\n",
       "      <td>办公</td>\n",
       "      <td>装订机</td>\n",
       "      <td>3352</td>\n",
       "      <td>291776.96</td>\n",
       "    </tr>\n",
       "    <tr>\n",
       "      <th>9</th>\n",
       "      <td>家具</td>\n",
       "      <td>书架</td>\n",
       "      <td>2401</td>\n",
       "      <td>2307203.20</td>\n",
       "    </tr>\n",
       "    <tr>\n",
       "      <th>10</th>\n",
       "      <td>家具</td>\n",
       "      <td>桌子</td>\n",
       "      <td>620</td>\n",
       "      <td>862010.58</td>\n",
       "    </tr>\n",
       "    <tr>\n",
       "      <th>11</th>\n",
       "      <td>家具</td>\n",
       "      <td>椅子</td>\n",
       "      <td>3172</td>\n",
       "      <td>2085435.88</td>\n",
       "    </tr>\n",
       "    <tr>\n",
       "      <th>12</th>\n",
       "      <td>家具</td>\n",
       "      <td>用具</td>\n",
       "      <td>2298</td>\n",
       "      <td>479691.29</td>\n",
       "    </tr>\n",
       "    <tr>\n",
       "      <th>13</th>\n",
       "      <td>技术</td>\n",
       "      <td>复印机</td>\n",
       "      <td>2139</td>\n",
       "      <td>1991498.88</td>\n",
       "    </tr>\n",
       "    <tr>\n",
       "      <th>14</th>\n",
       "      <td>技术</td>\n",
       "      <td>电话</td>\n",
       "      <td>2177</td>\n",
       "      <td>1799653.46</td>\n",
       "    </tr>\n",
       "    <tr>\n",
       "      <th>15</th>\n",
       "      <td>技术</td>\n",
       "      <td>设备</td>\n",
       "      <td>1241</td>\n",
       "      <td>874465.14</td>\n",
       "    </tr>\n",
       "    <tr>\n",
       "      <th>16</th>\n",
       "      <td>技术</td>\n",
       "      <td>配件</td>\n",
       "      <td>2085</td>\n",
       "      <td>803405.99</td>\n",
       "    </tr>\n",
       "  </tbody>\n",
       "</table>\n",
       "</div>"
      ],
      "text/plain": [
       "   一级分类 二级分类    数量          金额\n",
       "0    办公   信封  2281   287486.08\n",
       "1    办公   器具  2134  2160182.99\n",
       "2    办公  收纳具  2918  1152527.74\n",
       "3    办公   标签  2106    97077.96\n",
       "4    办公   用品  2266   287970.51\n",
       "5    办公  系固件  2272   129010.69\n",
       "6    办公   纸张  2063   263334.12\n",
       "7    办公   美术  2009   196222.82\n",
       "8    办公  装订机  3352   291776.96\n",
       "9    家具   书架  2401  2307203.20\n",
       "10   家具   桌子   620   862010.58\n",
       "11   家具   椅子  3172  2085435.88\n",
       "12   家具   用具  2298   479691.29\n",
       "13   技术  复印机  2139  1991498.88\n",
       "14   技术   电话  2177  1799653.46\n",
       "15   技术   设备  1241   874465.14\n",
       "16   技术   配件  2085   803405.99"
      ]
     },
     "execution_count": 14,
     "metadata": {},
     "output_type": "execute_result"
    }
   ],
   "source": [
    "df.groupby(['一级分类', '二级分类'])[['数量', '金额']].sum().reset_index()"
   ]
  },
  {
   "cell_type": "markdown",
   "id": "25c3c397",
   "metadata": {},
   "source": [
    "# 对分组数据进行遍历"
   ]
  },
  {
   "cell_type": "code",
   "execution_count": 16,
   "id": "15fde290",
   "metadata": {
    "collapsed": true
   },
   "outputs": [
    {
     "name": "stdout",
     "output_type": "stream",
     "text": [
      "办公\n",
      "                 订单编号             产品名称 一级分类 二级分类  省份  大区  数量       金额       利润\n",
      "0     US-2021-1357144  办公用-用品-10002717   办公   用品  浙江  华东   2   129.70   -60.70\n",
      "1     CN-2021-1973789  办公用-信封-10004832   办公   信封  四川  西南   2   125.44    42.56\n",
      "2     CN-2021-1973789  办公用-装订-10001505   办公  装订机  四川  西南   2    31.92     4.20\n",
      "3     US-2021-3017568  办公用-用品-10003746   办公   用品  江苏  华东   4   321.22   -27.10\n",
      "4     CN-2020-2975416  办公用-器具-10003452   办公   器具  广东  中南   3  1375.92   550.20\n",
      "...               ...              ...  ...  ...  ..  ..  ..      ...      ...\n",
      "9948  CN-2018-1902956  办公用-装订-10002129   办公  装订机  江苏  华东   2   296.35   -93.97\n",
      "9949  CN-2018-1902956  办公用-装订-10000994   办公  装订机  江苏  华东   3   120.96   -12.18\n",
      "9951  CN-2019-3665640  办公用-收纳-10002744   办公  收纳具  湖北  中南   4   192.08    22.96\n",
      "9955  CN-2021-4318875  办公用-收纳-10003383   办公  收纳具  浙江  华东   2   447.72    35.56\n",
      "9958  CN-2018-3557528  办公用-器具-10002023   办公   器具  浙江  华东   5  7244.58 -3501.82\n",
      "\n",
      "[5687 rows x 9 columns]\n",
      "----------------------------------------------------------------------------------------------------\n",
      "家具\n",
      "                 订单编号            产品名称 一级分类 二级分类   省份  大区  数量       金额       利润\n",
      "7     CN-2019-4497736  家具-椅子-10000578   家具   椅子   江西  华东   4  8659.84  2684.08\n",
      "24    US-2020-4150614  家具-书架-10004730   家具   书架   浙江  华东   4  1638.34  -464.46\n",
      "25    US-2020-4150614  家具-椅子-10002386   家具   椅子   浙江  华东   3  1204.56    60.06\n",
      "30    US-2020-4150614  家具-用具-10001174   家具   用具   浙江  华东   2   106.01    -9.07\n",
      "33    CN-2021-3230180  家具-椅子-10000374   家具   椅子   河北  华北   5  1738.10   799.40\n",
      "...               ...             ...  ...  ...  ...  ..  ..      ...      ...\n",
      "9931  CN-2020-3557528  家具-用具-10002670   家具   用具   山东  华东   3   614.46   300.72\n",
      "9942  CN-2019-3438839  家具-椅子-10003748   家具   椅子   江苏  华东   1   274.09     9.07\n",
      "9950  CN-2018-1902956  家具-用具-10000539   家具   用具   江苏  华东   3   369.18   -36.96\n",
      "9953  CN-2021-5146329  家具-桌子-10002211   家具   桌子  黑龙江  东北   2  3360.21  -268.87\n",
      "9956  CN-2021-4318875  家具-椅子-10002448   家具   椅子   浙江  华东   1   239.99   -88.03\n",
      "\n",
      "[2244 rows x 9 columns]\n",
      "----------------------------------------------------------------------------------------------------\n",
      "技术\n",
      "                 订单编号            产品名称 一级分类 二级分类   省份  大区  数量        金额  \\\n",
      "5     CN-2019-4497736  技术-设备-10001640   技术   设备   江西  华东   9  11129.58   \n",
      "10    CN-2018-4195213  技术-设备-10000001   技术   设备   陕西  西北   2    434.28   \n",
      "11    CN-2021-5801711  技术-复印-10002416   技术  复印机  黑龙江  东北   4   2368.80   \n",
      "13    CN-2019-2752724  技术-配件-10004920   技术   配件   山东  华东   5   1326.50   \n",
      "14    CN-2019-2752724  技术-电话-10004349   技术   电话   山东  华东   2   5936.56   \n",
      "...               ...             ...  ...  ...  ...  ..  ..       ...   \n",
      "9935  CN-2019-1364986  技术-配件-10000932   技术   配件   广东  中南   1    370.02   \n",
      "9939  US-2021-4180783  技术-电话-10004726   技术   电话   福建  华东   2   1558.48   \n",
      "9952  US-2018-5128542  技术-配件-10002428   技术   配件   吉林  东北   3    396.48   \n",
      "9954  CN-2021-4318875  技术-配件-10003923   技术   配件   浙江  华东   3    944.24   \n",
      "9957  CN-2021-4318875  技术-配件-10002808   技术   配件   浙江  华东   7   4851.59   \n",
      "\n",
      "           利润  \n",
      "5     3783.78  \n",
      "10       4.20  \n",
      "11     639.52  \n",
      "13     344.40  \n",
      "14    2849.28  \n",
      "...       ...  \n",
      "9935   125.72  \n",
      "9939   295.96  \n",
      "9952    23.52  \n",
      "9954  -314.92  \n",
      "9957 -1617.39  \n",
      "\n",
      "[2028 rows x 9 columns]\n",
      "----------------------------------------------------------------------------------------------------\n"
     ]
    }
   ],
   "source": [
    "groups = df.groupby('一级分类')\n",
    "for key, tb in groups:\n",
    "    print(key)\n",
    "    print(tb)\n",
    "    print('-'*100)"
   ]
  },
  {
   "cell_type": "markdown",
   "id": "a91cbab7",
   "metadata": {},
   "source": [
    "# groupby+agg函数"
   ]
  },
  {
   "cell_type": "markdown",
   "id": "990d546f",
   "metadata": {},
   "source": [
    "## 指定列使用多个聚合函数"
   ]
  },
  {
   "cell_type": "code",
   "execution_count": 17,
   "id": "5638f41a",
   "metadata": {},
   "outputs": [
    {
     "data": {
      "text/html": [
       "<div>\n",
       "<style scoped>\n",
       "    .dataframe tbody tr th:only-of-type {\n",
       "        vertical-align: middle;\n",
       "    }\n",
       "\n",
       "    .dataframe tbody tr th {\n",
       "        vertical-align: top;\n",
       "    }\n",
       "\n",
       "    .dataframe thead tr th {\n",
       "        text-align: left;\n",
       "    }\n",
       "\n",
       "    .dataframe thead tr:last-of-type th {\n",
       "        text-align: right;\n",
       "    }\n",
       "</style>\n",
       "<table border=\"1\" class=\"dataframe\">\n",
       "  <thead>\n",
       "    <tr>\n",
       "      <th></th>\n",
       "      <th colspan=\"2\" halign=\"left\">数量</th>\n",
       "      <th colspan=\"2\" halign=\"left\">金额</th>\n",
       "    </tr>\n",
       "    <tr>\n",
       "      <th></th>\n",
       "      <th>mean</th>\n",
       "      <th>sum</th>\n",
       "      <th>mean</th>\n",
       "      <th>sum</th>\n",
       "    </tr>\n",
       "    <tr>\n",
       "      <th>一级分类</th>\n",
       "      <th></th>\n",
       "      <th></th>\n",
       "      <th></th>\n",
       "      <th></th>\n",
       "    </tr>\n",
       "  </thead>\n",
       "  <tbody>\n",
       "    <tr>\n",
       "      <th>办公</th>\n",
       "      <td>3.763144</td>\n",
       "      <td>21401</td>\n",
       "      <td>855.563543</td>\n",
       "      <td>4865589.87</td>\n",
       "    </tr>\n",
       "    <tr>\n",
       "      <th>家具</th>\n",
       "      <td>3.783868</td>\n",
       "      <td>8491</td>\n",
       "      <td>2555.410406</td>\n",
       "      <td>5734340.95</td>\n",
       "    </tr>\n",
       "    <tr>\n",
       "      <th>技术</th>\n",
       "      <td>3.768245</td>\n",
       "      <td>7642</td>\n",
       "      <td>2696.757135</td>\n",
       "      <td>5469023.47</td>\n",
       "    </tr>\n",
       "  </tbody>\n",
       "</table>\n",
       "</div>"
      ],
      "text/plain": [
       "            数量                  金额            \n",
       "          mean    sum         mean         sum\n",
       "一级分类                                          \n",
       "办公    3.763144  21401   855.563543  4865589.87\n",
       "家具    3.783868   8491  2555.410406  5734340.95\n",
       "技术    3.768245   7642  2696.757135  5469023.47"
      ]
     },
     "execution_count": 17,
     "metadata": {},
     "output_type": "execute_result"
    }
   ],
   "source": [
    "df.groupby('一级分类')[['数量', '金额']].agg(['mean', 'sum'])"
   ]
  },
  {
   "cell_type": "markdown",
   "id": "4cb2d9ef",
   "metadata": {},
   "source": [
    "## 指定列使用指定聚合函数"
   ]
  },
  {
   "cell_type": "code",
   "execution_count": 20,
   "id": "67f7d5fa",
   "metadata": {},
   "outputs": [
    {
     "data": {
      "text/html": [
       "<div>\n",
       "<style scoped>\n",
       "    .dataframe tbody tr th:only-of-type {\n",
       "        vertical-align: middle;\n",
       "    }\n",
       "\n",
       "    .dataframe tbody tr th {\n",
       "        vertical-align: top;\n",
       "    }\n",
       "\n",
       "    .dataframe thead th {\n",
       "        text-align: right;\n",
       "    }\n",
       "</style>\n",
       "<table border=\"1\" class=\"dataframe\">\n",
       "  <thead>\n",
       "    <tr style=\"text-align: right;\">\n",
       "      <th></th>\n",
       "      <th>一级分类</th>\n",
       "      <th>数量</th>\n",
       "      <th>金额</th>\n",
       "      <th>利润</th>\n",
       "    </tr>\n",
       "  </thead>\n",
       "  <tbody>\n",
       "    <tr>\n",
       "      <th>0</th>\n",
       "      <td>办公</td>\n",
       "      <td>21401</td>\n",
       "      <td>855.563543</td>\n",
       "      <td>757640.43</td>\n",
       "    </tr>\n",
       "    <tr>\n",
       "      <th>1</th>\n",
       "      <td>家具</td>\n",
       "      <td>8491</td>\n",
       "      <td>2555.410406</td>\n",
       "      <td>638735.62</td>\n",
       "    </tr>\n",
       "    <tr>\n",
       "      <th>2</th>\n",
       "      <td>技术</td>\n",
       "      <td>7642</td>\n",
       "      <td>2696.757135</td>\n",
       "      <td>751162.91</td>\n",
       "    </tr>\n",
       "  </tbody>\n",
       "</table>\n",
       "</div>"
      ],
      "text/plain": [
       "  一级分类     数量           金额         利润\n",
       "0   办公  21401   855.563543  757640.43\n",
       "1   家具   8491  2555.410406  638735.62\n",
       "2   技术   7642  2696.757135  751162.91"
      ]
     },
     "execution_count": 20,
     "metadata": {},
     "output_type": "execute_result"
    }
   ],
   "source": [
    "df.groupby('一级分类').agg({'数量': 'sum', '金额': 'mean', '利润': 'sum'}).reset_index()"
   ]
  },
  {
   "cell_type": "markdown",
   "id": "03d1531e",
   "metadata": {},
   "source": [
    "# 自定义函数分组统计"
   ]
  },
  {
   "cell_type": "markdown",
   "id": "246169c0",
   "metadata": {},
   "source": [
    "- 统计频数最高（行计数最多）的二级分类\n",
    "- 以及总数量和总金额"
   ]
  },
  {
   "cell_type": "code",
   "execution_count": 36,
   "id": "89e49088",
   "metadata": {
    "lines_to_next_cell": 2
   },
   "outputs": [
    {
     "data": {
      "text/html": [
       "<div>\n",
       "<style scoped>\n",
       "    .dataframe tbody tr th:only-of-type {\n",
       "        vertical-align: middle;\n",
       "    }\n",
       "\n",
       "    .dataframe tbody tr th {\n",
       "        vertical-align: top;\n",
       "    }\n",
       "\n",
       "    .dataframe thead th {\n",
       "        text-align: right;\n",
       "    }\n",
       "</style>\n",
       "<table border=\"1\" class=\"dataframe\">\n",
       "  <thead>\n",
       "    <tr style=\"text-align: right;\">\n",
       "      <th></th>\n",
       "      <th>index</th>\n",
       "      <th>0</th>\n",
       "    </tr>\n",
       "  </thead>\n",
       "  <tbody>\n",
       "    <tr>\n",
       "      <th>0</th>\n",
       "      <td>二级分类</td>\n",
       "      <td>装订机</td>\n",
       "    </tr>\n",
       "    <tr>\n",
       "      <th>1</th>\n",
       "      <td>省份</td>\n",
       "      <td>山东</td>\n",
       "    </tr>\n",
       "    <tr>\n",
       "      <th>2</th>\n",
       "      <td>数量</td>\n",
       "      <td>37534</td>\n",
       "    </tr>\n",
       "    <tr>\n",
       "      <th>3</th>\n",
       "      <td>金额</td>\n",
       "      <td>16068954.29</td>\n",
       "    </tr>\n",
       "  </tbody>\n",
       "</table>\n",
       "</div>"
      ],
      "text/plain": [
       "  index            0\n",
       "0  二级分类          装订机\n",
       "1    省份           山东\n",
       "2    数量        37534\n",
       "3    金额  16068954.29"
      ]
     },
     "execution_count": 36,
     "metadata": {},
     "output_type": "execute_result"
    }
   ],
   "source": [
    "# df['二级分类'].value_counts().index[0] # 频数最高的二级分类\n",
    "# df['二级分类'].value_counts().iloc[0] # 频数最高的值\n",
    "df.agg({\n",
    "    '二级分类': lambda x: x.value_counts().index[0],\n",
    "    '省份': lambda x: x.value_counts().index[0],\n",
    "    '数量': 'sum',\n",
    "    '金额': 'sum'}).reset_index()"
   ]
  },
  {
   "cell_type": "markdown",
   "id": "71fc2334",
   "metadata": {},
   "source": [
    "- 以一级分类为分组，统计销售数量最多的二级分类"
   ]
  },
  {
   "cell_type": "code",
   "execution_count": 41,
   "id": "ef313a86",
   "metadata": {},
   "outputs": [
    {
     "data": {
      "text/plain": [
       "array(['办公', '技术', '家具'], dtype=object)"
      ]
     },
     "execution_count": 41,
     "metadata": {},
     "output_type": "execute_result"
    }
   ],
   "source": [
    "df['一级分类'].unique()"
   ]
  },
  {
   "cell_type": "code",
   "execution_count": 45,
   "id": "b13c0f14",
   "metadata": {},
   "outputs": [
    {
     "data": {
      "text/plain": [
       "'装订机'"
      ]
     },
     "execution_count": 45,
     "metadata": {},
     "output_type": "execute_result"
    }
   ],
   "source": [
    "df[df['一级分类'] == '办公'].groupby('二级分类')['数量'].sum().idxmax()"
   ]
  },
  {
   "cell_type": "code",
   "execution_count": 46,
   "id": "1d687679",
   "metadata": {},
   "outputs": [
    {
     "data": {
      "text/plain": [
       "'电话'"
      ]
     },
     "execution_count": 46,
     "metadata": {},
     "output_type": "execute_result"
    }
   ],
   "source": [
    "df[df['一级分类'] == '技术'].groupby('二级分类')['数量'].sum().idxmax()"
   ]
  },
  {
   "cell_type": "code",
   "execution_count": 47,
   "id": "269ad14a",
   "metadata": {},
   "outputs": [
    {
     "data": {
      "text/plain": [
       "'椅子'"
      ]
     },
     "execution_count": 47,
     "metadata": {},
     "output_type": "execute_result"
    }
   ],
   "source": [
    "df[df['一级分类'] == '家具'].groupby('二级分类')['数量'].sum().idxmax()"
   ]
  },
  {
   "cell_type": "code",
   "execution_count": 49,
   "id": "a6fdb5f8",
   "metadata": {
    "lines_to_next_cell": 2
   },
   "outputs": [
    {
     "data": {
      "text/html": [
       "<div>\n",
       "<style scoped>\n",
       "    .dataframe tbody tr th:only-of-type {\n",
       "        vertical-align: middle;\n",
       "    }\n",
       "\n",
       "    .dataframe tbody tr th {\n",
       "        vertical-align: top;\n",
       "    }\n",
       "\n",
       "    .dataframe thead th {\n",
       "        text-align: right;\n",
       "    }\n",
       "</style>\n",
       "<table border=\"1\" class=\"dataframe\">\n",
       "  <thead>\n",
       "    <tr style=\"text-align: right;\">\n",
       "      <th></th>\n",
       "      <th>一级分类</th>\n",
       "      <th>0</th>\n",
       "    </tr>\n",
       "  </thead>\n",
       "  <tbody>\n",
       "    <tr>\n",
       "      <th>0</th>\n",
       "      <td>办公</td>\n",
       "      <td>装订机</td>\n",
       "    </tr>\n",
       "    <tr>\n",
       "      <th>1</th>\n",
       "      <td>家具</td>\n",
       "      <td>椅子</td>\n",
       "    </tr>\n",
       "    <tr>\n",
       "      <th>2</th>\n",
       "      <td>技术</td>\n",
       "      <td>电话</td>\n",
       "    </tr>\n",
       "  </tbody>\n",
       "</table>\n",
       "</div>"
      ],
      "text/plain": [
       "  一级分类    0\n",
       "0   办公  装订机\n",
       "1   家具   椅子\n",
       "2   技术   电话"
      ]
     },
     "execution_count": 49,
     "metadata": {},
     "output_type": "execute_result"
    }
   ],
   "source": [
    "grouped = df[['一级分类', '二级分类', '数量']].groupby('一级分类')\n",
    "grouped.apply(lambda x: x.groupby('二级分类')['数量'].sum().idxmax()).reset_index()"
   ]
  },
  {
   "cell_type": "markdown",
   "id": "4843e886",
   "metadata": {},
   "source": [
    "# groupby+transform函数\n",
    "- pd.DataFrame.transform()\n",
    "- 统计各省的金额以及占所属大区的比例"
   ]
  },
  {
   "cell_type": "code",
   "execution_count": 9,
   "id": "aea66966",
   "metadata": {},
   "outputs": [],
   "source": [
    "tb = df.groupby(['大区', '省份']).agg({'金额': np.sum}).reset_index()"
   ]
  },
  {
   "cell_type": "code",
   "execution_count": 10,
   "id": "990a04f5",
   "metadata": {},
   "outputs": [],
   "source": [
    "tb['大区金额'] = tb.groupby('大区')['金额'].transform('sum')"
   ]
  },
  {
   "cell_type": "code",
   "execution_count": 11,
   "id": "06289e3c",
   "metadata": {},
   "outputs": [],
   "source": [
    "tb['金额占比'] = tb['金额'] / tb['大区金额']"
   ]
  },
  {
   "cell_type": "code",
   "execution_count": 12,
   "id": "cdfe026f",
   "metadata": {},
   "outputs": [],
   "source": [
    "tb['金额占比'] = tb['金额占比'].apply(lambda x: '{:.2%}'.format(x))"
   ]
  },
  {
   "cell_type": "code",
   "execution_count": 13,
   "id": "653e3e9b",
   "metadata": {},
   "outputs": [
    {
     "data": {
      "text/html": [
       "<div>\n",
       "<style scoped>\n",
       "    .dataframe tbody tr th:only-of-type {\n",
       "        vertical-align: middle;\n",
       "    }\n",
       "\n",
       "    .dataframe tbody tr th {\n",
       "        vertical-align: top;\n",
       "    }\n",
       "\n",
       "    .dataframe thead th {\n",
       "        text-align: right;\n",
       "    }\n",
       "</style>\n",
       "<table border=\"1\" class=\"dataframe\">\n",
       "  <thead>\n",
       "    <tr style=\"text-align: right;\">\n",
       "      <th></th>\n",
       "      <th>大区</th>\n",
       "      <th>省份</th>\n",
       "      <th>金额</th>\n",
       "      <th>大区金额</th>\n",
       "      <th>金额占比</th>\n",
       "    </tr>\n",
       "  </thead>\n",
       "  <tbody>\n",
       "    <tr>\n",
       "      <th>0</th>\n",
       "      <td>东北</td>\n",
       "      <td>吉林</td>\n",
       "      <td>640196.59</td>\n",
       "      <td>2681567.51</td>\n",
       "      <td>23.87%</td>\n",
       "    </tr>\n",
       "    <tr>\n",
       "      <th>1</th>\n",
       "      <td>东北</td>\n",
       "      <td>辽宁</td>\n",
       "      <td>862569.72</td>\n",
       "      <td>2681567.51</td>\n",
       "      <td>32.17%</td>\n",
       "    </tr>\n",
       "    <tr>\n",
       "      <th>2</th>\n",
       "      <td>东北</td>\n",
       "      <td>黑龙江</td>\n",
       "      <td>1178801.20</td>\n",
       "      <td>2681567.51</td>\n",
       "      <td>43.96%</td>\n",
       "    </tr>\n",
       "    <tr>\n",
       "      <th>3</th>\n",
       "      <td>中南</td>\n",
       "      <td>广东</td>\n",
       "      <td>1452929.53</td>\n",
       "      <td>4137415.10</td>\n",
       "      <td>35.12%</td>\n",
       "    </tr>\n",
       "    <tr>\n",
       "      <th>4</th>\n",
       "      <td>中南</td>\n",
       "      <td>广西</td>\n",
       "      <td>377653.82</td>\n",
       "      <td>4137415.10</td>\n",
       "      <td>9.13%</td>\n",
       "    </tr>\n",
       "    <tr>\n",
       "      <th>5</th>\n",
       "      <td>中南</td>\n",
       "      <td>河南</td>\n",
       "      <td>853574.77</td>\n",
       "      <td>4137415.10</td>\n",
       "      <td>20.63%</td>\n",
       "    </tr>\n",
       "    <tr>\n",
       "      <th>6</th>\n",
       "      <td>中南</td>\n",
       "      <td>海南</td>\n",
       "      <td>107854.42</td>\n",
       "      <td>4137415.10</td>\n",
       "      <td>2.61%</td>\n",
       "    </tr>\n",
       "    <tr>\n",
       "      <th>7</th>\n",
       "      <td>中南</td>\n",
       "      <td>湖北</td>\n",
       "      <td>621960.36</td>\n",
       "      <td>4137415.10</td>\n",
       "      <td>15.03%</td>\n",
       "    </tr>\n",
       "    <tr>\n",
       "      <th>8</th>\n",
       "      <td>中南</td>\n",
       "      <td>湖南</td>\n",
       "      <td>723442.20</td>\n",
       "      <td>4137415.10</td>\n",
       "      <td>17.49%</td>\n",
       "    </tr>\n",
       "    <tr>\n",
       "      <th>9</th>\n",
       "      <td>华东</td>\n",
       "      <td>上海</td>\n",
       "      <td>582450.57</td>\n",
       "      <td>4684506.52</td>\n",
       "      <td>12.43%</td>\n",
       "    </tr>\n",
       "    <tr>\n",
       "      <th>10</th>\n",
       "      <td>华东</td>\n",
       "      <td>安徽</td>\n",
       "      <td>628965.21</td>\n",
       "      <td>4684506.52</td>\n",
       "      <td>13.43%</td>\n",
       "    </tr>\n",
       "    <tr>\n",
       "      <th>11</th>\n",
       "      <td>华东</td>\n",
       "      <td>山东</td>\n",
       "      <td>1586782.99</td>\n",
       "      <td>4684506.52</td>\n",
       "      <td>33.87%</td>\n",
       "    </tr>\n",
       "    <tr>\n",
       "      <th>12</th>\n",
       "      <td>华东</td>\n",
       "      <td>江苏</td>\n",
       "      <td>649967.19</td>\n",
       "      <td>4684506.52</td>\n",
       "      <td>13.87%</td>\n",
       "    </tr>\n",
       "    <tr>\n",
       "      <th>13</th>\n",
       "      <td>华东</td>\n",
       "      <td>江西</td>\n",
       "      <td>237328.70</td>\n",
       "      <td>4684506.52</td>\n",
       "      <td>5.07%</td>\n",
       "    </tr>\n",
       "    <tr>\n",
       "      <th>14</th>\n",
       "      <td>华东</td>\n",
       "      <td>浙江</td>\n",
       "      <td>452108.32</td>\n",
       "      <td>4684506.52</td>\n",
       "      <td>9.65%</td>\n",
       "    </tr>\n",
       "    <tr>\n",
       "      <th>15</th>\n",
       "      <td>华东</td>\n",
       "      <td>福建</td>\n",
       "      <td>546903.54</td>\n",
       "      <td>4684506.52</td>\n",
       "      <td>11.67%</td>\n",
       "    </tr>\n",
       "    <tr>\n",
       "      <th>16</th>\n",
       "      <td>华北</td>\n",
       "      <td>内蒙古</td>\n",
       "      <td>273453.03</td>\n",
       "      <td>2447301.08</td>\n",
       "      <td>11.17%</td>\n",
       "    </tr>\n",
       "    <tr>\n",
       "      <th>17</th>\n",
       "      <td>华北</td>\n",
       "      <td>北京</td>\n",
       "      <td>409147.20</td>\n",
       "      <td>2447301.08</td>\n",
       "      <td>16.72%</td>\n",
       "    </tr>\n",
       "    <tr>\n",
       "      <th>18</th>\n",
       "      <td>华北</td>\n",
       "      <td>天津</td>\n",
       "      <td>549906.64</td>\n",
       "      <td>2447301.08</td>\n",
       "      <td>22.47%</td>\n",
       "    </tr>\n",
       "    <tr>\n",
       "      <th>19</th>\n",
       "      <td>华北</td>\n",
       "      <td>山西</td>\n",
       "      <td>423878.78</td>\n",
       "      <td>2447301.08</td>\n",
       "      <td>17.32%</td>\n",
       "    </tr>\n",
       "    <tr>\n",
       "      <th>20</th>\n",
       "      <td>华北</td>\n",
       "      <td>河北</td>\n",
       "      <td>790915.43</td>\n",
       "      <td>2447301.08</td>\n",
       "      <td>32.32%</td>\n",
       "    </tr>\n",
       "    <tr>\n",
       "      <th>21</th>\n",
       "      <td>西北</td>\n",
       "      <td>宁夏</td>\n",
       "      <td>58121.00</td>\n",
       "      <td>815039.57</td>\n",
       "      <td>7.13%</td>\n",
       "    </tr>\n",
       "    <tr>\n",
       "      <th>22</th>\n",
       "      <td>西北</td>\n",
       "      <td>新疆</td>\n",
       "      <td>70097.02</td>\n",
       "      <td>815039.57</td>\n",
       "      <td>8.60%</td>\n",
       "    </tr>\n",
       "    <tr>\n",
       "      <th>23</th>\n",
       "      <td>西北</td>\n",
       "      <td>甘肃</td>\n",
       "      <td>179270.00</td>\n",
       "      <td>815039.57</td>\n",
       "      <td>22.00%</td>\n",
       "    </tr>\n",
       "    <tr>\n",
       "      <th>24</th>\n",
       "      <td>西北</td>\n",
       "      <td>陕西</td>\n",
       "      <td>457688.17</td>\n",
       "      <td>815039.57</td>\n",
       "      <td>56.16%</td>\n",
       "    </tr>\n",
       "    <tr>\n",
       "      <th>25</th>\n",
       "      <td>西北</td>\n",
       "      <td>青海</td>\n",
       "      <td>49863.38</td>\n",
       "      <td>815039.57</td>\n",
       "      <td>6.12%</td>\n",
       "    </tr>\n",
       "    <tr>\n",
       "      <th>26</th>\n",
       "      <td>西南</td>\n",
       "      <td>云南</td>\n",
       "      <td>360925.75</td>\n",
       "      <td>1303124.51</td>\n",
       "      <td>27.70%</td>\n",
       "    </tr>\n",
       "    <tr>\n",
       "      <th>27</th>\n",
       "      <td>西南</td>\n",
       "      <td>四川</td>\n",
       "      <td>400877.61</td>\n",
       "      <td>1303124.51</td>\n",
       "      <td>30.76%</td>\n",
       "    </tr>\n",
       "    <tr>\n",
       "      <th>28</th>\n",
       "      <td>西南</td>\n",
       "      <td>海南</td>\n",
       "      <td>61402.43</td>\n",
       "      <td>1303124.51</td>\n",
       "      <td>4.71%</td>\n",
       "    </tr>\n",
       "    <tr>\n",
       "      <th>29</th>\n",
       "      <td>西南</td>\n",
       "      <td>西藏</td>\n",
       "      <td>10015.18</td>\n",
       "      <td>1303124.51</td>\n",
       "      <td>0.77%</td>\n",
       "    </tr>\n",
       "    <tr>\n",
       "      <th>30</th>\n",
       "      <td>西南</td>\n",
       "      <td>贵州</td>\n",
       "      <td>108141.61</td>\n",
       "      <td>1303124.51</td>\n",
       "      <td>8.30%</td>\n",
       "    </tr>\n",
       "    <tr>\n",
       "      <th>31</th>\n",
       "      <td>西南</td>\n",
       "      <td>重庆</td>\n",
       "      <td>361761.93</td>\n",
       "      <td>1303124.51</td>\n",
       "      <td>27.76%</td>\n",
       "    </tr>\n",
       "  </tbody>\n",
       "</table>\n",
       "</div>"
      ],
      "text/plain": [
       "    大区   省份          金额        大区金额    金额占比\n",
       "0   东北   吉林   640196.59  2681567.51  23.87%\n",
       "1   东北   辽宁   862569.72  2681567.51  32.17%\n",
       "2   东北  黑龙江  1178801.20  2681567.51  43.96%\n",
       "3   中南   广东  1452929.53  4137415.10  35.12%\n",
       "4   中南   广西   377653.82  4137415.10   9.13%\n",
       "5   中南   河南   853574.77  4137415.10  20.63%\n",
       "6   中南   海南   107854.42  4137415.10   2.61%\n",
       "7   中南   湖北   621960.36  4137415.10  15.03%\n",
       "8   中南   湖南   723442.20  4137415.10  17.49%\n",
       "9   华东   上海   582450.57  4684506.52  12.43%\n",
       "10  华东   安徽   628965.21  4684506.52  13.43%\n",
       "11  华东   山东  1586782.99  4684506.52  33.87%\n",
       "12  华东   江苏   649967.19  4684506.52  13.87%\n",
       "13  华东   江西   237328.70  4684506.52   5.07%\n",
       "14  华东   浙江   452108.32  4684506.52   9.65%\n",
       "15  华东   福建   546903.54  4684506.52  11.67%\n",
       "16  华北  内蒙古   273453.03  2447301.08  11.17%\n",
       "17  华北   北京   409147.20  2447301.08  16.72%\n",
       "18  华北   天津   549906.64  2447301.08  22.47%\n",
       "19  华北   山西   423878.78  2447301.08  17.32%\n",
       "20  华北   河北   790915.43  2447301.08  32.32%\n",
       "21  西北   宁夏    58121.00   815039.57   7.13%\n",
       "22  西北   新疆    70097.02   815039.57   8.60%\n",
       "23  西北   甘肃   179270.00   815039.57  22.00%\n",
       "24  西北   陕西   457688.17   815039.57  56.16%\n",
       "25  西北   青海    49863.38   815039.57   6.12%\n",
       "26  西南   云南   360925.75  1303124.51  27.70%\n",
       "27  西南   四川   400877.61  1303124.51  30.76%\n",
       "28  西南   海南    61402.43  1303124.51   4.71%\n",
       "29  西南   西藏    10015.18  1303124.51   0.77%\n",
       "30  西南   贵州   108141.61  1303124.51   8.30%\n",
       "31  西南   重庆   361761.93  1303124.51  27.76%"
      ]
     },
     "execution_count": 13,
     "metadata": {},
     "output_type": "execute_result"
    }
   ],
   "source": [
    "tb"
   ]
  },
  {
   "cell_type": "markdown",
   "id": "0a0ede13",
   "metadata": {},
   "source": [
    "# 多列合并计算"
   ]
  },
  {
   "cell_type": "markdown",
   "id": "b2c55bdd",
   "metadata": {},
   "source": [
    "## groupby+字典+聚合函数"
   ]
  },
  {
   "cell_type": "code",
   "execution_count": null,
   "id": "4fa604cd",
   "metadata": {},
   "outputs": [],
   "source": [
    "df = pd.read_excel('./data/demo_03.xlsx', sheet_name='Sheet2')"
   ]
  },
  {
   "cell_type": "code",
   "execution_count": null,
   "id": "673f0681",
   "metadata": {
    "lines_to_next_cell": 2
   },
   "outputs": [],
   "source": []
  },
  {
   "cell_type": "markdown",
   "id": "c36855a3",
   "metadata": {},
   "source": [
    "## groupby+Series+聚合函数"
   ]
  },
  {
   "cell_type": "code",
   "execution_count": null,
   "id": "7854bed0",
   "metadata": {},
   "outputs": [],
   "source": [
    "df = pd.read_excel('./data/demo_03.xlsx', sheet_name='Sheet2')"
   ]
  },
  {
   "cell_type": "code",
   "execution_count": null,
   "id": "baa9e581",
   "metadata": {
    "lines_to_next_cell": 2
   },
   "outputs": [],
   "source": []
  },
  {
   "cell_type": "markdown",
   "id": "b2047b45",
   "metadata": {},
   "source": [
    "# pivot_table透视表"
   ]
  },
  {
   "cell_type": "code",
   "execution_count": null,
   "id": "111e326d",
   "metadata": {},
   "outputs": [],
   "source": [
    "df = pd.read_excel('./data/demo_03.xlsx', sheet_name='Sheet1')"
   ]
  },
  {
   "cell_type": "code",
   "execution_count": null,
   "id": "5d52e2a9",
   "metadata": {},
   "outputs": [],
   "source": []
  },
  {
   "cell_type": "markdown",
   "id": "6fe7e6bc",
   "metadata": {},
   "source": [
    "# crosstab交叉表"
   ]
  },
  {
   "cell_type": "code",
   "execution_count": null,
   "id": "4ca97879",
   "metadata": {},
   "outputs": [],
   "source": [
    "df = pd.read_excel('./data/demo_03.xlsx', sheet_name='Sheet1')"
   ]
  },
  {
   "cell_type": "code",
   "execution_count": null,
   "id": "069b9e39",
   "metadata": {},
   "outputs": [],
   "source": []
  },
  {
   "cell_type": "markdown",
   "id": "9e3f71f6",
   "metadata": {},
   "source": [
    "# category数据类型\n",
    "- 主要为了提升运算性能"
   ]
  },
  {
   "cell_type": "code",
   "execution_count": null,
   "id": "60e10c8d",
   "metadata": {
    "lines_to_next_cell": 2
   },
   "outputs": [],
   "source": [
    "df = pd.read_csv('./data/demo_03_cat.csv')"
   ]
  },
  {
   "cell_type": "markdown",
   "id": "e7cf2ce9",
   "metadata": {},
   "source": [
    "- 测试非category数据类型的运算时间"
   ]
  },
  {
   "cell_type": "code",
   "execution_count": null,
   "id": "71963621",
   "metadata": {},
   "outputs": [],
   "source": []
  },
  {
   "cell_type": "markdown",
   "id": "7b53d02f",
   "metadata": {},
   "source": [
    "- 测试category数据类型的运算时间"
   ]
  },
  {
   "cell_type": "code",
   "execution_count": null,
   "id": "dd1c0d0d",
   "metadata": {},
   "outputs": [],
   "source": []
  },
  {
   "cell_type": "code",
   "execution_count": null,
   "id": "56b19060",
   "metadata": {},
   "outputs": [],
   "source": []
  }
 ],
 "metadata": {
  "hide_input": false,
  "jupytext": {
   "cell_metadata_filter": "-all",
   "encoding": "# -*- coding: utf-8 -*-",
   "notebook_metadata_filter": "-all"
  },
  "kernelspec": {
   "display_name": "Python 3",
   "language": "python",
   "name": "python3"
  },
  "language_info": {
   "codemirror_mode": {
    "name": "ipython",
    "version": 3
   },
   "file_extension": ".py",
   "mimetype": "text/x-python",
   "name": "python",
   "nbconvert_exporter": "python",
   "pygments_lexer": "ipython3",
   "version": "3.8.8"
  },
  "toc": {
   "base_numbering": 1,
   "nav_menu": {},
   "number_sections": true,
   "sideBar": true,
   "skip_h1_title": false,
   "title_cell": "Table of Contents",
   "title_sidebar": "Contents",
   "toc_cell": false,
   "toc_position": {
    "height": "calc(100% - 180px)",
    "left": "10px",
    "top": "150px",
    "width": "256px"
   },
   "toc_section_display": true,
   "toc_window_display": true
  },
  "varInspector": {
   "cols": {
    "lenName": 16,
    "lenType": 16,
    "lenVar": 40
   },
   "kernels_config": {
    "python": {
     "delete_cmd_postfix": "",
     "delete_cmd_prefix": "del ",
     "library": "var_list.py",
     "varRefreshCmd": "print(var_dic_list())"
    },
    "r": {
     "delete_cmd_postfix": ") ",
     "delete_cmd_prefix": "rm(",
     "library": "var_list.r",
     "varRefreshCmd": "cat(var_dic_list()) "
    }
   },
   "types_to_exclude": [
    "module",
    "function",
    "builtin_function_or_method",
    "instance",
    "_Feature"
   ],
   "window_display": false
  }
 },
 "nbformat": 4,
 "nbformat_minor": 5
}
