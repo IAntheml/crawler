{
 "cells": [
  {
   "cell_type": "code",
   "execution_count": 1,
   "id": "06ad35b3",
   "metadata": {},
   "outputs": [],
   "source": [
    "import pandas as pd"
   ]
  },
  {
   "cell_type": "markdown",
   "id": "10f8366d",
   "metadata": {},
   "source": [
    "# 创建DataFrame对象"
   ]
  },
  {
   "cell_type": "code",
   "execution_count": 5,
   "id": "a8ac841e",
   "metadata": {},
   "outputs": [
    {
     "data": {
      "text/html": [
       "<div>\n",
       "<style scoped>\n",
       "    .dataframe tbody tr th:only-of-type {\n",
       "        vertical-align: middle;\n",
       "    }\n",
       "\n",
       "    .dataframe tbody tr th {\n",
       "        vertical-align: top;\n",
       "    }\n",
       "\n",
       "    .dataframe thead th {\n",
       "        text-align: right;\n",
       "    }\n",
       "</style>\n",
       "<table border=\"1\" class=\"dataframe\">\n",
       "  <thead>\n",
       "    <tr style=\"text-align: right;\">\n",
       "      <th></th>\n",
       "      <th>语文</th>\n",
       "      <th>数学</th>\n",
       "      <th>英语</th>\n",
       "    </tr>\n",
       "  </thead>\n",
       "  <tbody>\n",
       "    <tr>\n",
       "      <th>刘备</th>\n",
       "      <td>109</td>\n",
       "      <td>107</td>\n",
       "      <td>100</td>\n",
       "    </tr>\n",
       "    <tr>\n",
       "      <th>关羽</th>\n",
       "      <td>105</td>\n",
       "      <td>114</td>\n",
       "      <td>135</td>\n",
       "    </tr>\n",
       "    <tr>\n",
       "      <th>张飞</th>\n",
       "      <td>98</td>\n",
       "      <td>88</td>\n",
       "      <td>120</td>\n",
       "    </tr>\n",
       "    <tr>\n",
       "      <th>诸葛亮</th>\n",
       "      <td>145</td>\n",
       "      <td>150</td>\n",
       "      <td>130</td>\n",
       "    </tr>\n",
       "  </tbody>\n",
       "</table>\n",
       "</div>"
      ],
      "text/plain": [
       "      语文   数学   英语\n",
       "刘备   109  107  100\n",
       "关羽   105  114  135\n",
       "张飞    98   88  120\n",
       "诸葛亮  145  150  130"
      ]
     },
     "execution_count": 5,
     "metadata": {},
     "output_type": "execute_result"
    }
   ],
   "source": [
    "data = [[109, 107, 100],\n",
    "        [105, 114, 135],\n",
    "        [98, 88, 120],\n",
    "        [145, 150, 130]]\n",
    "name = ['刘备', '关羽', '张飞', '诸葛亮']\n",
    "columns = ['语文', '数学', '英语']\n",
    "df = pd.DataFrame(\n",
    "    data=data,\n",
    "    index=name,\n",
    "    columns=columns)\n",
    "df"
   ]
  },
  {
   "cell_type": "markdown",
   "id": "4e26dd84",
   "metadata": {},
   "source": [
    "# 新增数据"
   ]
  },
  {
   "cell_type": "markdown",
   "id": "1103d285",
   "metadata": {},
   "source": [
    "## 按列新增数据"
   ]
  },
  {
   "cell_type": "markdown",
   "id": "1c0b1dbe",
   "metadata": {},
   "source": [
    "### 直接赋值\n",
    "- 在最后插入“物理”一列"
   ]
  },
  {
   "cell_type": "code",
   "execution_count": 4,
   "id": "cf40ae67",
   "metadata": {},
   "outputs": [
    {
     "data": {
      "text/html": [
       "<div>\n",
       "<style scoped>\n",
       "    .dataframe tbody tr th:only-of-type {\n",
       "        vertical-align: middle;\n",
       "    }\n",
       "\n",
       "    .dataframe tbody tr th {\n",
       "        vertical-align: top;\n",
       "    }\n",
       "\n",
       "    .dataframe thead th {\n",
       "        text-align: right;\n",
       "    }\n",
       "</style>\n",
       "<table border=\"1\" class=\"dataframe\">\n",
       "  <thead>\n",
       "    <tr style=\"text-align: right;\">\n",
       "      <th></th>\n",
       "      <th>语文</th>\n",
       "      <th>数学</th>\n",
       "      <th>英语</th>\n",
       "      <th>物理</th>\n",
       "    </tr>\n",
       "  </thead>\n",
       "  <tbody>\n",
       "    <tr>\n",
       "      <th>刘备</th>\n",
       "      <td>109</td>\n",
       "      <td>107</td>\n",
       "      <td>100</td>\n",
       "      <td>80</td>\n",
       "    </tr>\n",
       "    <tr>\n",
       "      <th>关羽</th>\n",
       "      <td>105</td>\n",
       "      <td>114</td>\n",
       "      <td>135</td>\n",
       "      <td>80</td>\n",
       "    </tr>\n",
       "    <tr>\n",
       "      <th>张飞</th>\n",
       "      <td>98</td>\n",
       "      <td>88</td>\n",
       "      <td>120</td>\n",
       "      <td>70</td>\n",
       "    </tr>\n",
       "    <tr>\n",
       "      <th>诸葛亮</th>\n",
       "      <td>145</td>\n",
       "      <td>150</td>\n",
       "      <td>130</td>\n",
       "      <td>60</td>\n",
       "    </tr>\n",
       "  </tbody>\n",
       "</table>\n",
       "</div>"
      ],
      "text/plain": [
       "      语文   数学   英语  物理\n",
       "刘备   109  107  100  80\n",
       "关羽   105  114  135  80\n",
       "张飞    98   88  120  70\n",
       "诸葛亮  145  150  130  60"
      ]
     },
     "execution_count": 4,
     "metadata": {},
     "output_type": "execute_result"
    }
   ],
   "source": [
    "df['物理'] = [80, 80, 70, 60]\n",
    "df"
   ]
  },
  {
   "cell_type": "markdown",
   "id": "2df92d7d",
   "metadata": {},
   "source": [
    "### loc方法\n",
    "- 在最后插入“物理”一列"
   ]
  },
  {
   "cell_type": "code",
   "execution_count": 8,
   "id": "79aabe76",
   "metadata": {},
   "outputs": [
    {
     "data": {
      "text/html": [
       "<div>\n",
       "<style scoped>\n",
       "    .dataframe tbody tr th:only-of-type {\n",
       "        vertical-align: middle;\n",
       "    }\n",
       "\n",
       "    .dataframe tbody tr th {\n",
       "        vertical-align: top;\n",
       "    }\n",
       "\n",
       "    .dataframe thead th {\n",
       "        text-align: right;\n",
       "    }\n",
       "</style>\n",
       "<table border=\"1\" class=\"dataframe\">\n",
       "  <thead>\n",
       "    <tr style=\"text-align: right;\">\n",
       "      <th></th>\n",
       "      <th>语文</th>\n",
       "      <th>数学</th>\n",
       "      <th>英语</th>\n",
       "      <th>物理</th>\n",
       "    </tr>\n",
       "  </thead>\n",
       "  <tbody>\n",
       "    <tr>\n",
       "      <th>刘备</th>\n",
       "      <td>109</td>\n",
       "      <td>107</td>\n",
       "      <td>100</td>\n",
       "      <td>80</td>\n",
       "    </tr>\n",
       "    <tr>\n",
       "      <th>关羽</th>\n",
       "      <td>105</td>\n",
       "      <td>114</td>\n",
       "      <td>135</td>\n",
       "      <td>80</td>\n",
       "    </tr>\n",
       "    <tr>\n",
       "      <th>张飞</th>\n",
       "      <td>98</td>\n",
       "      <td>88</td>\n",
       "      <td>120</td>\n",
       "      <td>70</td>\n",
       "    </tr>\n",
       "    <tr>\n",
       "      <th>诸葛亮</th>\n",
       "      <td>145</td>\n",
       "      <td>150</td>\n",
       "      <td>130</td>\n",
       "      <td>60</td>\n",
       "    </tr>\n",
       "  </tbody>\n",
       "</table>\n",
       "</div>"
      ],
      "text/plain": [
       "      语文   数学   英语  物理\n",
       "刘备   109  107  100  80\n",
       "关羽   105  114  135  80\n",
       "张飞    98   88  120  70\n",
       "诸葛亮  145  150  130  60"
      ]
     },
     "execution_count": 8,
     "metadata": {},
     "output_type": "execute_result"
    }
   ],
   "source": [
    "df.loc[:, '物理'] = [80, 80, 70, 60]\n",
    "df"
   ]
  },
  {
   "cell_type": "markdown",
   "id": "c4d3c3a7",
   "metadata": {},
   "source": [
    "### insert方法\n",
    "- 在第1列后面插入“物理”列名"
   ]
  },
  {
   "cell_type": "code",
   "execution_count": 9,
   "id": "f6984807",
   "metadata": {},
   "outputs": [
    {
     "data": {
      "text/html": [
       "<div>\n",
       "<style scoped>\n",
       "    .dataframe tbody tr th:only-of-type {\n",
       "        vertical-align: middle;\n",
       "    }\n",
       "\n",
       "    .dataframe tbody tr th {\n",
       "        vertical-align: top;\n",
       "    }\n",
       "\n",
       "    .dataframe thead th {\n",
       "        text-align: right;\n",
       "    }\n",
       "</style>\n",
       "<table border=\"1\" class=\"dataframe\">\n",
       "  <thead>\n",
       "    <tr style=\"text-align: right;\">\n",
       "      <th></th>\n",
       "      <th>语文</th>\n",
       "      <th>数学</th>\n",
       "      <th>英语</th>\n",
       "    </tr>\n",
       "  </thead>\n",
       "  <tbody>\n",
       "    <tr>\n",
       "      <th>刘备</th>\n",
       "      <td>109</td>\n",
       "      <td>107</td>\n",
       "      <td>100</td>\n",
       "    </tr>\n",
       "    <tr>\n",
       "      <th>关羽</th>\n",
       "      <td>105</td>\n",
       "      <td>114</td>\n",
       "      <td>135</td>\n",
       "    </tr>\n",
       "    <tr>\n",
       "      <th>张飞</th>\n",
       "      <td>98</td>\n",
       "      <td>88</td>\n",
       "      <td>120</td>\n",
       "    </tr>\n",
       "    <tr>\n",
       "      <th>诸葛亮</th>\n",
       "      <td>145</td>\n",
       "      <td>150</td>\n",
       "      <td>130</td>\n",
       "    </tr>\n",
       "  </tbody>\n",
       "</table>\n",
       "</div>"
      ],
      "text/plain": [
       "      语文   数学   英语\n",
       "刘备   109  107  100\n",
       "关羽   105  114  135\n",
       "张飞    98   88  120\n",
       "诸葛亮  145  150  130"
      ]
     },
     "execution_count": 9,
     "metadata": {},
     "output_type": "execute_result"
    }
   ],
   "source": [
    "del df['物理']\n",
    "df"
   ]
  },
  {
   "cell_type": "code",
   "execution_count": 10,
   "id": "34b0d185",
   "metadata": {},
   "outputs": [
    {
     "data": {
      "text/html": [
       "<div>\n",
       "<style scoped>\n",
       "    .dataframe tbody tr th:only-of-type {\n",
       "        vertical-align: middle;\n",
       "    }\n",
       "\n",
       "    .dataframe tbody tr th {\n",
       "        vertical-align: top;\n",
       "    }\n",
       "\n",
       "    .dataframe thead th {\n",
       "        text-align: right;\n",
       "    }\n",
       "</style>\n",
       "<table border=\"1\" class=\"dataframe\">\n",
       "  <thead>\n",
       "    <tr style=\"text-align: right;\">\n",
       "      <th></th>\n",
       "      <th>语文</th>\n",
       "      <th>物理</th>\n",
       "      <th>数学</th>\n",
       "      <th>英语</th>\n",
       "    </tr>\n",
       "  </thead>\n",
       "  <tbody>\n",
       "    <tr>\n",
       "      <th>刘备</th>\n",
       "      <td>109</td>\n",
       "      <td>80</td>\n",
       "      <td>107</td>\n",
       "      <td>100</td>\n",
       "    </tr>\n",
       "    <tr>\n",
       "      <th>关羽</th>\n",
       "      <td>105</td>\n",
       "      <td>80</td>\n",
       "      <td>114</td>\n",
       "      <td>135</td>\n",
       "    </tr>\n",
       "    <tr>\n",
       "      <th>张飞</th>\n",
       "      <td>98</td>\n",
       "      <td>70</td>\n",
       "      <td>88</td>\n",
       "      <td>120</td>\n",
       "    </tr>\n",
       "    <tr>\n",
       "      <th>诸葛亮</th>\n",
       "      <td>145</td>\n",
       "      <td>60</td>\n",
       "      <td>150</td>\n",
       "      <td>130</td>\n",
       "    </tr>\n",
       "  </tbody>\n",
       "</table>\n",
       "</div>"
      ],
      "text/plain": [
       "      语文  物理   数学   英语\n",
       "刘备   109  80  107  100\n",
       "关羽   105  80  114  135\n",
       "张飞    98  70   88  120\n",
       "诸葛亮  145  60  150  130"
      ]
     },
     "execution_count": 10,
     "metadata": {},
     "output_type": "execute_result"
    }
   ],
   "source": [
    "df.insert(1, '物理', [80, 80, 70, 60])\n",
    "df"
   ]
  },
  {
   "cell_type": "markdown",
   "id": "16fec5db",
   "metadata": {},
   "source": [
    "## 按行新增数据"
   ]
  },
  {
   "cell_type": "markdown",
   "id": "137da214",
   "metadata": {},
   "source": [
    "### 新增一行数据"
   ]
  },
  {
   "cell_type": "code",
   "execution_count": 11,
   "id": "7c84d187",
   "metadata": {},
   "outputs": [
    {
     "data": {
      "text/html": [
       "<div>\n",
       "<style scoped>\n",
       "    .dataframe tbody tr th:only-of-type {\n",
       "        vertical-align: middle;\n",
       "    }\n",
       "\n",
       "    .dataframe tbody tr th {\n",
       "        vertical-align: top;\n",
       "    }\n",
       "\n",
       "    .dataframe thead th {\n",
       "        text-align: right;\n",
       "    }\n",
       "</style>\n",
       "<table border=\"1\" class=\"dataframe\">\n",
       "  <thead>\n",
       "    <tr style=\"text-align: right;\">\n",
       "      <th></th>\n",
       "      <th>语文</th>\n",
       "      <th>物理</th>\n",
       "      <th>数学</th>\n",
       "      <th>英语</th>\n",
       "    </tr>\n",
       "  </thead>\n",
       "  <tbody>\n",
       "    <tr>\n",
       "      <th>刘备</th>\n",
       "      <td>109</td>\n",
       "      <td>80</td>\n",
       "      <td>107</td>\n",
       "      <td>100</td>\n",
       "    </tr>\n",
       "    <tr>\n",
       "      <th>关羽</th>\n",
       "      <td>105</td>\n",
       "      <td>80</td>\n",
       "      <td>114</td>\n",
       "      <td>135</td>\n",
       "    </tr>\n",
       "    <tr>\n",
       "      <th>张飞</th>\n",
       "      <td>98</td>\n",
       "      <td>70</td>\n",
       "      <td>88</td>\n",
       "      <td>120</td>\n",
       "    </tr>\n",
       "    <tr>\n",
       "      <th>诸葛亮</th>\n",
       "      <td>145</td>\n",
       "      <td>60</td>\n",
       "      <td>150</td>\n",
       "      <td>130</td>\n",
       "    </tr>\n",
       "    <tr>\n",
       "      <th>赵云</th>\n",
       "      <td>100</td>\n",
       "      <td>120</td>\n",
       "      <td>100</td>\n",
       "      <td>95</td>\n",
       "    </tr>\n",
       "  </tbody>\n",
       "</table>\n",
       "</div>"
      ],
      "text/plain": [
       "      语文   物理   数学   英语\n",
       "刘备   109   80  107  100\n",
       "关羽   105   80  114  135\n",
       "张飞    98   70   88  120\n",
       "诸葛亮  145   60  150  130\n",
       "赵云   100  120  100   95"
      ]
     },
     "execution_count": 11,
     "metadata": {},
     "output_type": "execute_result"
    }
   ],
   "source": [
    "df.loc['赵云'] = [100, 120, 100, 95]\n",
    "df"
   ]
  },
  {
   "cell_type": "markdown",
   "id": "7a352295",
   "metadata": {},
   "source": [
    "### 新增多行数据"
   ]
  },
  {
   "cell_type": "code",
   "execution_count": 13,
   "id": "e50a52c7",
   "metadata": {
    "lines_to_next_cell": 2
   },
   "outputs": [
    {
     "data": {
      "text/html": [
       "<div>\n",
       "<style scoped>\n",
       "    .dataframe tbody tr th:only-of-type {\n",
       "        vertical-align: middle;\n",
       "    }\n",
       "\n",
       "    .dataframe tbody tr th {\n",
       "        vertical-align: top;\n",
       "    }\n",
       "\n",
       "    .dataframe thead th {\n",
       "        text-align: right;\n",
       "    }\n",
       "</style>\n",
       "<table border=\"1\" class=\"dataframe\">\n",
       "  <thead>\n",
       "    <tr style=\"text-align: right;\">\n",
       "      <th></th>\n",
       "      <th>语文</th>\n",
       "      <th>数学</th>\n",
       "      <th>英语</th>\n",
       "      <th>物理</th>\n",
       "    </tr>\n",
       "  </thead>\n",
       "  <tbody>\n",
       "    <tr>\n",
       "      <th>马超</th>\n",
       "      <td>100</td>\n",
       "      <td>120</td>\n",
       "      <td>99</td>\n",
       "      <td>105</td>\n",
       "    </tr>\n",
       "    <tr>\n",
       "      <th>黄忠</th>\n",
       "      <td>123</td>\n",
       "      <td>142</td>\n",
       "      <td>139</td>\n",
       "      <td>110</td>\n",
       "    </tr>\n",
       "    <tr>\n",
       "      <th>姜维</th>\n",
       "      <td>138</td>\n",
       "      <td>60</td>\n",
       "      <td>99</td>\n",
       "      <td>96</td>\n",
       "    </tr>\n",
       "  </tbody>\n",
       "</table>\n",
       "</div>"
      ],
      "text/plain": [
       "     语文   数学   英语   物理\n",
       "马超  100  120   99  105\n",
       "黄忠  123  142  139  110\n",
       "姜维  138   60   99   96"
      ]
     },
     "execution_count": 13,
     "metadata": {},
     "output_type": "execute_result"
    }
   ],
   "source": [
    "df2 = pd.DataFrame(\n",
    "    {'语文': [100, 123, 138],\n",
    "     '数学': [120, 142, 60],\n",
    "     '英语': [99, 139, 99],\n",
    "     '物理': [105, 110, 96]},\n",
    "    index=['马超', '黄忠', '姜维'])\n",
    "df2"
   ]
  },
  {
   "cell_type": "code",
   "execution_count": 14,
   "id": "0244af50",
   "metadata": {},
   "outputs": [
    {
     "data": {
      "text/html": [
       "<div>\n",
       "<style scoped>\n",
       "    .dataframe tbody tr th:only-of-type {\n",
       "        vertical-align: middle;\n",
       "    }\n",
       "\n",
       "    .dataframe tbody tr th {\n",
       "        vertical-align: top;\n",
       "    }\n",
       "\n",
       "    .dataframe thead th {\n",
       "        text-align: right;\n",
       "    }\n",
       "</style>\n",
       "<table border=\"1\" class=\"dataframe\">\n",
       "  <thead>\n",
       "    <tr style=\"text-align: right;\">\n",
       "      <th></th>\n",
       "      <th>语文</th>\n",
       "      <th>物理</th>\n",
       "      <th>数学</th>\n",
       "      <th>英语</th>\n",
       "    </tr>\n",
       "  </thead>\n",
       "  <tbody>\n",
       "    <tr>\n",
       "      <th>刘备</th>\n",
       "      <td>109</td>\n",
       "      <td>80</td>\n",
       "      <td>107</td>\n",
       "      <td>100</td>\n",
       "    </tr>\n",
       "    <tr>\n",
       "      <th>关羽</th>\n",
       "      <td>105</td>\n",
       "      <td>80</td>\n",
       "      <td>114</td>\n",
       "      <td>135</td>\n",
       "    </tr>\n",
       "    <tr>\n",
       "      <th>张飞</th>\n",
       "      <td>98</td>\n",
       "      <td>70</td>\n",
       "      <td>88</td>\n",
       "      <td>120</td>\n",
       "    </tr>\n",
       "    <tr>\n",
       "      <th>诸葛亮</th>\n",
       "      <td>145</td>\n",
       "      <td>60</td>\n",
       "      <td>150</td>\n",
       "      <td>130</td>\n",
       "    </tr>\n",
       "    <tr>\n",
       "      <th>赵云</th>\n",
       "      <td>100</td>\n",
       "      <td>120</td>\n",
       "      <td>100</td>\n",
       "      <td>95</td>\n",
       "    </tr>\n",
       "    <tr>\n",
       "      <th>马超</th>\n",
       "      <td>100</td>\n",
       "      <td>105</td>\n",
       "      <td>120</td>\n",
       "      <td>99</td>\n",
       "    </tr>\n",
       "    <tr>\n",
       "      <th>黄忠</th>\n",
       "      <td>123</td>\n",
       "      <td>110</td>\n",
       "      <td>142</td>\n",
       "      <td>139</td>\n",
       "    </tr>\n",
       "    <tr>\n",
       "      <th>姜维</th>\n",
       "      <td>138</td>\n",
       "      <td>96</td>\n",
       "      <td>60</td>\n",
       "      <td>99</td>\n",
       "    </tr>\n",
       "  </tbody>\n",
       "</table>\n",
       "</div>"
      ],
      "text/plain": [
       "      语文   物理   数学   英语\n",
       "刘备   109   80  107  100\n",
       "关羽   105   80  114  135\n",
       "张飞    98   70   88  120\n",
       "诸葛亮  145   60  150  130\n",
       "赵云   100  120  100   95\n",
       "马超   100  105  120   99\n",
       "黄忠   123  110  142  139\n",
       "姜维   138   96   60   99"
      ]
     },
     "execution_count": 14,
     "metadata": {},
     "output_type": "execute_result"
    }
   ],
   "source": [
    "df3 = df.append(df2)\n",
    "df3"
   ]
  },
  {
   "cell_type": "markdown",
   "id": "6c0e0f38",
   "metadata": {},
   "source": [
    "# 修改行列索引"
   ]
  },
  {
   "cell_type": "markdown",
   "id": "f380a14d",
   "metadata": {},
   "source": [
    "## 修改列索引"
   ]
  },
  {
   "cell_type": "markdown",
   "id": "7e23a489",
   "metadata": {},
   "source": [
    "### 通过属性赋值"
   ]
  },
  {
   "cell_type": "code",
   "execution_count": 17,
   "id": "d78ff87d",
   "metadata": {},
   "outputs": [],
   "source": [
    "df.columns = ['语文', '物理(上)', '数学', '英语']"
   ]
  },
  {
   "cell_type": "code",
   "execution_count": 24,
   "id": "e0d2c3cd",
   "metadata": {},
   "outputs": [],
   "source": [
    "df.columns = ['语文', '物理', '数学', '英语']"
   ]
  },
  {
   "cell_type": "markdown",
   "id": "7a4a934a",
   "metadata": {},
   "source": [
    "### 通过rename方法"
   ]
  },
  {
   "cell_type": "code",
   "execution_count": 26,
   "id": "74c02c44",
   "metadata": {},
   "outputs": [
    {
     "data": {
      "text/html": [
       "<div>\n",
       "<style scoped>\n",
       "    .dataframe tbody tr th:only-of-type {\n",
       "        vertical-align: middle;\n",
       "    }\n",
       "\n",
       "    .dataframe tbody tr th {\n",
       "        vertical-align: top;\n",
       "    }\n",
       "\n",
       "    .dataframe thead th {\n",
       "        text-align: right;\n",
       "    }\n",
       "</style>\n",
       "<table border=\"1\" class=\"dataframe\">\n",
       "  <thead>\n",
       "    <tr style=\"text-align: right;\">\n",
       "      <th></th>\n",
       "      <th>语文</th>\n",
       "      <th>物理(上)</th>\n",
       "      <th>数学</th>\n",
       "      <th>英语</th>\n",
       "    </tr>\n",
       "  </thead>\n",
       "  <tbody>\n",
       "    <tr>\n",
       "      <th>刘备</th>\n",
       "      <td>109</td>\n",
       "      <td>80</td>\n",
       "      <td>107</td>\n",
       "      <td>100</td>\n",
       "    </tr>\n",
       "    <tr>\n",
       "      <th>关羽</th>\n",
       "      <td>105</td>\n",
       "      <td>80</td>\n",
       "      <td>114</td>\n",
       "      <td>135</td>\n",
       "    </tr>\n",
       "    <tr>\n",
       "      <th>张飞</th>\n",
       "      <td>98</td>\n",
       "      <td>70</td>\n",
       "      <td>88</td>\n",
       "      <td>120</td>\n",
       "    </tr>\n",
       "    <tr>\n",
       "      <th>诸葛亮</th>\n",
       "      <td>145</td>\n",
       "      <td>60</td>\n",
       "      <td>150</td>\n",
       "      <td>130</td>\n",
       "    </tr>\n",
       "    <tr>\n",
       "      <th>赵云</th>\n",
       "      <td>100</td>\n",
       "      <td>120</td>\n",
       "      <td>100</td>\n",
       "      <td>95</td>\n",
       "    </tr>\n",
       "  </tbody>\n",
       "</table>\n",
       "</div>"
      ],
      "text/plain": [
       "      语文  物理(上)   数学   英语\n",
       "刘备   109     80  107  100\n",
       "关羽   105     80  114  135\n",
       "张飞    98     70   88  120\n",
       "诸葛亮  145     60  150  130\n",
       "赵云   100    120  100   95"
      ]
     },
     "execution_count": 26,
     "metadata": {},
     "output_type": "execute_result"
    }
   ],
   "source": [
    "df.rename(mapper={'物理': '物理(上)'}, axis=1, inplace=True)\n",
    "# df.rename(columns={'物理': '物理(上)'}, inplace=True)\n",
    "# df = df.rename(columns={'物理': '物理(上)'})\n",
    "df"
   ]
  },
  {
   "cell_type": "markdown",
   "id": "37df3c2e",
   "metadata": {},
   "source": [
    "## 修改行索引"
   ]
  },
  {
   "cell_type": "markdown",
   "id": "3ccd61e9",
   "metadata": {},
   "source": [
    "### 通过属性赋值"
   ]
  },
  {
   "cell_type": "code",
   "execution_count": 28,
   "id": "bdd23ed8",
   "metadata": {},
   "outputs": [],
   "source": [
    "df.index = [1, 2, 3, 4, 5]"
   ]
  },
  {
   "cell_type": "code",
   "execution_count": 32,
   "id": "96fa9a6b",
   "metadata": {},
   "outputs": [],
   "source": [
    "df.index = ['刘备', '关羽', '张飞', '诸葛亮', '赵云']"
   ]
  },
  {
   "cell_type": "markdown",
   "id": "502ca57c",
   "metadata": {},
   "source": [
    "### 通过rename方法"
   ]
  },
  {
   "cell_type": "code",
   "execution_count": 33,
   "id": "c88047af",
   "metadata": {},
   "outputs": [
    {
     "data": {
      "text/html": [
       "<div>\n",
       "<style scoped>\n",
       "    .dataframe tbody tr th:only-of-type {\n",
       "        vertical-align: middle;\n",
       "    }\n",
       "\n",
       "    .dataframe tbody tr th {\n",
       "        vertical-align: top;\n",
       "    }\n",
       "\n",
       "    .dataframe thead th {\n",
       "        text-align: right;\n",
       "    }\n",
       "</style>\n",
       "<table border=\"1\" class=\"dataframe\">\n",
       "  <thead>\n",
       "    <tr style=\"text-align: right;\">\n",
       "      <th></th>\n",
       "      <th>语文</th>\n",
       "      <th>物理(上)</th>\n",
       "      <th>数学</th>\n",
       "      <th>英语</th>\n",
       "    </tr>\n",
       "  </thead>\n",
       "  <tbody>\n",
       "    <tr>\n",
       "      <th>大哥</th>\n",
       "      <td>109</td>\n",
       "      <td>80</td>\n",
       "      <td>107</td>\n",
       "      <td>100</td>\n",
       "    </tr>\n",
       "    <tr>\n",
       "      <th>二哥</th>\n",
       "      <td>105</td>\n",
       "      <td>80</td>\n",
       "      <td>114</td>\n",
       "      <td>135</td>\n",
       "    </tr>\n",
       "    <tr>\n",
       "      <th>三弟</th>\n",
       "      <td>98</td>\n",
       "      <td>70</td>\n",
       "      <td>88</td>\n",
       "      <td>120</td>\n",
       "    </tr>\n",
       "    <tr>\n",
       "      <th>诸葛亮</th>\n",
       "      <td>145</td>\n",
       "      <td>60</td>\n",
       "      <td>150</td>\n",
       "      <td>130</td>\n",
       "    </tr>\n",
       "    <tr>\n",
       "      <th>赵云</th>\n",
       "      <td>100</td>\n",
       "      <td>120</td>\n",
       "      <td>100</td>\n",
       "      <td>95</td>\n",
       "    </tr>\n",
       "  </tbody>\n",
       "</table>\n",
       "</div>"
      ],
      "text/plain": [
       "      语文  物理(上)   数学   英语\n",
       "大哥   109     80  107  100\n",
       "二哥   105     80  114  135\n",
       "三弟    98     70   88  120\n",
       "诸葛亮  145     60  150  130\n",
       "赵云   100    120  100   95"
      ]
     },
     "execution_count": 33,
     "metadata": {},
     "output_type": "execute_result"
    }
   ],
   "source": [
    "# df.rename(\n",
    "#     mapper={'刘备': '大哥', '关羽': '二哥', '张飞': '三弟'},\n",
    "#     axis=0, inplace=True)\n",
    "df = df.rename(index={'刘备': '大哥', '关羽': '二哥', '张飞': '三弟'})\n",
    "df"
   ]
  },
  {
   "cell_type": "code",
   "execution_count": 36,
   "id": "5cac2395",
   "metadata": {},
   "outputs": [],
   "source": [
    "df.index = ['刘备', '关羽', '张飞', '诸葛亮', '赵云']"
   ]
  },
  {
   "cell_type": "code",
   "execution_count": 37,
   "id": "be19331e",
   "metadata": {},
   "outputs": [],
   "source": [
    "df.columns = ['语文', '物理', '数学', '英语']"
   ]
  },
  {
   "cell_type": "markdown",
   "id": "19162072",
   "metadata": {},
   "source": [
    "# 修改数据"
   ]
  },
  {
   "cell_type": "code",
   "execution_count": 38,
   "id": "bf55eee4",
   "metadata": {},
   "outputs": [
    {
     "data": {
      "text/html": [
       "<div>\n",
       "<style scoped>\n",
       "    .dataframe tbody tr th:only-of-type {\n",
       "        vertical-align: middle;\n",
       "    }\n",
       "\n",
       "    .dataframe tbody tr th {\n",
       "        vertical-align: top;\n",
       "    }\n",
       "\n",
       "    .dataframe thead th {\n",
       "        text-align: right;\n",
       "    }\n",
       "</style>\n",
       "<table border=\"1\" class=\"dataframe\">\n",
       "  <thead>\n",
       "    <tr style=\"text-align: right;\">\n",
       "      <th></th>\n",
       "      <th>语文</th>\n",
       "      <th>物理</th>\n",
       "      <th>数学</th>\n",
       "      <th>英语</th>\n",
       "    </tr>\n",
       "  </thead>\n",
       "  <tbody>\n",
       "    <tr>\n",
       "      <th>刘备</th>\n",
       "      <td>109</td>\n",
       "      <td>80</td>\n",
       "      <td>107</td>\n",
       "      <td>100</td>\n",
       "    </tr>\n",
       "    <tr>\n",
       "      <th>关羽</th>\n",
       "      <td>105</td>\n",
       "      <td>80</td>\n",
       "      <td>114</td>\n",
       "      <td>135</td>\n",
       "    </tr>\n",
       "    <tr>\n",
       "      <th>张飞</th>\n",
       "      <td>98</td>\n",
       "      <td>70</td>\n",
       "      <td>88</td>\n",
       "      <td>120</td>\n",
       "    </tr>\n",
       "    <tr>\n",
       "      <th>诸葛亮</th>\n",
       "      <td>145</td>\n",
       "      <td>60</td>\n",
       "      <td>150</td>\n",
       "      <td>130</td>\n",
       "    </tr>\n",
       "    <tr>\n",
       "      <th>赵云</th>\n",
       "      <td>100</td>\n",
       "      <td>120</td>\n",
       "      <td>100</td>\n",
       "      <td>95</td>\n",
       "    </tr>\n",
       "  </tbody>\n",
       "</table>\n",
       "</div>"
      ],
      "text/plain": [
       "      语文   物理   数学   英语\n",
       "刘备   109   80  107  100\n",
       "关羽   105   80  114  135\n",
       "张飞    98   70   88  120\n",
       "诸葛亮  145   60  150  130\n",
       "赵云   100  120  100   95"
      ]
     },
     "execution_count": 38,
     "metadata": {},
     "output_type": "execute_result"
    }
   ],
   "source": [
    "df"
   ]
  },
  {
   "cell_type": "markdown",
   "id": "d26219a1",
   "metadata": {},
   "source": [
    "## 修改整行数据"
   ]
  },
  {
   "cell_type": "code",
   "execution_count": 40,
   "id": "eddab554",
   "metadata": {},
   "outputs": [
    {
     "data": {
      "text/html": [
       "<div>\n",
       "<style scoped>\n",
       "    .dataframe tbody tr th:only-of-type {\n",
       "        vertical-align: middle;\n",
       "    }\n",
       "\n",
       "    .dataframe tbody tr th {\n",
       "        vertical-align: top;\n",
       "    }\n",
       "\n",
       "    .dataframe thead th {\n",
       "        text-align: right;\n",
       "    }\n",
       "</style>\n",
       "<table border=\"1\" class=\"dataframe\">\n",
       "  <thead>\n",
       "    <tr style=\"text-align: right;\">\n",
       "      <th></th>\n",
       "      <th>语文</th>\n",
       "      <th>物理</th>\n",
       "      <th>数学</th>\n",
       "      <th>英语</th>\n",
       "    </tr>\n",
       "  </thead>\n",
       "  <tbody>\n",
       "    <tr>\n",
       "      <th>刘备</th>\n",
       "      <td>109</td>\n",
       "      <td>80</td>\n",
       "      <td>107</td>\n",
       "      <td>100</td>\n",
       "    </tr>\n",
       "    <tr>\n",
       "      <th>关羽</th>\n",
       "      <td>105</td>\n",
       "      <td>80</td>\n",
       "      <td>114</td>\n",
       "      <td>135</td>\n",
       "    </tr>\n",
       "    <tr>\n",
       "      <th>张飞</th>\n",
       "      <td>98</td>\n",
       "      <td>80</td>\n",
       "      <td>85</td>\n",
       "      <td>100</td>\n",
       "    </tr>\n",
       "    <tr>\n",
       "      <th>诸葛亮</th>\n",
       "      <td>145</td>\n",
       "      <td>60</td>\n",
       "      <td>150</td>\n",
       "      <td>130</td>\n",
       "    </tr>\n",
       "    <tr>\n",
       "      <th>赵云</th>\n",
       "      <td>100</td>\n",
       "      <td>120</td>\n",
       "      <td>100</td>\n",
       "      <td>95</td>\n",
       "    </tr>\n",
       "  </tbody>\n",
       "</table>\n",
       "</div>"
      ],
      "text/plain": [
       "      语文   物理   数学   英语\n",
       "刘备   109   80  107  100\n",
       "关羽   105   80  114  135\n",
       "张飞    98   80   85  100\n",
       "诸葛亮  145   60  150  130\n",
       "赵云   100  120  100   95"
      ]
     },
     "execution_count": 40,
     "metadata": {},
     "output_type": "execute_result"
    }
   ],
   "source": [
    "df.loc['张飞'] = [98, 80, 85, 100]\n",
    "df"
   ]
  },
  {
   "cell_type": "markdown",
   "id": "e9175acd",
   "metadata": {
    "lines_to_next_cell": 2
   },
   "source": [
    "## 修改整列数据"
   ]
  },
  {
   "cell_type": "code",
   "execution_count": 41,
   "id": "8aefed71",
   "metadata": {},
   "outputs": [
    {
     "data": {
      "text/html": [
       "<div>\n",
       "<style scoped>\n",
       "    .dataframe tbody tr th:only-of-type {\n",
       "        vertical-align: middle;\n",
       "    }\n",
       "\n",
       "    .dataframe tbody tr th {\n",
       "        vertical-align: top;\n",
       "    }\n",
       "\n",
       "    .dataframe thead th {\n",
       "        text-align: right;\n",
       "    }\n",
       "</style>\n",
       "<table border=\"1\" class=\"dataframe\">\n",
       "  <thead>\n",
       "    <tr style=\"text-align: right;\">\n",
       "      <th></th>\n",
       "      <th>语文</th>\n",
       "      <th>物理</th>\n",
       "      <th>数学</th>\n",
       "      <th>英语</th>\n",
       "    </tr>\n",
       "  </thead>\n",
       "  <tbody>\n",
       "    <tr>\n",
       "      <th>刘备</th>\n",
       "      <td>109</td>\n",
       "      <td>80</td>\n",
       "      <td>107</td>\n",
       "      <td>120</td>\n",
       "    </tr>\n",
       "    <tr>\n",
       "      <th>关羽</th>\n",
       "      <td>105</td>\n",
       "      <td>80</td>\n",
       "      <td>114</td>\n",
       "      <td>110</td>\n",
       "    </tr>\n",
       "    <tr>\n",
       "      <th>张飞</th>\n",
       "      <td>98</td>\n",
       "      <td>80</td>\n",
       "      <td>85</td>\n",
       "      <td>90</td>\n",
       "    </tr>\n",
       "    <tr>\n",
       "      <th>诸葛亮</th>\n",
       "      <td>145</td>\n",
       "      <td>60</td>\n",
       "      <td>150</td>\n",
       "      <td>100</td>\n",
       "    </tr>\n",
       "    <tr>\n",
       "      <th>赵云</th>\n",
       "      <td>100</td>\n",
       "      <td>120</td>\n",
       "      <td>100</td>\n",
       "      <td>112</td>\n",
       "    </tr>\n",
       "  </tbody>\n",
       "</table>\n",
       "</div>"
      ],
      "text/plain": [
       "      语文   物理   数学   英语\n",
       "刘备   109   80  107  120\n",
       "关羽   105   80  114  110\n",
       "张飞    98   80   85   90\n",
       "诸葛亮  145   60  150  100\n",
       "赵云   100  120  100  112"
      ]
     },
     "execution_count": 41,
     "metadata": {},
     "output_type": "execute_result"
    }
   ],
   "source": [
    "df.loc[:, '英语'] = [120, 110, 90, 100, 112]\n",
    "df"
   ]
  },
  {
   "cell_type": "markdown",
   "id": "2ae2f04a",
   "metadata": {},
   "source": [
    "## 修改张飞的各科成绩\n",
    "- 各科均加10分"
   ]
  },
  {
   "cell_type": "code",
   "execution_count": 43,
   "id": "48175bbd",
   "metadata": {},
   "outputs": [
    {
     "data": {
      "text/html": [
       "<div>\n",
       "<style scoped>\n",
       "    .dataframe tbody tr th:only-of-type {\n",
       "        vertical-align: middle;\n",
       "    }\n",
       "\n",
       "    .dataframe tbody tr th {\n",
       "        vertical-align: top;\n",
       "    }\n",
       "\n",
       "    .dataframe thead th {\n",
       "        text-align: right;\n",
       "    }\n",
       "</style>\n",
       "<table border=\"1\" class=\"dataframe\">\n",
       "  <thead>\n",
       "    <tr style=\"text-align: right;\">\n",
       "      <th></th>\n",
       "      <th>语文</th>\n",
       "      <th>物理</th>\n",
       "      <th>数学</th>\n",
       "      <th>英语</th>\n",
       "    </tr>\n",
       "  </thead>\n",
       "  <tbody>\n",
       "    <tr>\n",
       "      <th>刘备</th>\n",
       "      <td>109</td>\n",
       "      <td>80</td>\n",
       "      <td>107</td>\n",
       "      <td>120</td>\n",
       "    </tr>\n",
       "    <tr>\n",
       "      <th>关羽</th>\n",
       "      <td>105</td>\n",
       "      <td>80</td>\n",
       "      <td>114</td>\n",
       "      <td>110</td>\n",
       "    </tr>\n",
       "    <tr>\n",
       "      <th>张飞</th>\n",
       "      <td>108</td>\n",
       "      <td>90</td>\n",
       "      <td>95</td>\n",
       "      <td>100</td>\n",
       "    </tr>\n",
       "    <tr>\n",
       "      <th>诸葛亮</th>\n",
       "      <td>145</td>\n",
       "      <td>60</td>\n",
       "      <td>150</td>\n",
       "      <td>100</td>\n",
       "    </tr>\n",
       "    <tr>\n",
       "      <th>赵云</th>\n",
       "      <td>100</td>\n",
       "      <td>120</td>\n",
       "      <td>100</td>\n",
       "      <td>112</td>\n",
       "    </tr>\n",
       "  </tbody>\n",
       "</table>\n",
       "</div>"
      ],
      "text/plain": [
       "      语文   物理   数学   英语\n",
       "刘备   109   80  107  120\n",
       "关羽   105   80  114  110\n",
       "张飞   108   90   95  100\n",
       "诸葛亮  145   60  150  100\n",
       "赵云   100  120  100  112"
      ]
     },
     "execution_count": 43,
     "metadata": {},
     "output_type": "execute_result"
    }
   ],
   "source": [
    "df.loc['张飞'] = df.loc['张飞'] + 10\n",
    "df"
   ]
  },
  {
   "cell_type": "markdown",
   "id": "b938356a",
   "metadata": {},
   "source": [
    "## 修改张飞的语文成绩"
   ]
  },
  {
   "cell_type": "code",
   "execution_count": 44,
   "id": "31d097b0",
   "metadata": {},
   "outputs": [
    {
     "data": {
      "text/html": [
       "<div>\n",
       "<style scoped>\n",
       "    .dataframe tbody tr th:only-of-type {\n",
       "        vertical-align: middle;\n",
       "    }\n",
       "\n",
       "    .dataframe tbody tr th {\n",
       "        vertical-align: top;\n",
       "    }\n",
       "\n",
       "    .dataframe thead th {\n",
       "        text-align: right;\n",
       "    }\n",
       "</style>\n",
       "<table border=\"1\" class=\"dataframe\">\n",
       "  <thead>\n",
       "    <tr style=\"text-align: right;\">\n",
       "      <th></th>\n",
       "      <th>语文</th>\n",
       "      <th>物理</th>\n",
       "      <th>数学</th>\n",
       "      <th>英语</th>\n",
       "    </tr>\n",
       "  </thead>\n",
       "  <tbody>\n",
       "    <tr>\n",
       "      <th>刘备</th>\n",
       "      <td>109</td>\n",
       "      <td>80</td>\n",
       "      <td>107</td>\n",
       "      <td>120</td>\n",
       "    </tr>\n",
       "    <tr>\n",
       "      <th>关羽</th>\n",
       "      <td>105</td>\n",
       "      <td>80</td>\n",
       "      <td>114</td>\n",
       "      <td>110</td>\n",
       "    </tr>\n",
       "    <tr>\n",
       "      <th>张飞</th>\n",
       "      <td>110</td>\n",
       "      <td>90</td>\n",
       "      <td>95</td>\n",
       "      <td>100</td>\n",
       "    </tr>\n",
       "    <tr>\n",
       "      <th>诸葛亮</th>\n",
       "      <td>145</td>\n",
       "      <td>60</td>\n",
       "      <td>150</td>\n",
       "      <td>100</td>\n",
       "    </tr>\n",
       "    <tr>\n",
       "      <th>赵云</th>\n",
       "      <td>100</td>\n",
       "      <td>120</td>\n",
       "      <td>100</td>\n",
       "      <td>112</td>\n",
       "    </tr>\n",
       "  </tbody>\n",
       "</table>\n",
       "</div>"
      ],
      "text/plain": [
       "      语文   物理   数学   英语\n",
       "刘备   109   80  107  120\n",
       "关羽   105   80  114  110\n",
       "张飞   110   90   95  100\n",
       "诸葛亮  145   60  150  100\n",
       "赵云   100  120  100  112"
      ]
     },
     "execution_count": 44,
     "metadata": {},
     "output_type": "execute_result"
    }
   ],
   "source": [
    "df.loc['张飞', '语文'] = 110\n",
    "df"
   ]
  },
  {
   "cell_type": "markdown",
   "id": "3bd5d9f6",
   "metadata": {},
   "source": [
    "## 修改第1行第1列数据\n",
    "- 使用iloc方法"
   ]
  },
  {
   "cell_type": "code",
   "execution_count": 46,
   "id": "83ba05bf",
   "metadata": {},
   "outputs": [
    {
     "data": {
      "text/html": [
       "<div>\n",
       "<style scoped>\n",
       "    .dataframe tbody tr th:only-of-type {\n",
       "        vertical-align: middle;\n",
       "    }\n",
       "\n",
       "    .dataframe tbody tr th {\n",
       "        vertical-align: top;\n",
       "    }\n",
       "\n",
       "    .dataframe thead th {\n",
       "        text-align: right;\n",
       "    }\n",
       "</style>\n",
       "<table border=\"1\" class=\"dataframe\">\n",
       "  <thead>\n",
       "    <tr style=\"text-align: right;\">\n",
       "      <th></th>\n",
       "      <th>语文</th>\n",
       "      <th>物理</th>\n",
       "      <th>数学</th>\n",
       "      <th>英语</th>\n",
       "    </tr>\n",
       "  </thead>\n",
       "  <tbody>\n",
       "    <tr>\n",
       "      <th>刘备</th>\n",
       "      <td>120</td>\n",
       "      <td>80</td>\n",
       "      <td>107</td>\n",
       "      <td>120</td>\n",
       "    </tr>\n",
       "    <tr>\n",
       "      <th>关羽</th>\n",
       "      <td>105</td>\n",
       "      <td>80</td>\n",
       "      <td>114</td>\n",
       "      <td>110</td>\n",
       "    </tr>\n",
       "    <tr>\n",
       "      <th>张飞</th>\n",
       "      <td>110</td>\n",
       "      <td>90</td>\n",
       "      <td>95</td>\n",
       "      <td>100</td>\n",
       "    </tr>\n",
       "    <tr>\n",
       "      <th>诸葛亮</th>\n",
       "      <td>145</td>\n",
       "      <td>60</td>\n",
       "      <td>150</td>\n",
       "      <td>100</td>\n",
       "    </tr>\n",
       "    <tr>\n",
       "      <th>赵云</th>\n",
       "      <td>100</td>\n",
       "      <td>120</td>\n",
       "      <td>100</td>\n",
       "      <td>112</td>\n",
       "    </tr>\n",
       "  </tbody>\n",
       "</table>\n",
       "</div>"
      ],
      "text/plain": [
       "      语文   物理   数学   英语\n",
       "刘备   120   80  107  120\n",
       "关羽   105   80  114  110\n",
       "张飞   110   90   95  100\n",
       "诸葛亮  145   60  150  100\n",
       "赵云   100  120  100  112"
      ]
     },
     "execution_count": 46,
     "metadata": {},
     "output_type": "execute_result"
    }
   ],
   "source": [
    "df.iloc[0, 0] = 120\n",
    "df"
   ]
  },
  {
   "cell_type": "markdown",
   "id": "977f1944",
   "metadata": {},
   "source": [
    "## 修改整列数据，第1列\n",
    "- 使用iloc方法"
   ]
  },
  {
   "cell_type": "code",
   "execution_count": 47,
   "id": "44e40458",
   "metadata": {},
   "outputs": [
    {
     "data": {
      "text/html": [
       "<div>\n",
       "<style scoped>\n",
       "    .dataframe tbody tr th:only-of-type {\n",
       "        vertical-align: middle;\n",
       "    }\n",
       "\n",
       "    .dataframe tbody tr th {\n",
       "        vertical-align: top;\n",
       "    }\n",
       "\n",
       "    .dataframe thead th {\n",
       "        text-align: right;\n",
       "    }\n",
       "</style>\n",
       "<table border=\"1\" class=\"dataframe\">\n",
       "  <thead>\n",
       "    <tr style=\"text-align: right;\">\n",
       "      <th></th>\n",
       "      <th>语文</th>\n",
       "      <th>物理</th>\n",
       "      <th>数学</th>\n",
       "      <th>英语</th>\n",
       "    </tr>\n",
       "  </thead>\n",
       "  <tbody>\n",
       "    <tr>\n",
       "      <th>刘备</th>\n",
       "      <td>115</td>\n",
       "      <td>80</td>\n",
       "      <td>107</td>\n",
       "      <td>120</td>\n",
       "    </tr>\n",
       "    <tr>\n",
       "      <th>关羽</th>\n",
       "      <td>106</td>\n",
       "      <td>80</td>\n",
       "      <td>114</td>\n",
       "      <td>110</td>\n",
       "    </tr>\n",
       "    <tr>\n",
       "      <th>张飞</th>\n",
       "      <td>113</td>\n",
       "      <td>90</td>\n",
       "      <td>95</td>\n",
       "      <td>100</td>\n",
       "    </tr>\n",
       "    <tr>\n",
       "      <th>诸葛亮</th>\n",
       "      <td>120</td>\n",
       "      <td>60</td>\n",
       "      <td>150</td>\n",
       "      <td>100</td>\n",
       "    </tr>\n",
       "    <tr>\n",
       "      <th>赵云</th>\n",
       "      <td>120</td>\n",
       "      <td>120</td>\n",
       "      <td>100</td>\n",
       "      <td>112</td>\n",
       "    </tr>\n",
       "  </tbody>\n",
       "</table>\n",
       "</div>"
      ],
      "text/plain": [
       "      语文   物理   数学   英语\n",
       "刘备   115   80  107  120\n",
       "关羽   106   80  114  110\n",
       "张飞   113   90   95  100\n",
       "诸葛亮  120   60  150  100\n",
       "赵云   120  120  100  112"
      ]
     },
     "execution_count": 47,
     "metadata": {},
     "output_type": "execute_result"
    }
   ],
   "source": [
    "df.iloc[:, 0] = [115, 106, 113, 120, 120]\n",
    "df"
   ]
  },
  {
   "cell_type": "markdown",
   "id": "f59e408d",
   "metadata": {},
   "source": [
    "## 修改整行数据，第1行\n",
    "- 使用iloc方法"
   ]
  },
  {
   "cell_type": "code",
   "execution_count": 49,
   "id": "6a443d2a",
   "metadata": {
    "lines_to_next_cell": 2
   },
   "outputs": [
    {
     "data": {
      "text/html": [
       "<div>\n",
       "<style scoped>\n",
       "    .dataframe tbody tr th:only-of-type {\n",
       "        vertical-align: middle;\n",
       "    }\n",
       "\n",
       "    .dataframe tbody tr th {\n",
       "        vertical-align: top;\n",
       "    }\n",
       "\n",
       "    .dataframe thead th {\n",
       "        text-align: right;\n",
       "    }\n",
       "</style>\n",
       "<table border=\"1\" class=\"dataframe\">\n",
       "  <thead>\n",
       "    <tr style=\"text-align: right;\">\n",
       "      <th></th>\n",
       "      <th>语文</th>\n",
       "      <th>物理</th>\n",
       "      <th>数学</th>\n",
       "      <th>英语</th>\n",
       "    </tr>\n",
       "  </thead>\n",
       "  <tbody>\n",
       "    <tr>\n",
       "      <th>刘备</th>\n",
       "      <td>116</td>\n",
       "      <td>90</td>\n",
       "      <td>110</td>\n",
       "      <td>115</td>\n",
       "    </tr>\n",
       "    <tr>\n",
       "      <th>关羽</th>\n",
       "      <td>106</td>\n",
       "      <td>80</td>\n",
       "      <td>114</td>\n",
       "      <td>110</td>\n",
       "    </tr>\n",
       "    <tr>\n",
       "      <th>张飞</th>\n",
       "      <td>113</td>\n",
       "      <td>90</td>\n",
       "      <td>95</td>\n",
       "      <td>100</td>\n",
       "    </tr>\n",
       "    <tr>\n",
       "      <th>诸葛亮</th>\n",
       "      <td>120</td>\n",
       "      <td>60</td>\n",
       "      <td>150</td>\n",
       "      <td>100</td>\n",
       "    </tr>\n",
       "    <tr>\n",
       "      <th>赵云</th>\n",
       "      <td>120</td>\n",
       "      <td>120</td>\n",
       "      <td>100</td>\n",
       "      <td>112</td>\n",
       "    </tr>\n",
       "  </tbody>\n",
       "</table>\n",
       "</div>"
      ],
      "text/plain": [
       "      语文   物理   数学   英语\n",
       "刘备   116   90  110  115\n",
       "关羽   106   80  114  110\n",
       "张飞   113   90   95  100\n",
       "诸葛亮  120   60  150  100\n",
       "赵云   120  120  100  112"
      ]
     },
     "execution_count": 49,
     "metadata": {},
     "output_type": "execute_result"
    }
   ],
   "source": [
    "df.iloc[0] = [116, 90, 110, 115]\n",
    "df"
   ]
  },
  {
   "cell_type": "markdown",
   "id": "97092620",
   "metadata": {},
   "source": [
    "# 删除数据"
   ]
  },
  {
   "cell_type": "markdown",
   "id": "eea940cd",
   "metadata": {},
   "source": [
    "## 删除列数据\n",
    "- 传输列表，则删除多列"
   ]
  },
  {
   "cell_type": "code",
   "execution_count": 50,
   "id": "bcfd1ba1",
   "metadata": {},
   "outputs": [
    {
     "data": {
      "text/html": [
       "<div>\n",
       "<style scoped>\n",
       "    .dataframe tbody tr th:only-of-type {\n",
       "        vertical-align: middle;\n",
       "    }\n",
       "\n",
       "    .dataframe tbody tr th {\n",
       "        vertical-align: top;\n",
       "    }\n",
       "\n",
       "    .dataframe thead th {\n",
       "        text-align: right;\n",
       "    }\n",
       "</style>\n",
       "<table border=\"1\" class=\"dataframe\">\n",
       "  <thead>\n",
       "    <tr style=\"text-align: right;\">\n",
       "      <th></th>\n",
       "      <th>语文</th>\n",
       "      <th>物理</th>\n",
       "      <th>英语</th>\n",
       "    </tr>\n",
       "  </thead>\n",
       "  <tbody>\n",
       "    <tr>\n",
       "      <th>刘备</th>\n",
       "      <td>116</td>\n",
       "      <td>90</td>\n",
       "      <td>115</td>\n",
       "    </tr>\n",
       "    <tr>\n",
       "      <th>关羽</th>\n",
       "      <td>106</td>\n",
       "      <td>80</td>\n",
       "      <td>110</td>\n",
       "    </tr>\n",
       "    <tr>\n",
       "      <th>张飞</th>\n",
       "      <td>113</td>\n",
       "      <td>90</td>\n",
       "      <td>100</td>\n",
       "    </tr>\n",
       "    <tr>\n",
       "      <th>诸葛亮</th>\n",
       "      <td>120</td>\n",
       "      <td>60</td>\n",
       "      <td>100</td>\n",
       "    </tr>\n",
       "    <tr>\n",
       "      <th>赵云</th>\n",
       "      <td>120</td>\n",
       "      <td>120</td>\n",
       "      <td>112</td>\n",
       "    </tr>\n",
       "  </tbody>\n",
       "</table>\n",
       "</div>"
      ],
      "text/plain": [
       "      语文   物理   英语\n",
       "刘备   116   90  115\n",
       "关羽   106   80  110\n",
       "张飞   113   90  100\n",
       "诸葛亮  120   60  100\n",
       "赵云   120  120  112"
      ]
     },
     "execution_count": 50,
     "metadata": {},
     "output_type": "execute_result"
    }
   ],
   "source": [
    "df.drop(columns='数学', inplace=True)\n",
    "# df.drop(labels='数学', axis=1, inplace=True)\n",
    "# df = df.drop(columns='数学')\n",
    "df"
   ]
  },
  {
   "cell_type": "markdown",
   "id": "45486cd1",
   "metadata": {},
   "source": [
    "## 删除行数据\n",
    "- 传输列表，则删除多行"
   ]
  },
  {
   "cell_type": "code",
   "execution_count": 51,
   "id": "be1b8779",
   "metadata": {},
   "outputs": [
    {
     "data": {
      "text/html": [
       "<div>\n",
       "<style scoped>\n",
       "    .dataframe tbody tr th:only-of-type {\n",
       "        vertical-align: middle;\n",
       "    }\n",
       "\n",
       "    .dataframe tbody tr th {\n",
       "        vertical-align: top;\n",
       "    }\n",
       "\n",
       "    .dataframe thead th {\n",
       "        text-align: right;\n",
       "    }\n",
       "</style>\n",
       "<table border=\"1\" class=\"dataframe\">\n",
       "  <thead>\n",
       "    <tr style=\"text-align: right;\">\n",
       "      <th></th>\n",
       "      <th>语文</th>\n",
       "      <th>物理</th>\n",
       "      <th>英语</th>\n",
       "    </tr>\n",
       "  </thead>\n",
       "  <tbody>\n",
       "    <tr>\n",
       "      <th>刘备</th>\n",
       "      <td>116</td>\n",
       "      <td>90</td>\n",
       "      <td>115</td>\n",
       "    </tr>\n",
       "    <tr>\n",
       "      <th>关羽</th>\n",
       "      <td>106</td>\n",
       "      <td>80</td>\n",
       "      <td>110</td>\n",
       "    </tr>\n",
       "    <tr>\n",
       "      <th>诸葛亮</th>\n",
       "      <td>120</td>\n",
       "      <td>60</td>\n",
       "      <td>100</td>\n",
       "    </tr>\n",
       "    <tr>\n",
       "      <th>赵云</th>\n",
       "      <td>120</td>\n",
       "      <td>120</td>\n",
       "      <td>112</td>\n",
       "    </tr>\n",
       "  </tbody>\n",
       "</table>\n",
       "</div>"
      ],
      "text/plain": [
       "      语文   物理   英语\n",
       "刘备   116   90  115\n",
       "关羽   106   80  110\n",
       "诸葛亮  120   60  100\n",
       "赵云   120  120  112"
      ]
     },
     "execution_count": 51,
     "metadata": {},
     "output_type": "execute_result"
    }
   ],
   "source": [
    "df.drop(index='张飞', inplace=True)\n",
    "# df.drop(labels='张飞', axis=0, inplace=True)\n",
    "# df = df.drop(index='张飞')\n",
    "df"
   ]
  },
  {
   "cell_type": "markdown",
   "id": "45f5209f",
   "metadata": {},
   "source": [
    "## 删除指定条件的行"
   ]
  },
  {
   "cell_type": "markdown",
   "id": "ae82244c",
   "metadata": {},
   "source": [
    "### 删除“物理”等于60或80的行"
   ]
  },
  {
   "cell_type": "code",
   "execution_count": 56,
   "id": "90079645",
   "metadata": {},
   "outputs": [
    {
     "data": {
      "text/html": [
       "<div>\n",
       "<style scoped>\n",
       "    .dataframe tbody tr th:only-of-type {\n",
       "        vertical-align: middle;\n",
       "    }\n",
       "\n",
       "    .dataframe tbody tr th {\n",
       "        vertical-align: top;\n",
       "    }\n",
       "\n",
       "    .dataframe thead th {\n",
       "        text-align: right;\n",
       "    }\n",
       "</style>\n",
       "<table border=\"1\" class=\"dataframe\">\n",
       "  <thead>\n",
       "    <tr style=\"text-align: right;\">\n",
       "      <th></th>\n",
       "      <th>语文</th>\n",
       "      <th>物理</th>\n",
       "      <th>英语</th>\n",
       "    </tr>\n",
       "  </thead>\n",
       "  <tbody>\n",
       "    <tr>\n",
       "      <th>刘备</th>\n",
       "      <td>116</td>\n",
       "      <td>90</td>\n",
       "      <td>115</td>\n",
       "    </tr>\n",
       "    <tr>\n",
       "      <th>赵云</th>\n",
       "      <td>120</td>\n",
       "      <td>120</td>\n",
       "      <td>112</td>\n",
       "    </tr>\n",
       "  </tbody>\n",
       "</table>\n",
       "</div>"
      ],
      "text/plain": [
       "     语文   物理   英语\n",
       "刘备  116   90  115\n",
       "赵云  120  120  112"
      ]
     },
     "execution_count": 56,
     "metadata": {},
     "output_type": "execute_result"
    }
   ],
   "source": [
    "index = df[(df['物理'] == 60) | (df['物理'] == 80)].index\n",
    "# index = df[df['物理'].isin([60, 80])].index\n",
    "df.drop(index=index, inplace=True)\n",
    "df"
   ]
  },
  {
   "cell_type": "markdown",
   "id": "0afe375c",
   "metadata": {},
   "source": [
    "### 删除“语文”小于120的行"
   ]
  },
  {
   "cell_type": "code",
   "execution_count": 60,
   "id": "7853d847",
   "metadata": {},
   "outputs": [],
   "source": [
    "index = df[df['语文'] < 120].index\n",
    "df.drop(index=index, inplace=True)"
   ]
  },
  {
   "cell_type": "code",
   "execution_count": 61,
   "id": "6780de53",
   "metadata": {},
   "outputs": [
    {
     "data": {
      "text/html": [
       "<div>\n",
       "<style scoped>\n",
       "    .dataframe tbody tr th:only-of-type {\n",
       "        vertical-align: middle;\n",
       "    }\n",
       "\n",
       "    .dataframe tbody tr th {\n",
       "        vertical-align: top;\n",
       "    }\n",
       "\n",
       "    .dataframe thead th {\n",
       "        text-align: right;\n",
       "    }\n",
       "</style>\n",
       "<table border=\"1\" class=\"dataframe\">\n",
       "  <thead>\n",
       "    <tr style=\"text-align: right;\">\n",
       "      <th></th>\n",
       "      <th>语文</th>\n",
       "      <th>物理</th>\n",
       "      <th>英语</th>\n",
       "    </tr>\n",
       "  </thead>\n",
       "  <tbody>\n",
       "    <tr>\n",
       "      <th>赵云</th>\n",
       "      <td>120</td>\n",
       "      <td>120</td>\n",
       "      <td>112</td>\n",
       "    </tr>\n",
       "  </tbody>\n",
       "</table>\n",
       "</div>"
      ],
      "text/plain": [
       "     语文   物理   英语\n",
       "赵云  120  120  112"
      ]
     },
     "execution_count": 61,
     "metadata": {},
     "output_type": "execute_result"
    }
   ],
   "source": [
    "df"
   ]
  },
  {
   "cell_type": "code",
   "execution_count": null,
   "id": "737a3574",
   "metadata": {},
   "outputs": [],
   "source": []
  }
 ],
 "metadata": {
  "hide_input": false,
  "jupytext": {
   "cell_metadata_filter": "-all",
   "encoding": "# -*- coding: utf-8 -*-",
   "notebook_metadata_filter": "-all"
  },
  "kernelspec": {
   "display_name": "Python 3",
   "language": "python",
   "name": "python3"
  },
  "language_info": {
   "codemirror_mode": {
    "name": "ipython",
    "version": 3
   },
   "file_extension": ".py",
   "mimetype": "text/x-python",
   "name": "python",
   "nbconvert_exporter": "python",
   "pygments_lexer": "ipython3",
   "version": "3.8.8"
  },
  "toc": {
   "base_numbering": 1,
   "nav_menu": {},
   "number_sections": true,
   "sideBar": true,
   "skip_h1_title": false,
   "title_cell": "Table of Contents",
   "title_sidebar": "Contents",
   "toc_cell": false,
   "toc_position": {
    "height": "calc(100% - 180px)",
    "left": "10px",
    "top": "150px",
    "width": "212.8px"
   },
   "toc_section_display": true,
   "toc_window_display": true
  },
  "varInspector": {
   "cols": {
    "lenName": 16,
    "lenType": 16,
    "lenVar": 40
   },
   "kernels_config": {
    "python": {
     "delete_cmd_postfix": "",
     "delete_cmd_prefix": "del ",
     "library": "var_list.py",
     "varRefreshCmd": "print(var_dic_list())"
    },
    "r": {
     "delete_cmd_postfix": ") ",
     "delete_cmd_prefix": "rm(",
     "library": "var_list.r",
     "varRefreshCmd": "cat(var_dic_list()) "
    }
   },
   "types_to_exclude": [
    "module",
    "function",
    "builtin_function_or_method",
    "instance",
    "_Feature"
   ],
   "window_display": false
  }
 },
 "nbformat": 4,
 "nbformat_minor": 5
}
