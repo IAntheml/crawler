{
 "cells": [
  {
   "cell_type": "markdown",
   "id": "783ddb16",
   "metadata": {},
   "source": [
    "## 导入库"
   ]
  },
  {
   "cell_type": "code",
   "execution_count": 1,
   "id": "f3a3caec",
   "metadata": {},
   "outputs": [],
   "source": [
    "import pandas as pd\n",
    "import warnings"
   ]
  },
  {
   "cell_type": "markdown",
   "id": "223baad2",
   "metadata": {
    "code_folding": []
   },
   "source": [
    "## 屏蔽警告提示"
   ]
  },
  {
   "cell_type": "code",
   "execution_count": 2,
   "id": "a9d1ef6b",
   "metadata": {},
   "outputs": [],
   "source": [
    "warnings.filterwarnings('ignore')"
   ]
  },
  {
   "cell_type": "markdown",
   "id": "480d0979",
   "metadata": {},
   "source": [
    "## 读取Excel"
   ]
  },
  {
   "cell_type": "code",
   "execution_count": 3,
   "id": "d4f28d95",
   "metadata": {},
   "outputs": [],
   "source": [
    "df = pd.read_excel('./data/demo_01.xlsx', engine='openpyxl')"
   ]
  },
  {
   "cell_type": "markdown",
   "id": "881c8184",
   "metadata": {},
   "source": [
    "## 预览前5行"
   ]
  },
  {
   "cell_type": "code",
   "execution_count": 6,
   "id": "ffe0b712",
   "metadata": {
    "lines_to_next_cell": 2
   },
   "outputs": [
    {
     "data": {
      "text/html": [
       "<div>\n",
       "<style scoped>\n",
       "    .dataframe tbody tr th:only-of-type {\n",
       "        vertical-align: middle;\n",
       "    }\n",
       "\n",
       "    .dataframe tbody tr th {\n",
       "        vertical-align: top;\n",
       "    }\n",
       "\n",
       "    .dataframe thead th {\n",
       "        text-align: right;\n",
       "    }\n",
       "</style>\n",
       "<table border=\"1\" class=\"dataframe\">\n",
       "  <thead>\n",
       "    <tr style=\"text-align: right;\">\n",
       "      <th></th>\n",
       "      <th>姓名</th>\n",
       "      <th>电话</th>\n",
       "    </tr>\n",
       "  </thead>\n",
       "  <tbody>\n",
       "    <tr>\n",
       "      <th>0</th>\n",
       "      <td>李雪</td>\n",
       "      <td>13655497526</td>\n",
       "    </tr>\n",
       "    <tr>\n",
       "      <th>1</th>\n",
       "      <td>易强</td>\n",
       "      <td>13496746027</td>\n",
       "    </tr>\n",
       "    <tr>\n",
       "      <th>2</th>\n",
       "      <td>王桂花</td>\n",
       "      <td>13387348085</td>\n",
       "    </tr>\n",
       "    <tr>\n",
       "      <th>3</th>\n",
       "      <td>李磊</td>\n",
       "      <td>18918743191</td>\n",
       "    </tr>\n",
       "    <tr>\n",
       "      <th>4</th>\n",
       "      <td>汪洁</td>\n",
       "      <td>13264456992</td>\n",
       "    </tr>\n",
       "  </tbody>\n",
       "</table>\n",
       "</div>"
      ],
      "text/plain": [
       "    姓名           电话\n",
       "0   李雪  13655497526\n",
       "1   易强  13496746027\n",
       "2  王桂花  13387348085\n",
       "3   李磊  18918743191\n",
       "4   汪洁  13264456992"
      ]
     },
     "execution_count": 6,
     "metadata": {},
     "output_type": "execute_result"
    }
   ],
   "source": [
    "df.head()"
   ]
  },
  {
   "cell_type": "markdown",
   "id": "26d7a0d6",
   "metadata": {},
   "source": [
    "## 列名对齐\n",
    "- display.unicode.ambiguous_as_wide\n",
    "- display.unicode.east_asian_width"
   ]
  },
  {
   "cell_type": "code",
   "execution_count": null,
   "id": "f62aaaf1",
   "metadata": {},
   "outputs": [],
   "source": [
    "pd.set_option('display.unicode.ambiguous_as_wide', True)\n",
    "pd.set_option('display.unicode.east_asian_width', True)"
   ]
  },
  {
   "cell_type": "markdown",
   "id": "2a319922",
   "metadata": {},
   "source": [
    "## 禁止换行"
   ]
  },
  {
   "cell_type": "code",
   "execution_count": null,
   "id": "d9482834",
   "metadata": {},
   "outputs": [],
   "source": [
    "pd.set_option('expand_frame_repr', False)"
   ]
  },
  {
   "cell_type": "markdown",
   "id": "50f3947c",
   "metadata": {},
   "source": [
    "## 显示所有行"
   ]
  },
  {
   "cell_type": "code",
   "execution_count": null,
   "id": "fc11b979",
   "metadata": {},
   "outputs": [],
   "source": [
    "pd.set_option('display.max_rows', None)"
   ]
  },
  {
   "cell_type": "markdown",
   "id": "b11a56a8",
   "metadata": {},
   "source": [
    "## 最多显示10行"
   ]
  },
  {
   "cell_type": "code",
   "execution_count": null,
   "id": "8a70a75e",
   "metadata": {},
   "outputs": [],
   "source": [
    "pd.set_option('display.max_rows', 10)"
   ]
  },
  {
   "cell_type": "markdown",
   "id": "d3b67a1a",
   "metadata": {},
   "source": [
    "## 显示所有列"
   ]
  },
  {
   "cell_type": "code",
   "execution_count": null,
   "id": "4813b819",
   "metadata": {},
   "outputs": [],
   "source": [
    "pd.set_option('display.max_columns', None)"
   ]
  },
  {
   "cell_type": "markdown",
   "id": "e3ab94d5",
   "metadata": {},
   "source": [
    "## 最多显示10列"
   ]
  },
  {
   "cell_type": "code",
   "execution_count": null,
   "id": "2f9e30c0",
   "metadata": {},
   "outputs": [],
   "source": [
    "pd.set_option('display.max_columns', 10)"
   ]
  },
  {
   "cell_type": "markdown",
   "id": "0a352c73",
   "metadata": {},
   "source": [
    "## 设置内容的显示宽度"
   ]
  },
  {
   "cell_type": "code",
   "execution_count": null,
   "id": "5a4a0ce4",
   "metadata": {},
   "outputs": [],
   "source": [
    "pd.set_option('display.width', 100)"
   ]
  },
  {
   "cell_type": "markdown",
   "id": "fac08bb6",
   "metadata": {},
   "source": [
    "## 设置数值的显示精度"
   ]
  },
  {
   "cell_type": "code",
   "execution_count": null,
   "id": "e4cd25e9",
   "metadata": {},
   "outputs": [],
   "source": [
    "pd.set_option('display.precision', 2)"
   ]
  },
  {
   "cell_type": "markdown",
   "id": "40c95d03",
   "metadata": {},
   "source": [
    "## 设置小数的显示格式"
   ]
  },
  {
   "cell_type": "code",
   "execution_count": null,
   "id": "d5c67418",
   "metadata": {},
   "outputs": [],
   "source": [
    "pd.set_option('display.float_format', lambda x: '%.2f' % x)\n",
    "# '{:.2f}'.format(x)，小数点\n",
    "# '{:.2%}'.format(x)，百分比"
   ]
  },
  {
   "cell_type": "markdown",
   "id": "dedd98dd",
   "metadata": {},
   "source": [
    "## 设置计算引擎"
   ]
  },
  {
   "cell_type": "code",
   "execution_count": null,
   "id": "aaf17e93",
   "metadata": {},
   "outputs": [],
   "source": [
    "pd.set_option('compute.use_numba', True)"
   ]
  },
  {
   "cell_type": "markdown",
   "id": "68e6ab8d",
   "metadata": {},
   "source": [
    "## 获取指定选项的设置情况"
   ]
  },
  {
   "cell_type": "code",
   "execution_count": 7,
   "id": "96d5c465",
   "metadata": {},
   "outputs": [
    {
     "data": {
      "text/plain": [
       "False"
      ]
     },
     "execution_count": 7,
     "metadata": {},
     "output_type": "execute_result"
    }
   ],
   "source": [
    "pd.get_option('compute.use_numba')"
   ]
  },
  {
   "cell_type": "markdown",
   "id": "5d502b03",
   "metadata": {},
   "source": [
    "## 条件格式"
   ]
  },
  {
   "cell_type": "code",
   "execution_count": null,
   "id": "b7782999",
   "metadata": {
    "code_folding": [],
    "lines_to_next_cell": 2
   },
   "outputs": [],
   "source": [
    "# pandas.io.formats.style.Styler"
   ]
  },
  {
   "cell_type": "code",
   "execution_count": 8,
   "id": "41496f35",
   "metadata": {},
   "outputs": [
    {
     "data": {
      "text/html": [
       "<style  type=\"text/css\" >\n",
       "#T_ef377_row3_col1{\n",
       "            background-color:  yellow;\n",
       "        }</style><table id=\"T_ef377_\" ><thead>    <tr>        <th class=\"blank level0\" ></th>        <th class=\"col_heading level0 col0\" >姓名</th>        <th class=\"col_heading level0 col1\" >电话</th>    </tr></thead><tbody>\n",
       "                <tr>\n",
       "                        <th id=\"T_ef377_level0_row0\" class=\"row_heading level0 row0\" >0</th>\n",
       "                        <td id=\"T_ef377_row0_col0\" class=\"data row0 col0\" >李雪</td>\n",
       "                        <td id=\"T_ef377_row0_col1\" class=\"data row0 col1\" >13655497526</td>\n",
       "            </tr>\n",
       "            <tr>\n",
       "                        <th id=\"T_ef377_level0_row1\" class=\"row_heading level0 row1\" >1</th>\n",
       "                        <td id=\"T_ef377_row1_col0\" class=\"data row1 col0\" >易强</td>\n",
       "                        <td id=\"T_ef377_row1_col1\" class=\"data row1 col1\" >13496746027</td>\n",
       "            </tr>\n",
       "            <tr>\n",
       "                        <th id=\"T_ef377_level0_row2\" class=\"row_heading level0 row2\" >2</th>\n",
       "                        <td id=\"T_ef377_row2_col0\" class=\"data row2 col0\" >王桂花</td>\n",
       "                        <td id=\"T_ef377_row2_col1\" class=\"data row2 col1\" >13387348085</td>\n",
       "            </tr>\n",
       "            <tr>\n",
       "                        <th id=\"T_ef377_level0_row3\" class=\"row_heading level0 row3\" >3</th>\n",
       "                        <td id=\"T_ef377_row3_col0\" class=\"data row3 col0\" >李磊</td>\n",
       "                        <td id=\"T_ef377_row3_col1\" class=\"data row3 col1\" >18918743191</td>\n",
       "            </tr>\n",
       "            <tr>\n",
       "                        <th id=\"T_ef377_level0_row4\" class=\"row_heading level0 row4\" >4</th>\n",
       "                        <td id=\"T_ef377_row4_col0\" class=\"data row4 col0\" >汪洁</td>\n",
       "                        <td id=\"T_ef377_row4_col1\" class=\"data row4 col1\" >13264456992</td>\n",
       "            </tr>\n",
       "            <tr>\n",
       "                        <th id=\"T_ef377_level0_row5\" class=\"row_heading level0 row5\" >5</th>\n",
       "                        <td id=\"T_ef377_row5_col0\" class=\"data row5 col0\" >李楠</td>\n",
       "                        <td id=\"T_ef377_row5_col1\" class=\"data row5 col1\" >18206516775</td>\n",
       "            </tr>\n",
       "            <tr>\n",
       "                        <th id=\"T_ef377_level0_row6\" class=\"row_heading level0 row6\" >6</th>\n",
       "                        <td id=\"T_ef377_row6_col0\" class=\"data row6 col0\" >李瑜</td>\n",
       "                        <td id=\"T_ef377_row6_col1\" class=\"data row6 col1\" >18206544778</td>\n",
       "            </tr>\n",
       "            <tr>\n",
       "                        <th id=\"T_ef377_level0_row7\" class=\"row_heading level0 row7\" >7</th>\n",
       "                        <td id=\"T_ef377_row7_col0\" class=\"data row7 col0\" >王艳</td>\n",
       "                        <td id=\"T_ef377_row7_col1\" class=\"data row7 col1\" >18764721962</td>\n",
       "            </tr>\n",
       "            <tr>\n",
       "                        <th id=\"T_ef377_level0_row8\" class=\"row_heading level0 row8\" >8</th>\n",
       "                        <td id=\"T_ef377_row8_col0\" class=\"data row8 col0\" >李凤兰</td>\n",
       "                        <td id=\"T_ef377_row8_col1\" class=\"data row8 col1\" >15159678123</td>\n",
       "            </tr>\n",
       "            <tr>\n",
       "                        <th id=\"T_ef377_level0_row9\" class=\"row_heading level0 row9\" >9</th>\n",
       "                        <td id=\"T_ef377_row9_col0\" class=\"data row9 col0\" >孙建</td>\n",
       "                        <td id=\"T_ef377_row9_col1\" class=\"data row9 col1\" >14763015575</td>\n",
       "            </tr>\n",
       "    </tbody></table>"
      ],
      "text/plain": [
       "<pandas.io.formats.style.Styler at 0x2641efd7130>"
      ]
     },
     "execution_count": 8,
     "metadata": {},
     "output_type": "execute_result"
    }
   ],
   "source": [
    "df.style.highlight_max()"
   ]
  },
  {
   "cell_type": "code",
   "execution_count": null,
   "id": "06d5b200",
   "metadata": {},
   "outputs": [],
   "source": []
  }
 ],
 "metadata": {
  "hide_input": false,
  "jupytext": {
   "cell_metadata_filter": "-all",
   "notebook_metadata_filter": "-all"
  },
  "kernelspec": {
   "display_name": "Python 3",
   "language": "python",
   "name": "python3"
  },
  "language_info": {
   "codemirror_mode": {
    "name": "ipython",
    "version": 3
   },
   "file_extension": ".py",
   "mimetype": "text/x-python",
   "name": "python",
   "nbconvert_exporter": "python",
   "pygments_lexer": "ipython3",
   "version": "3.8.8"
  },
  "toc": {
   "base_numbering": 1,
   "nav_menu": {},
   "number_sections": true,
   "sideBar": true,
   "skip_h1_title": false,
   "title_cell": "Table of Contents",
   "title_sidebar": "Contents",
   "toc_cell": false,
   "toc_position": {},
   "toc_section_display": true,
   "toc_window_display": true
  },
  "varInspector": {
   "cols": {
    "lenName": 16,
    "lenType": 16,
    "lenVar": 40
   },
   "kernels_config": {
    "python": {
     "delete_cmd_postfix": "",
     "delete_cmd_prefix": "del ",
     "library": "var_list.py",
     "varRefreshCmd": "print(var_dic_list())"
    },
    "r": {
     "delete_cmd_postfix": ") ",
     "delete_cmd_prefix": "rm(",
     "library": "var_list.r",
     "varRefreshCmd": "cat(var_dic_list()) "
    }
   },
   "types_to_exclude": [
    "module",
    "function",
    "builtin_function_or_method",
    "instance",
    "_Feature"
   ],
   "window_display": false
  }
 },
 "nbformat": 4,
 "nbformat_minor": 5
}
