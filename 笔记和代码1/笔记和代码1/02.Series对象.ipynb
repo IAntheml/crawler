{
 "cells": [
  {
   "cell_type": "code",
   "execution_count": 1,
   "id": "d046c6ad",
   "metadata": {},
   "outputs": [],
   "source": [
    "import pandas as pd"
   ]
  },
  {
   "cell_type": "markdown",
   "id": "bf7cecf3",
   "metadata": {},
   "source": [
    "# 创建Series对象"
   ]
  },
  {
   "cell_type": "code",
   "execution_count": 2,
   "id": "cab31e25",
   "metadata": {},
   "outputs": [
    {
     "data": {
      "text/plain": [
       "0    85\n",
       "1    95\n",
       "2    75\n",
       "dtype: int64"
      ]
     },
     "execution_count": 2,
     "metadata": {},
     "output_type": "execute_result"
    }
   ],
   "source": [
    "s1 = pd.Series([85, 95, 75])\n",
    "s1"
   ]
  },
  {
   "cell_type": "markdown",
   "id": "bc391749",
   "metadata": {},
   "source": [
    "# 设置Series索引"
   ]
  },
  {
   "cell_type": "markdown",
   "id": "247c7864",
   "metadata": {},
   "source": [
    "## 数字索引"
   ]
  },
  {
   "cell_type": "code",
   "execution_count": 3,
   "id": "bb68ff72",
   "metadata": {},
   "outputs": [
    {
     "data": {
      "text/plain": [
       "1    85\n",
       "2    95\n",
       "3    75\n",
       "dtype: int64"
      ]
     },
     "execution_count": 3,
     "metadata": {},
     "output_type": "execute_result"
    }
   ],
   "source": [
    "s2 = pd.Series([85, 95, 75], index=[1, 2, 3])\n",
    "s2"
   ]
  },
  {
   "cell_type": "markdown",
   "id": "e606e027",
   "metadata": {},
   "source": [
    "## 字符串索引"
   ]
  },
  {
   "cell_type": "code",
   "execution_count": 4,
   "id": "158828e4",
   "metadata": {
    "lines_to_next_cell": 2
   },
   "outputs": [
    {
     "data": {
      "text/plain": [
       "张三    85\n",
       "李四    95\n",
       "王五    75\n",
       "dtype: int64"
      ]
     },
     "execution_count": 4,
     "metadata": {},
     "output_type": "execute_result"
    }
   ],
   "source": [
    "s3 = pd.Series([85, 95, 75], index=['张三', '李四', '王五'])\n",
    "s3"
   ]
  },
  {
   "cell_type": "markdown",
   "id": "14709b47",
   "metadata": {},
   "source": [
    "# Series的索引操作"
   ]
  },
  {
   "cell_type": "code",
   "execution_count": 5,
   "id": "6d23088c",
   "metadata": {},
   "outputs": [
    {
     "data": {
      "text/plain": [
       "张三    85\n",
       "李四    95\n",
       "王五    75\n",
       "dtype: int64"
      ]
     },
     "execution_count": 5,
     "metadata": {},
     "output_type": "execute_result"
    }
   ],
   "source": [
    "s4 = pd.Series([85, 95, 75], index=['张三', '李四', '王五'])\n",
    "s4"
   ]
  },
  {
   "cell_type": "markdown",
   "id": "cd551ad9",
   "metadata": {},
   "source": [
    "## 通过索引号获取值"
   ]
  },
  {
   "cell_type": "code",
   "execution_count": 6,
   "id": "fea83da7",
   "metadata": {},
   "outputs": [
    {
     "data": {
      "text/plain": [
       "85"
      ]
     },
     "execution_count": 6,
     "metadata": {},
     "output_type": "execute_result"
    }
   ],
   "source": [
    "s4[0]"
   ]
  },
  {
   "cell_type": "markdown",
   "id": "6f8ac91a",
   "metadata": {},
   "source": [
    "## 通过索引名获取值"
   ]
  },
  {
   "cell_type": "code",
   "execution_count": 7,
   "id": "c8911398",
   "metadata": {},
   "outputs": [
    {
     "data": {
      "text/plain": [
       "85"
      ]
     },
     "execution_count": 7,
     "metadata": {},
     "output_type": "execute_result"
    }
   ],
   "source": [
    "s4['张三']"
   ]
  },
  {
   "cell_type": "markdown",
   "id": "4cada31a",
   "metadata": {},
   "source": [
    "## 通过多个索引名获取值"
   ]
  },
  {
   "cell_type": "code",
   "execution_count": 9,
   "id": "dacdc02a",
   "metadata": {},
   "outputs": [
    {
     "data": {
      "text/plain": [
       "张三    85\n",
       "王五    75\n",
       "dtype: int64"
      ]
     },
     "execution_count": 9,
     "metadata": {},
     "output_type": "execute_result"
    }
   ],
   "source": [
    "s4[['张三', '王五']]"
   ]
  },
  {
   "cell_type": "markdown",
   "id": "25a52a82",
   "metadata": {
    "lines_to_next_cell": 2
   },
   "source": [
    "## 通过索引名切片获取值"
   ]
  },
  {
   "cell_type": "code",
   "execution_count": 15,
   "id": "41503701",
   "metadata": {},
   "outputs": [
    {
     "data": {
      "text/plain": [
       "张三    85\n",
       "李四    95\n",
       "王五    75\n",
       "dtype: int64"
      ]
     },
     "execution_count": 15,
     "metadata": {},
     "output_type": "execute_result"
    }
   ],
   "source": [
    "s4['张三':'王五'] # 左闭右闭，一个中括号"
   ]
  },
  {
   "cell_type": "markdown",
   "id": "bf7a390e",
   "metadata": {},
   "source": [
    "## 通过索引号切片获取值"
   ]
  },
  {
   "cell_type": "code",
   "execution_count": 16,
   "id": "5c6f4511",
   "metadata": {
    "lines_to_next_cell": 2
   },
   "outputs": [
    {
     "data": {
      "text/plain": [
       "张三    85\n",
       "dtype: int64"
      ]
     },
     "execution_count": 16,
     "metadata": {},
     "output_type": "execute_result"
    }
   ],
   "source": [
    "s4[0:1]  # 左闭右开"
   ]
  },
  {
   "cell_type": "markdown",
   "id": "d8db08da",
   "metadata": {},
   "source": [
    "## 获取Series的索引"
   ]
  },
  {
   "cell_type": "code",
   "execution_count": 17,
   "id": "e8dd92dc",
   "metadata": {},
   "outputs": [
    {
     "data": {
      "text/plain": [
       "Index(['张三', '李四', '王五'], dtype='object')"
      ]
     },
     "execution_count": 17,
     "metadata": {},
     "output_type": "execute_result"
    }
   ],
   "source": [
    "s4.index"
   ]
  },
  {
   "cell_type": "markdown",
   "id": "e717af5b",
   "metadata": {},
   "source": [
    "## 获取Series的值"
   ]
  },
  {
   "cell_type": "code",
   "execution_count": 18,
   "id": "560d7bc4",
   "metadata": {},
   "outputs": [
    {
     "data": {
      "text/plain": [
       "array([85, 95, 75], dtype=int64)"
      ]
     },
     "execution_count": 18,
     "metadata": {},
     "output_type": "execute_result"
    }
   ],
   "source": [
    "s4.values"
   ]
  },
  {
   "cell_type": "markdown",
   "id": "1ec78de5",
   "metadata": {},
   "source": [
    "## 判断Series是否包含空值"
   ]
  },
  {
   "cell_type": "code",
   "execution_count": 20,
   "id": "acd49087",
   "metadata": {
    "code_folding": []
   },
   "outputs": [
    {
     "data": {
      "text/plain": [
       "False"
      ]
     },
     "execution_count": 20,
     "metadata": {},
     "output_type": "execute_result"
    }
   ],
   "source": [
    "s4.hasnans"
   ]
  },
  {
   "cell_type": "code",
   "execution_count": null,
   "id": "9656eebb",
   "metadata": {},
   "outputs": [],
   "source": []
  }
 ],
 "metadata": {
  "hide_input": false,
  "jupytext": {
   "cell_metadata_filter": "-all",
   "encoding": "# -*- coding: utf-8 -*-",
   "notebook_metadata_filter": "-all"
  },
  "kernelspec": {
   "display_name": "Python 3",
   "language": "python",
   "name": "python3"
  },
  "language_info": {
   "codemirror_mode": {
    "name": "ipython",
    "version": 3
   },
   "file_extension": ".py",
   "mimetype": "text/x-python",
   "name": "python",
   "nbconvert_exporter": "python",
   "pygments_lexer": "ipython3",
   "version": "3.8.8"
  },
  "toc": {
   "base_numbering": 1,
   "nav_menu": {},
   "number_sections": true,
   "sideBar": true,
   "skip_h1_title": false,
   "title_cell": "Table of Contents",
   "title_sidebar": "Contents",
   "toc_cell": false,
   "toc_position": {},
   "toc_section_display": true,
   "toc_window_display": true
  },
  "varInspector": {
   "cols": {
    "lenName": 16,
    "lenType": 16,
    "lenVar": 40
   },
   "kernels_config": {
    "python": {
     "delete_cmd_postfix": "",
     "delete_cmd_prefix": "del ",
     "library": "var_list.py",
     "varRefreshCmd": "print(var_dic_list())"
    },
    "r": {
     "delete_cmd_postfix": ") ",
     "delete_cmd_prefix": "rm(",
     "library": "var_list.r",
     "varRefreshCmd": "cat(var_dic_list()) "
    }
   },
   "types_to_exclude": [
    "module",
    "function",
    "builtin_function_or_method",
    "instance",
    "_Feature"
   ],
   "window_display": false
  }
 },
 "nbformat": 4,
 "nbformat_minor": 5
}
